{
  "nbformat": 4,
  "nbformat_minor": 0,
  "metadata": {
    "colab": {
      "name": "Tarea 1 Aproximacion pi.ipynb",
      "provenance": [],
      "collapsed_sections": [],
      "authorship_tag": "ABX9TyM5CT/K0Xf6AA3kpnbAGMpZ",
      "include_colab_link": true
    },
    "kernelspec": {
      "name": "python3",
      "display_name": "Python 3"
    },
    "language_info": {
      "name": "python"
    }
  },
  "cells": [
    {
      "cell_type": "markdown",
      "metadata": {
        "id": "view-in-github",
        "colab_type": "text"
      },
      "source": [
        "<a href=\"https://colab.research.google.com/github/MaxGarnica/Trabajos_SimulacionII/blob/main/Tarea_1_Aproximacion_pi.ipynb\" target=\"_parent\"><img src=\"https://colab.research.google.com/assets/colab-badge.svg\" alt=\"Open In Colab\"/></a>"
      ]
    },
    {
      "cell_type": "markdown",
      "source": [
        "*Maximiliano Garnica López*\n",
        "\n",
        "*Tarea 1*\n",
        "\n",
        "*Simulación II*"
      ],
      "metadata": {
        "id": "yLi1_XZWmZMI"
      }
    },
    {
      "cell_type": "code",
      "execution_count": null,
      "metadata": {
        "id": "wFF381YoTDeD"
      },
      "outputs": [],
      "source": [
        "import random  "
      ]
    },
    {
      "cell_type": "markdown",
      "source": [
        "Tomamos un circulo de radio 2 circuscrito en un cuadrado de lado 4.\n",
        "\n",
        "Ahora obtendremos puntos aleatorios que caigan dentro del cuadrado, esto para poder utilizar la siguiente formula para estimar $\\pi$\n",
        "\n",
        "$\\frac{\\pi r^2}{4*2*r}=\\frac{\\text{Puntos dentro de la circunferencia}}{\\text{Puntos totales}}$\n",
        "\n",
        "$ \\pi=\\frac{(4*2*r)\\text{(Puntos dentro de la circunferencia)}}{(r^2)\\text{(Puntos totales)}} $\n",
        "\n",
        "$ \\pi=\\frac{(4*2)\\text{(Puntos dentro de la circunferencia)}}{(r)\\text{(Puntos totales)}} $\n",
        "\n",
        "sabemos que el radio de nuestra circunferencia es $r=2$, entonces:\n",
        "\n",
        "$ \\pi=\\frac{(4*2)\\text{(Puntos dentro de la circunferencia)}}{(2)\\text{(Puntos totales)}} $\n",
        "\n",
        "Finalmente la ecuacion a utilizar es:\n",
        "\n",
        "$\\pi=\\frac{4*\\text{(Puntos dentro de la circunferencia)}}{\\text{Puntos totales}}$\n",
        "\n",
        "\n",
        "Primero debemos obtener los puntos que caen dentro de la circunferencia a los cuales llamaremos $p$ y a todos los puntos obtenidos los llamaremos $t$. Entonces:"
      ],
      "metadata": {
        "id": "qq5CE7IfTwMq"
      }
    },
    {
      "cell_type": "code",
      "source": [
        "p=0\n",
        "t=10000\n",
        "for i in range(t):\n",
        "  x=random.uniform(-2, 2)\n",
        "  y=random.uniform(-2, 2)\n",
        "\n",
        "  #print('%5.4f' %x,end=' ')\n",
        "  #print('%5.4f' %y,end=' \\n')\n",
        "\n",
        "  a=pow(x,2)+pow(y,2)\n",
        "\n",
        "  if a<4.0000 or a==4.0000: \n",
        "    p=p+1\n",
        "\n",
        "print('p=%d' %p)\n",
        "print('t=%d' %t)"
      ],
      "metadata": {
        "colab": {
          "base_uri": "https://localhost:8080/"
        },
        "id": "zJrQDt30ZuAP",
        "outputId": "fcb7cff9-fd93-4316-cbd7-1e499777a90c"
      },
      "execution_count": null,
      "outputs": [
        {
          "output_type": "stream",
          "name": "stdout",
          "text": [
            "p=7864\n",
            "t=10000\n"
          ]
        }
      ]
    },
    {
      "cell_type": "markdown",
      "source": [
        "Ahora solo resta obtener $\\pi$"
      ],
      "metadata": {
        "id": "dQal2PIeigiA"
      }
    },
    {
      "cell_type": "code",
      "source": [
        "pi=4*p/t\n",
        "\n",
        "print('pi=%f' %pi)"
      ],
      "metadata": {
        "colab": {
          "base_uri": "https://localhost:8080/"
        },
        "id": "7Jmt28Mwi4Oh",
        "outputId": "49627023-bd9f-488a-afe9-8a6e675b9d12"
      },
      "execution_count": null,
      "outputs": [
        {
          "output_type": "stream",
          "name": "stdout",
          "text": [
            "pi=3.145600\n"
          ]
        }
      ]
    },
    {
      "cell_type": "markdown",
      "source": [
        "El valor anterior es nuestra aproximación de $\\pi$.\n",
        "\n",
        "Podemos tener una mejor aproximación al aumentar el valor de $t$."
      ],
      "metadata": {
        "id": "gb24TdMrl18y"
      }
    }
  ]
}