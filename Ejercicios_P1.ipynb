{
  "nbformat": 4,
  "nbformat_minor": 0,
  "metadata": {
    "colab": {
      "name": "Ejercicios P1.ipynb",
      "provenance": [],
      "authorship_tag": "ABX9TyNFp3UWzTkfmRgpcZ38WAmf",
      "include_colab_link": true
    },
    "kernelspec": {
      "name": "python3",
      "display_name": "Python 3"
    },
    "language_info": {
      "name": "python"
    }
  },
  "cells": [
    {
      "cell_type": "markdown",
      "metadata": {
        "id": "view-in-github",
        "colab_type": "text"
      },
      "source": [
        "<a href=\"https://colab.research.google.com/github/MaxGarnica/Trabajos_SimulacionII/blob/main/Ejercicios_P1.ipynb\" target=\"_parent\"><img src=\"https://colab.research.google.com/assets/colab-badge.svg\" alt=\"Open In Colab\"/></a>"
      ]
    },
    {
      "cell_type": "markdown",
      "source": [
        "*Maximiliano Garnica López*\n",
        "\n",
        "*Ejercicios*\n",
        "\n",
        "*Simulación II*"
      ],
      "metadata": {
        "id": "neKYcBxCuNOT"
      }
    },
    {
      "cell_type": "markdown",
      "source": [
        "# **PRIMER PARCIAL**"
      ],
      "metadata": {
        "id": "JqG9EvFvvWiU"
      }
    },
    {
      "cell_type": "code",
      "source": [
        "import random\n",
        "import matplotlib.pyplot as plt\n",
        "import numpy as np\n",
        "import pandas as pd\n",
        "from statistics import mean, median, variance, stdev "
      ],
      "metadata": {
        "id": "jaAjTKfeaTPq"
      },
      "execution_count": null,
      "outputs": []
    },
    {
      "cell_type": "markdown",
      "source": [
        "## Ejercicio 1"
      ],
      "metadata": {
        "id": "b2IA2BnAYz_c"
      }
    },
    {
      "cell_type": "markdown",
      "source": [
        "###  a) Usar la función $random()$ para simular 1 volado."
      ],
      "metadata": {
        "id": "CkzttKLfHYpy"
      }
    },
    {
      "cell_type": "code",
      "source": [
        "n=random.random()\n",
        "\n",
        "if n<0.5:\n",
        "  print(\"sol\")\n",
        "else:\n",
        "  print(\"aguila\")"
      ],
      "metadata": {
        "colab": {
          "base_uri": "https://localhost:8080/"
        },
        "id": "9QAp-oGRZNoi",
        "outputId": "eb3dd274-5b25-4fa9-f4dd-5f3f8534c79c"
      },
      "execution_count": null,
      "outputs": [
        {
          "output_type": "stream",
          "name": "stdout",
          "text": [
            "aguila\n"
          ]
        }
      ]
    },
    {
      "cell_type": "markdown",
      "source": [
        "###  b) Usar la función $random()$ para simular 1000 volado."
      ],
      "metadata": {
        "id": "LxLE4xF8ag7J"
      }
    },
    {
      "cell_type": "code",
      "source": [
        "for i in range(100):\n",
        "  n=random.random()\n",
        "  if n<0.5:\n",
        "    print(\"sol\")\n",
        "  else:\n",
        "    print(\"aguila\")"
      ],
      "metadata": {
        "id": "Q9_OYtVXanei",
        "colab": {
          "base_uri": "https://localhost:8080/"
        },
        "outputId": "25157ecc-a138-4b67-8fbb-38f58734c0ca"
      },
      "execution_count": null,
      "outputs": [
        {
          "output_type": "stream",
          "name": "stdout",
          "text": [
            "sol\n",
            "aguila\n",
            "sol\n",
            "sol\n",
            "sol\n",
            "aguila\n",
            "sol\n",
            "sol\n",
            "aguila\n",
            "sol\n",
            "aguila\n",
            "aguila\n",
            "aguila\n",
            "sol\n",
            "sol\n",
            "aguila\n",
            "sol\n",
            "sol\n",
            "aguila\n",
            "aguila\n",
            "aguila\n",
            "aguila\n",
            "sol\n",
            "aguila\n",
            "sol\n",
            "aguila\n",
            "aguila\n",
            "sol\n",
            "sol\n",
            "sol\n",
            "aguila\n",
            "aguila\n",
            "aguila\n",
            "aguila\n",
            "aguila\n",
            "sol\n",
            "sol\n",
            "sol\n",
            "sol\n",
            "aguila\n",
            "aguila\n",
            "aguila\n",
            "aguila\n",
            "aguila\n",
            "aguila\n",
            "aguila\n",
            "aguila\n",
            "sol\n",
            "aguila\n",
            "aguila\n",
            "aguila\n",
            "aguila\n",
            "sol\n",
            "aguila\n",
            "sol\n",
            "aguila\n",
            "sol\n",
            "aguila\n",
            "sol\n",
            "sol\n",
            "sol\n",
            "aguila\n",
            "sol\n",
            "aguila\n",
            "sol\n",
            "sol\n",
            "aguila\n",
            "aguila\n",
            "sol\n",
            "aguila\n",
            "aguila\n",
            "aguila\n",
            "sol\n",
            "sol\n",
            "aguila\n",
            "aguila\n",
            "sol\n",
            "aguila\n",
            "aguila\n",
            "sol\n",
            "sol\n",
            "sol\n",
            "sol\n",
            "aguila\n",
            "sol\n",
            "sol\n",
            "sol\n",
            "aguila\n",
            "aguila\n",
            "sol\n",
            "sol\n",
            "aguila\n",
            "sol\n",
            "sol\n",
            "aguila\n",
            "aguila\n",
            "aguila\n",
            "sol\n",
            "sol\n",
            "sol\n"
          ]
        }
      ]
    },
    {
      "cell_type": "markdown",
      "source": [
        "###  c) Determinar de b) la probabilidad de que ocurra \"sol\" en el volado."
      ],
      "metadata": {
        "id": "Ka1sVhx7amle"
      }
    },
    {
      "cell_type": "code",
      "source": [
        "cs=0\n",
        "for i in range(100):\n",
        "  n=random.random()\n",
        "  if n<0.5:\n",
        "    cs=cs+1\n",
        "    #print(\"sol\")\n",
        "  #else:\n",
        "    #print(\"aguila\")\n",
        "\n",
        "print('%d Número total de soles obtenidos' % cs)\n",
        "p=cs/100\n",
        "print('La probabilidad de que ocurra sol es de %f' % p, end=' ')"
      ],
      "metadata": {
        "colab": {
          "base_uri": "https://localhost:8080/"
        },
        "id": "eJrSHB8LbDJ5",
        "outputId": "15165c64-d876-4751-ab74-0e684d1758a3"
      },
      "execution_count": null,
      "outputs": [
        {
          "output_type": "stream",
          "name": "stdout",
          "text": [
            "43 Número total de soles obtenidos\n",
            "La probabilidad de que ocurra sol es de 0.430000 "
          ]
        }
      ]
    },
    {
      "cell_type": "markdown",
      "source": [
        "## Ejercicio 2"
      ],
      "metadata": {
        "id": "qFXukvTPt0Kl"
      }
    },
    {
      "cell_type": "markdown",
      "source": [
        "### a) Simular un sorteo de los colores blanco, negro, rojo, azul y verde."
      ],
      "metadata": {
        "id": "zbT21XMWHktQ"
      }
    },
    {
      "cell_type": "code",
      "execution_count": null,
      "metadata": {
        "id": "-txkzy--seAq",
        "colab": {
          "base_uri": "https://localhost:8080/"
        },
        "outputId": "c7e0cde8-175e-4cdb-87f3-58b09bc0005f"
      },
      "outputs": [
        {
          "output_type": "stream",
          "name": "stdout",
          "text": [
            "verde\n"
          ]
        }
      ],
      "source": [
        "s=random.randint(1,5)\n",
        "#print(s)\n",
        "\n",
        "if s==1:\n",
        "  print(\"blanco\")\n",
        "if s==2:\n",
        "  print(\"negro\")\n",
        "if s==3:\n",
        "  print(\"rojo\")\n",
        "if s==4:\n",
        "  print(\"azul\")\n",
        "if s==5:\n",
        "  print(\"verde\")"
      ]
    },
    {
      "cell_type": "markdown",
      "source": [
        "### b) Simular 5 sorteos con sustitución."
      ],
      "metadata": {
        "id": "o0OVfZBXuiFw"
      }
    },
    {
      "cell_type": "code",
      "source": [
        "for i in range(5):\n",
        "  s=random.randint(1,5)\n",
        "  \n",
        "  if s==1:\n",
        "    print(\"blanco\")\n",
        "  if s==2:\n",
        "    print(\"negro\")\n",
        "  if s==3:\n",
        "    print(\"rojo\")\n",
        "  if s==4:\n",
        "    print(\"azul\")\n",
        "  if s==5:\n",
        "    print(\"verde\")"
      ],
      "metadata": {
        "colab": {
          "base_uri": "https://localhost:8080/"
        },
        "id": "lPmctmOVu1hy",
        "outputId": "b2ed1a9f-ce13-4a7f-c7ee-39f11b888635"
      },
      "execution_count": null,
      "outputs": [
        {
          "output_type": "stream",
          "name": "stdout",
          "text": [
            "blanco\n",
            "negro\n",
            "negro\n",
            "blanco\n",
            "blanco\n"
          ]
        }
      ]
    },
    {
      "cell_type": "markdown",
      "source": [
        "## Tarea 1"
      ],
      "metadata": {
        "id": "3LkvLeXBxTf7"
      }
    },
    {
      "cell_type": "markdown",
      "source": [
        "**Estimar el valor de pi usando la función random**\n",
        "\n",
        "Tomamos un circulo de radio 2 circuscrito en un cuadrado de lado 4.\n",
        "\n",
        "Ahora obtendremos puntos aleatorios que caigan dentro del cuadrado, esto para poder utilizar la siguiente formula para estimar $\\pi$\n",
        "\n",
        "$\\frac{\\pi r^2}{4*2*r}=\\frac{\\text{Puntos dentro de la circunferencia}}{\\text{Puntos totales}}$\n",
        "\n",
        "$ \\pi=\\frac{(4*2*r)\\text{(Puntos dentro de la circunferencia)}}{(r^2)\\text{(Puntos totales)}} $\n",
        "\n",
        "$ \\pi=\\frac{(4*2)\\text{(Puntos dentro de la circunferencia)}}{(r)\\text{(Puntos totales)}} $\n",
        "\n",
        "sabemos que el radio de nuestra circunferencia es $r=2$, entonces:\n",
        "\n",
        "$ \\pi=\\frac{(4*2)\\text{(Puntos dentro de la circunferencia)}}{(2)\\text{(Puntos totales)}} $\n",
        "\n",
        "Finalmente la ecuacion a utilizar es:\n",
        "\n",
        "$\\pi=\\frac{4*\\text{(Puntos dentro de la circunferencia)}}{\\text{Puntos totales}}$\n",
        "\n",
        "\n",
        "Primero debemos obtener los puntos que caen dentro de la circunferencia a los cuales llamaremos $p$ y a todos los puntos obtenidos los llamaremos $t$. Entonces:"
      ],
      "metadata": {
        "id": "l_rh7lWjHrRF"
      }
    },
    {
      "cell_type": "code",
      "source": [
        "p=0\n",
        "t=1200\n",
        "for i in range(t):\n",
        "  x=random.uniform(-2, 2)\n",
        "  y=random.uniform(-2, 2)\n",
        "\n",
        "  #print('%5.4f' %x,end=' ')\n",
        "  #print('%5.4f' %y,end=' \\n')\n",
        "\n",
        "  a=pow(x,2)+pow(y,2)\n",
        "\n",
        "  if a<4.0000 or a==4.0000: \n",
        "    p=p+1\n",
        "\n",
        "print('p=%d' %p)\n",
        "print('t=%d' %t)"
      ],
      "metadata": {
        "colab": {
          "base_uri": "https://localhost:8080/"
        },
        "id": "lz7YoQm32cG3",
        "outputId": "235302e3-980e-4192-c9b3-3942bdd2d98a"
      },
      "execution_count": null,
      "outputs": [
        {
          "output_type": "stream",
          "name": "stdout",
          "text": [
            "p=925\n",
            "t=1200\n"
          ]
        }
      ]
    },
    {
      "cell_type": "markdown",
      "source": [
        "Ahora solo resta obtener $\\pi$"
      ],
      "metadata": {
        "id": "jZgTZceC2kPx"
      }
    },
    {
      "cell_type": "code",
      "source": [
        "pi=4*p/t\n",
        "\n",
        "print('pi=%f' %pi)"
      ],
      "metadata": {
        "colab": {
          "base_uri": "https://localhost:8080/"
        },
        "id": "faUiZzE92q4U",
        "outputId": "e2079fca-3c95-4faf-d7df-50459169aebe"
      },
      "execution_count": null,
      "outputs": [
        {
          "output_type": "stream",
          "name": "stdout",
          "text": [
            "pi=3.083333\n"
          ]
        }
      ]
    },
    {
      "cell_type": "markdown",
      "source": [
        "El valor anterior es nuestra aproximación de $\\pi$.\n",
        "\n",
        "Podemos tener una mejor aproximación al aumentar el valor de $t$."
      ],
      "metadata": {
        "id": "kHLCbPDZ2mpF"
      }
    },
    {
      "cell_type": "markdown",
      "source": [
        "## Ejercicio 3"
      ],
      "metadata": {
        "id": "TKtiQWNg3LhC"
      }
    },
    {
      "cell_type": "markdown",
      "source": [
        "Graficar las salidas obtenidas en la Tarea 1"
      ],
      "metadata": {
        "id": "jwZBL672HyU-"
      }
    },
    {
      "cell_type": "markdown",
      "source": [
        "Graficaremos los puntos que utilizamos para obtener la aproximacion de $\\pi$ en un cuadrante."
      ],
      "metadata": {
        "id": "77mnNgOWC_Zp"
      }
    },
    {
      "cell_type": "code",
      "source": [
        "x = np.linspace(0, 2)\n",
        "y = np.sqrt(4 - pow(x,2))\n",
        "\n",
        "fig = plt.figure(1, figsize=(8, 8))\n",
        "plt.plot(x, y, color=\"red\", markersize=1)\n",
        "plt.title(\"Estimación de $\\pi$\")\n",
        "plt.xlabel(\"X\")\n",
        "plt.ylabel(\"Y\")\n",
        "\n",
        "for i in range(200):\n",
        "  x_1=random.uniform(0, 2)\n",
        "  y_1=random.uniform(0, 2)\n",
        "  a_1=pow(x_1,2)+pow(y_1,2)\n",
        "\n",
        "  if  a_1<4.00 or a_1==4.00:\n",
        "    plt.scatter(x_1, y_1, s=20, c=\"blue\")\n",
        "  else:\n",
        "    plt.scatter(x_1, y_1, s=20, c=\"magenta\")\n",
        "\n",
        "plt.grid()\n",
        "plt.show()"
      ],
      "metadata": {
        "colab": {
          "base_uri": "https://localhost:8080/"
        },
        "id": "mbC1zAoE3dsV",
        "outputId": "0fc1c92c-8486-483a-e6e2-d4b459a59129"
      },
      "execution_count": null,
      "outputs": [
        {
          "output_type": "display_data",
          "data": {
            "text/plain": [
              "<Figure size 576x576 with 1 Axes>"
            ],
            "image/png": "[encoded data removed]"
          },
          "metadata": {
            "needs_background": "light"
          }
        }
      ]
    },
    {
      "cell_type": "markdown",
      "source": [
        "Graficaremos varias aproximaciones de $\\pi$"
      ],
      "metadata": {
        "id": "4B5Yid3AB2Cq"
      }
    },
    {
      "cell_type": "code",
      "source": [
        "t=200\n",
        "t_1=t+1000\n",
        "L=[]\n",
        "for j in range(t):\n",
        "  p=0\n",
        "  for i in range(t_1):\n",
        "    x=random.uniform(-2, 2)\n",
        "    y=random.uniform(-2, 2)\n",
        "\n",
        "    a=pow(x,2)+pow(y,2)\n",
        "\n",
        "    if a<4.0000 or a==4.0000: \n",
        "      p=p+1\n",
        "\n",
        "  pi=4*p/t_1\n",
        "  L.append(pi)\n",
        "\n",
        "fig = plt.figure(1, figsize=(8, 8))        \n",
        "plt.plot(L, color=\"red\", markersize=1)\n",
        "plt.xlabel(\"Iteraciones\")\n",
        "plt.ylabel(\"Estimación\")\n",
        "plt.grid()\n",
        "plt.show()"
      ],
      "metadata": {
        "colab": {
          "base_uri": "https://localhost:8080/"
        },
        "id": "1-4rOFplB8he",
        "outputId": "334b6f0b-8d10-4ea3-f4fb-431132df8583"
      },
      "execution_count": null,
      "outputs": [
        {
          "output_type": "display_data",
          "data": {
            "text/plain": [
              "<Figure size 576x576 with 1 Axes>"
            ],
            "image/png": "[encoded data removed]"
          },
          "metadata": {
            "needs_background": "light"
          }
        }
      ]
    },
    {
      "cell_type": "markdown",
      "source": [
        "## Ejercicio 4"
      ],
      "metadata": {
        "id": "5y3ugLCoIcgc"
      }
    },
    {
      "cell_type": "markdown",
      "source": [
        "Si se tiene, para cada punto aleatorio:\n",
        "\n",
        "$X_i=1$  si cae dentro del circulo y\n",
        "\n",
        "$X_i=0$  si cae fuera\n",
        "\n",
        "\n"
      ],
      "metadata": {
        "id": "0BOWPLVmIg1u"
      }
    },
    {
      "cell_type": "markdown",
      "source": [
        "### a) Calcular $E[X_i]$ y $V[X_i]$"
      ],
      "metadata": {
        "id": "7h0jrmLM2Nol"
      }
    },
    {
      "cell_type": "markdown",
      "source": [
        "La esperanza de $X_i$ o la media de la distribucion binomial se obtiene de la siguiente manera:\n",
        "\n",
        "$E[X_i]=\\Sigma X_ip(X_i)$\n",
        "\n",
        "Donde $X_i$ esta definida como:\n",
        "\n",
        "$X_i=\\bigl \\{ \\matrix{1 \\text{ Si cae dentro del curculo} \\\\ 0 \\text{ Si cae fuera del curculo}} $\n",
        "\n",
        "Sabemos que $p=\\frac\\pi4$ , entonces:\n",
        "\n",
        "$E[X_i]=1p+0(1-p)=1(\\frac\\pi4)+0(1-\\frac\\pi4)=\\frac\\pi4$\n",
        "\n"
      ],
      "metadata": {
        "id": "089hNY1HKwCN"
      }
    },
    {
      "cell_type": "code",
      "source": [
        "X=[1,0]\n",
        "p=[np.pi/4,1-np.pi/4]\n",
        "e=[]\n",
        "E=0\n",
        "\n",
        "for i in range(2):\n",
        "  a=X[i]*p[i]\n",
        "  e.append(a)\n",
        "  E=e[i]+E\n",
        "\n",
        "print(E)"
      ],
      "metadata": {
        "colab": {
          "base_uri": "https://localhost:8080/"
        },
        "id": "Z6jJD9ufLixm",
        "outputId": "9aadc031-6863-43a9-f536-07043bc2c3db"
      },
      "execution_count": null,
      "outputs": [
        {
          "output_type": "stream",
          "name": "stdout",
          "text": [
            "0.7853981633974483\n"
          ]
        }
      ]
    },
    {
      "cell_type": "markdown",
      "source": [
        "La varianza de $X_i$ de la distribucion binomial se obtiene de la siguiente manera:\n",
        "\n",
        "$Var[X_i]=E[X_i^2]-E[X_i]^2$ \n",
        "\n",
        "Entonces:\n",
        "\n",
        "$Var[X_i]=1^2p+0^2(1-p)-[1p+0(1-p)]^2=p-p^2=\\frac\\pi4-(\\frac\\pi4)^2=\\frac\\pi4-\\frac{\\pi^2}{16}$"
      ],
      "metadata": {
        "id": "gKR36CUg2b2t"
      }
    },
    {
      "cell_type": "code",
      "source": [
        "V=0\n",
        "\n",
        "for i in range(2):\n",
        "  b=X[i]*X[i]*p[i]\n",
        "  V=V+b\n",
        "  \n",
        "V=V-E*E\n",
        "print(V)"
      ],
      "metadata": {
        "colab": {
          "base_uri": "https://localhost:8080/"
        },
        "id": "MjyIUo_VLhBp",
        "outputId": "5eb0a72c-eb18-41df-bc4c-8cfebd125d1a"
      },
      "execution_count": null,
      "outputs": [
        {
          "output_type": "stream",
          "name": "stdout",
          "text": [
            "0.1685478883293634\n"
          ]
        }
      ]
    },
    {
      "cell_type": "markdown",
      "source": [
        "## Ejercicio 5"
      ],
      "metadata": {
        "id": "qhSjBGXXJ9TW"
      }
    },
    {
      "cell_type": "markdown",
      "source": [
        "Para el experimento de simulación, definimos $Z_N=\\frac{X_1+X_2+...+X_N}{N}$"
      ],
      "metadata": {
        "id": "mDdodZYiKd0d"
      }
    },
    {
      "cell_type": "markdown",
      "source": [
        "### a) Calcular  $E[Z_N]$ y $V[Z_N]$"
      ],
      "metadata": {
        "id": "fZvlrak7KG9f"
      }
    },
    {
      "cell_type": "markdown",
      "source": [
        "La esperanza $E[Z_N]$ lo obtendremos de la siguiente manera:\n",
        "\n",
        "$E[Z_N]=E[\\frac{X_1+X_2+...+X_N}{N}]=\\frac{E[X_1+X_2+...+X_N]}{N}=\\frac{E[X_1]+E[X_2]+...+E[X_N]}{N}=\\frac{p+p+...+p}{N}=\\frac{Np}{N}$\n",
        "\n",
        "$E[Z_N]=p=\\frac\\pi4$"
      ],
      "metadata": {
        "id": "QwztDSWMlzEz"
      }
    },
    {
      "cell_type": "markdown",
      "source": [
        "La Varianza $Var[Z_N]$ lo obtendremos de la siguiente manera:\n",
        "\n",
        "$Var[Z_N]=Var[\\frac{X_1+X_2+...+X_N}{N}]=\\frac{Var[X_1+X_2+...+X_N]}{N^2}=\\frac{Var[X_1]+Var[X_2]+...+Var[X_N]}{N^2}=\\frac{p(1-p)+p(1-p)+...+p(1-p)}{N^2}=\\frac{Np(1-p)}{N^2}$\n",
        "\n",
        "$Var[Z_N]=\\frac{p(1-p)}{N}=\\frac{\\frac\\pi4(1-\\frac\\pi4)}{N}=\\frac{\\frac{\\pi}{4}-\\frac{\\pi^2}{16}}{N}=(\\frac{\\pi}{4}-\\frac{\\pi^2}{16})(\\frac1N)$"
      ],
      "metadata": {
        "id": "WICurM1CEQKO"
      }
    },
    {
      "cell_type": "markdown",
      "source": [
        "### b) ¿Cuál debe ser el valor de $N$ para que el error sea de 0.01?"
      ],
      "metadata": {
        "id": "MFHZEsj2KQ5a"
      }
    },
    {
      "cell_type": "code",
      "source": [
        "Error=0.01\n",
        "N=V/Error\n",
        "\n",
        "print('El valor de N para que el error sea de 0.01 es de %f' %N)"
      ],
      "metadata": {
        "colab": {
          "base_uri": "https://localhost:8080/"
        },
        "id": "HjRHU3bbSE56",
        "outputId": "aea505dc-bef9-4aad-d280-bc55936ba3b0"
      },
      "execution_count": null,
      "outputs": [
        {
          "output_type": "stream",
          "name": "stdout",
          "text": [
            "El valor de N para que el error sea de 0.01 es de 16.854789\n"
          ]
        }
      ]
    },
    {
      "cell_type": "markdown",
      "source": [
        "## Ejercicio 6"
      ],
      "metadata": {
        "id": "leRIKe8jULgU"
      }
    },
    {
      "cell_type": "markdown",
      "source": [
        "Aplicar el metodo monte carlo utilizando un cuarto de elipse vertical.\n",
        "\n",
        "$\\frac{x^2}{b^2}+\\frac{y^2}{a^2}=1$\n"
      ],
      "metadata": {
        "id": "En9dUWnkUZXT"
      }
    },
    {
      "cell_type": "code",
      "source": [
        "a=1.091\n",
        "b=0.92\n",
        "x = np.linspace(0, b)\n",
        "y = a*np.sqrt(1-(pow(x,2)/pow(b,2)))\n",
        "\n",
        "fig = plt.figure(1, figsize=(8, 8))\n",
        "plt.plot(x, y, color=\"red\", markersize=1)\n",
        "plt.title(\"Estimación de $\\pi$\")\n",
        "plt.xlabel(\"X\")\n",
        "plt.ylabel(\"Y\")\n",
        "\n",
        "for i in range(2000):\n",
        "  x_1=random.uniform(0, b)\n",
        "  y_1=random.uniform(0, a)\n",
        "  a_1=(pow(x_1,2)/pow(b,2))+(pow(y_1,2)/pow(a,2))\n",
        "\n",
        "  if  a_1<1.00 or a_1==1.00:\n",
        "    plt.scatter(x_1, y_1, s=20, c=\"blue\")\n",
        "  else:\n",
        "    plt.scatter(x_1, y_1, s=20, c=\"magenta\")\n",
        "\n",
        "plt.grid()\n",
        "plt.show()"
      ],
      "metadata": {
        "colab": {
          "base_uri": "https://localhost:8080/"
        },
        "id": "xi-HhUDcUm4r",
        "outputId": "ac8482e5-cee9-4dd7-fc3f-1dadc54002bb"
      },
      "execution_count": null,
      "outputs": [
        {
          "output_type": "display_data",
          "data": {
            "text/plain": [
              "<Figure size 576x576 with 1 Axes>"
            ],
            "image/png": "[encoded data removed]"
          },
          "metadata": {
            "needs_background": "light"
          }
        }
      ]
    },
    {
      "cell_type": "markdown",
      "source": [
        "El área de la Elipse esta dada por\n",
        "$A=\\pi ab$\n",
        "\n",
        "Utilizando el método monte carlo el área de ese cuarto de elipse se obtendra con $A_1=\\frac{\\text{Puntos dentro de la elipse}}{\\text{Puntos totales}}$\n",
        "\n",
        "Entonces $A=4A_1$\n",
        "\n",
        "El valor de $\\pi$ lo obtendremos con la formula\n",
        "\n",
        "$\\pi=\\frac{A}{ab}=\\frac{4A_1}{ab}=\\frac{4\\frac{\\text{Puntos dentro de la elipse}}{\\text{Puntos totales}}}{ab}=\\frac{4(\\text{ Puntos dentro de la elipse})}{ab(\\text{Puntos totales})}$\n",
        "\n"
      ],
      "metadata": {
        "id": "-8_EQn8ic4Qv"
      }
    },
    {
      "cell_type": "code",
      "source": [
        "t=1000\n",
        "t_1=t+1200\n",
        "L=[]\n",
        "for j in range(t):\n",
        "  p=0\n",
        "  for i in range(t_1):\n",
        "    x_2=random.uniform(0, b)\n",
        "    y_2=random.uniform(0, a)\n",
        "\n",
        "    a_2=(pow(x_2,2)/pow(b,2))+(pow(y_2,2)/pow(a,2))\n",
        "\n",
        "    if a_2<1.0000 or a_2==1.0000:\n",
        "      p=p+1\n",
        "\n",
        "  pi_e=(4*p)/(a*b*t_1)\n",
        "  #print(pi_e)\n",
        "  L.append(pi_e)\n",
        "\n",
        "print(np.mean(L))\n",
        "\n",
        "fig = plt.figure(1, figsize=(8, 8))        \n",
        "plt.plot(L, color=\"red\", markersize=1)\n",
        "plt.xlabel(\"Iteraciones\")\n",
        "plt.ylabel(\"Estimación\")\n",
        "plt.grid()\n",
        "plt.show()"
      ],
      "metadata": {
        "colab": {
          "base_uri": "https://localhost:8080/"
        },
        "id": "8VhBRFTacbES",
        "outputId": "0e47047f-6449-421e-a6fd-3a8b56382482"
      },
      "execution_count": null,
      "outputs": [
        {
          "output_type": "stream",
          "name": "stdout",
          "text": [
            "3.1308586603290305\n"
          ]
        },
        {
          "output_type": "display_data",
          "data": {
            "text/plain": [
              "<Figure size 576x576 with 1 Axes>"
            ],
            "image/png": "[encoded data removed]"
          },
          "metadata": {
            "needs_background": "light"
          }
        }
      ]
    },
    {
      "cell_type": "markdown",
      "source": [
        "## Ejercicio 7"
      ],
      "metadata": {
        "id": "iVKFs6l64H_c"
      }
    },
    {
      "cell_type": "markdown",
      "source": [
        "1. Elegir al azar una ciudad de la Lista despues de hacer una mezcla."
      ],
      "metadata": {
        "id": "DyLPWFhR4RQm"
      }
    },
    {
      "cell_type": "code",
      "source": [
        "Lista = ['Rome','New York','London','Berlin','Moskov', 'Los Angeles','Paris','Madrid','Tokio','Toronto']\n",
        "\n",
        "random.shuffle(Lista)\n",
        "print(Lista)\n",
        "\n",
        "Ciudad = random.choice(Lista) \n",
        "print (\"La ciudad elegida es \", Ciudad)"
      ],
      "metadata": {
        "colab": {
          "base_uri": "https://localhost:8080/"
        },
        "id": "XtCjspaeFkFj",
        "outputId": "fa9c0d82-03bb-4344-f4f7-738cdd0db711"
      },
      "execution_count": null,
      "outputs": [
        {
          "output_type": "stream",
          "name": "stdout",
          "text": [
            "['Rome', 'Los Angeles', 'Tokio', 'Toronto', 'New York', 'Berlin', 'London', 'Paris', 'Moskov', 'Madrid']\n",
            "La ciudad elegida es  Tokio\n"
          ]
        }
      ]
    },
    {
      "cell_type": "markdown",
      "source": [
        "2. Elegir al azar tres ciudades después de una mezcla."
      ],
      "metadata": {
        "id": "Oq6mPL36EuGK"
      }
    },
    {
      "cell_type": "code",
      "source": [
        "Lista = ['Rome','New York','London','Berlin','Moskov', 'Los Angeles','Paris','Madrid','Tokio','Toronto']\n",
        "C=[]\n",
        "random.shuffle(Lista)\n",
        "print(Lista)\n",
        "\n",
        "for i in range(3):\n",
        "  C.append(random.choice(Lista))\n",
        "\n",
        "print (\"La ciudades elegidas son \", C)"
      ],
      "metadata": {
        "colab": {
          "base_uri": "https://localhost:8080/"
        },
        "id": "E_yO57JbHzsE",
        "outputId": "fa277df6-00fc-4648-ac3f-7880890961e0"
      },
      "execution_count": null,
      "outputs": [
        {
          "output_type": "stream",
          "name": "stdout",
          "text": [
            "['Madrid', 'Toronto', 'New York', 'Paris', 'Moskov', 'Berlin', 'Los Angeles', 'Rome', 'Tokio', 'London']\n",
            "La ciudades elegidas son  ['Rome', 'Paris', 'Madrid']\n"
          ]
        }
      ]
    },
    {
      "cell_type": "markdown",
      "source": [
        "## Ejercicio 8"
      ],
      "metadata": {
        "id": "zSBIElUQKm8n"
      }
    },
    {
      "cell_type": "markdown",
      "source": [
        "Generar muestras e histograma de las funciones: \n",
        "    \n",
        "$triangular(), betavariate(), expovariate(), gammavariate(),lognormvariate(), normalvariate(), vonmisesvariate(), paretovariate() \\text{  y  } weibullvariate()$"
      ],
      "metadata": {
        "id": "fbZLAdQSk4on"
      }
    },
    {
      "cell_type": "code",
      "source": [
        "t=10000"
      ],
      "metadata": {
        "id": "xW3B41onMFbT"
      },
      "execution_count": null,
      "outputs": []
    },
    {
      "cell_type": "markdown",
      "source": [
        "### Triangular"
      ],
      "metadata": {
        "id": "tqcRSwm7kdOL"
      }
    },
    {
      "cell_type": "code",
      "source": [
        "xt=[]\n",
        "for i in range(t):\n",
        "    xt_1=random.triangular()\n",
        "    xt.append(xt_1)\n",
        "\n",
        "fig = plt.figure(1, figsize=(8, 8)) \n",
        "plt.hist(xt,bins=200)\n",
        "plt.show()\n",
        "\n",
        "print(f'Media: {mean(xt):.5f}.  Mediana: {median(xt):.5f}.')\n",
        "print(f'Varianza: {variance(xt):.5f}.  Desviación estándar: {stdev(xt):.5f}.')"
      ],
      "metadata": {
        "colab": {
          "base_uri": "https://localhost:8080/"
        },
        "id": "WxKaPs8sMBqQ",
        "outputId": "791fc7c5-6d8d-421b-dc01-16fe4603bab7"
      },
      "execution_count": null,
      "outputs": [
        {
          "output_type": "display_data",
          "data": {
            "text/plain": [
              "<Figure size 576x576 with 1 Axes>"
            ],
            "image/png": "[encoded data removed]"
          },
          "metadata": {
            "needs_background": "light"
          }
        },
        {
          "output_type": "stream",
          "name": "stdout",
          "text": [
            "Media: 0.49756.  Mediana: 0.49804.\n",
            "Varianza: 0.04155.  Desviación estándar: 0.20383.\n"
          ]
        }
      ]
    },
    {
      "cell_type": "markdown",
      "source": [
        "### Beta\n",
        "\n",
        "\n",
        "\n"
      ],
      "metadata": {
        "id": "fW2rtv3qKx1Y"
      }
    },
    {
      "cell_type": "code",
      "source": [
        "alpha=8\n",
        "beta=10\n",
        "xb=[]\n",
        "for i in range(t):\n",
        "    xb_1=random.betavariate(alpha,beta)\n",
        "    xb.append(xb_1)\n",
        "\n",
        "fig = plt.figure(1, figsize=(8, 8)) \n",
        "plt.hist(xb,bins=200)\n",
        "plt.show()\n",
        "\n",
        "print(f'Media: {mean(xb):.5f}.  Mediana: {median(xb):.5f}.')\n",
        "print(f'Varianza: {variance(xb):.5f}.  Desviación estándar: {stdev(xb):.5f}.')"
      ],
      "metadata": {
        "colab": {
          "base_uri": "https://localhost:8080/"
        },
        "id": "_UXn8K7uNbwY",
        "outputId": "42b258a8-ded0-4476-e47c-ac940d73b4d9"
      },
      "execution_count": null,
      "outputs": [
        {
          "output_type": "display_data",
          "data": {
            "text/plain": [
              "<Figure size 576x576 with 1 Axes>"
            ],
            "image/png": "[encoded data removed]"
          },
          "metadata": {
            "needs_background": "light"
          }
        },
        {
          "output_type": "stream",
          "name": "stdout",
          "text": [
            "Media: 0.44472.  Mediana: 0.44329.\n",
            "Varianza: 0.01299.  Desviación estándar: 0.11399.\n"
          ]
        }
      ]
    },
    {
      "cell_type": "markdown",
      "source": [
        "### Exponencial"
      ],
      "metadata": {
        "id": "wIfCR-MCOvBF"
      }
    },
    {
      "cell_type": "code",
      "source": [
        "lamb=180\n",
        "xe=[]\n",
        "for i in range(t):\n",
        "    xe_1=random.expovariate(lamb)\n",
        "    xe.append(xe_1)\n",
        "\n",
        "fig = plt.figure(1, figsize=(8, 8)) \n",
        "plt.hist(xe,bins=200)\n",
        "plt.show()\n",
        "\n",
        "print(f'Media: {mean(xe):.5f}.  Mediana: {median(xe):.5f}.')\n",
        "print(f'Varianza: {variance(xe):.5f}.  Desviación estándar: {stdev(xe):.5f}.')"
      ],
      "metadata": {
        "colab": {
          "base_uri": "https://localhost:8080/"
        },
        "id": "FLi6qBHGO8DY",
        "outputId": "4a5fab32-bda3-4715-b3b4-4b4a0da033f1"
      },
      "execution_count": null,
      "outputs": [
        {
          "output_type": "display_data",
          "data": {
            "text/plain": [
              "<Figure size 576x576 with 1 Axes>"
            ],
            "image/png": "[encoded data removed]"
          },
          "metadata": {
            "needs_background": "light"
          }
        },
        {
          "output_type": "stream",
          "name": "stdout",
          "text": [
            "Media: 0.00556.  Mediana: 0.00383.\n",
            "Varianza: 0.00003.  Desviación estándar: 0.00558.\n"
          ]
        }
      ]
    },
    {
      "cell_type": "markdown",
      "source": [
        "### Gamma"
      ],
      "metadata": {
        "id": "t0YryRGAPlIA"
      }
    },
    {
      "cell_type": "code",
      "source": [
        "alpha=8\n",
        "beta=10\n",
        "xg=[]\n",
        "for i in range(t):\n",
        "    xg_1=random.gammavariate(alpha,beta)\n",
        "    xg.append(xg_1)\n",
        "\n",
        "fig = plt.figure(1, figsize=(8, 8)) \n",
        "plt.hist(xg,bins=200)\n",
        "plt.show()\n",
        "\n",
        "print(f'Media: {mean(xg):.5f}.  Mediana: {median(xg):.5f}.')\n",
        "print(f'Varianza: {variance(xg):.5f}.  Desviación estándar: {stdev(xg):.5f}.')"
      ],
      "metadata": {
        "colab": {
          "base_uri": "https://localhost:8080/"
        },
        "id": "S7LpEvFlPpX5",
        "outputId": "067e82a8-8a80-4745-f106-35e711ebe700"
      },
      "execution_count": null,
      "outputs": [
        {
          "output_type": "display_data",
          "data": {
            "text/plain": [
              "<Figure size 576x576 with 1 Axes>"
            ],
            "image/png": "[encoded data removed]"
          },
          "metadata": {
            "needs_background": "light"
          }
        },
        {
          "output_type": "stream",
          "name": "stdout",
          "text": [
            "Media: 80.16496.  Mediana: 76.92109.\n",
            "Varianza: 813.81604.  Desviación estándar: 28.52746.\n"
          ]
        }
      ]
    },
    {
      "cell_type": "markdown",
      "source": [
        "### Log-normal"
      ],
      "metadata": {
        "id": "prbCR-hHQhrM"
      }
    },
    {
      "cell_type": "code",
      "source": [
        "mu=2\n",
        "sigma=0.5\n",
        "xl=[]\n",
        "for i in range(t):\n",
        "    xl_1=random.lognormvariate(mu,sigma)\n",
        "    xl.append(xl_1)\n",
        "\n",
        "fig = plt.figure(1, figsize=(8, 8)) \n",
        "plt.hist(xl,bins=200)\n",
        "plt.show()\n",
        "\n",
        "print(f'Media: {mean(xl):.5f}.  Mediana: {median(xl):.5f}.')\n",
        "print(f'Varianza: {variance(xl):.5f}.  Desviación estándar: {stdev(xl):.5f}.')"
      ],
      "metadata": {
        "colab": {
          "base_uri": "https://localhost:8080/"
        },
        "id": "Qed9cDRtQmSE",
        "outputId": "df67c116-ec36-436b-e1c9-ff26204585df"
      },
      "execution_count": null,
      "outputs": [
        {
          "output_type": "display_data",
          "data": {
            "text/plain": [
              "<Figure size 576x576 with 1 Axes>"
            ],
            "image/png": "[encoded data removed]"
          },
          "metadata": {
            "needs_background": "light"
          }
        },
        {
          "output_type": "stream",
          "name": "stdout",
          "text": [
            "Media: 8.32742.  Mediana: 7.35407.\n",
            "Varianza: 19.03322.  Desviación estándar: 4.36271.\n"
          ]
        }
      ]
    },
    {
      "cell_type": "markdown",
      "source": [
        "### Normal"
      ],
      "metadata": {
        "id": "HWI25ihwRmkm"
      }
    },
    {
      "cell_type": "code",
      "source": [
        "mu=180\n",
        "sigma=15\n",
        "xn=[]\n",
        "for i in range(t):\n",
        "    xn_1=random.normalvariate(mu,sigma)\n",
        "    xn.append(xn_1)\n",
        "\n",
        "fig = plt.figure(1, figsize=(8, 8)) \n",
        "plt.hist(xn,bins=200)\n",
        "plt.show()\n",
        "\n",
        "print(f'Media: {mean(xn):.5f}.  Mediana: {median(xn):.5f}.')\n",
        "print(f'Varianza: {variance(xn):.5f}.  Desviación estándar: {stdev(xn):.5f}.')"
      ],
      "metadata": {
        "colab": {
          "base_uri": "https://localhost:8080/"
        },
        "id": "QKlJMI_HRp2f",
        "outputId": "eb4f761d-2ec0-454a-90a1-baa9846884be"
      },
      "execution_count": null,
      "outputs": [
        {
          "output_type": "display_data",
          "data": {
            "text/plain": [
              "<Figure size 576x576 with 1 Axes>"
            ],
            "image/png": "[encoded data removed]"
          },
          "metadata": {
            "needs_background": "light"
          }
        },
        {
          "output_type": "stream",
          "name": "stdout",
          "text": [
            "Media: 180.17474.  Mediana: 180.29207.\n",
            "Varianza: 225.01911.  Desviación estándar: 15.00064.\n"
          ]
        }
      ]
    },
    {
      "cell_type": "markdown",
      "source": [
        "### Von Mises"
      ],
      "metadata": {
        "id": "V5YWID0FSc0b"
      }
    },
    {
      "cell_type": "code",
      "source": [
        "mu=180\n",
        "kappa=4\n",
        "xvm=[]\n",
        "for i in range(t):\n",
        "    xvm_1=random.vonmisesvariate(mu,kappa)\n",
        "    xvm.append(xvm_1)\n",
        "\n",
        "fig = plt.figure(1, figsize=(8, 8)) \n",
        "plt.hist(xvm,bins=200)\n",
        "plt.show()\n",
        "\n",
        "print(f'Media: {mean(xvm):.5f}.  Mediana: {median(xvm):.5f}.')\n",
        "print(f'Varianza: {variance(xvm):.5f}.  Desviación estándar: {stdev(xvm):.5f}.')"
      ],
      "metadata": {
        "colab": {
          "base_uri": "https://localhost:8080/"
        },
        "id": "233LgTl-Silb",
        "outputId": "b7158361-8ed2-405c-ef10-56f8b75aea25"
      },
      "execution_count": null,
      "outputs": [
        {
          "output_type": "display_data",
          "data": {
            "text/plain": [
              "<Figure size 576x576 with 1 Axes>"
            ],
            "image/png": "[encoded data removed]"
          },
          "metadata": {
            "needs_background": "light"
          }
        },
        {
          "output_type": "stream",
          "name": "stdout",
          "text": [
            "Media: 4.06939.  Mediana: 4.07002.\n",
            "Varianza: 0.29672.  Desviación estándar: 0.54472.\n"
          ]
        }
      ]
    },
    {
      "cell_type": "markdown",
      "source": [
        "### Pareto"
      ],
      "metadata": {
        "id": "YQZubcn4TIlN"
      }
    },
    {
      "cell_type": "code",
      "source": [
        "lamb=180\n",
        "xp=[]\n",
        "for i in range(t):\n",
        "    xp_1=random.paretovariate(lamb)\n",
        "    xp.append(xp_1)\n",
        "\n",
        "fig = plt.figure(1, figsize=(8, 8)) \n",
        "plt.hist(xp,bins=200)\n",
        "plt.show()\n",
        "\n",
        "print(f'Media: {mean(xp):.5f}.  Mediana: {median(xp):.5f}.')\n",
        "print(f'Varianza: {variance(xp):.5f}.  Desviación estándar: {stdev(xp):.5f}.')"
      ],
      "metadata": {
        "colab": {
          "base_uri": "https://localhost:8080/"
        },
        "id": "daYd-RW0TNtn",
        "outputId": "905e44d6-3c20-46cd-8d68-d8280689b630"
      },
      "execution_count": null,
      "outputs": [
        {
          "output_type": "display_data",
          "data": {
            "text/plain": [
              "<Figure size 576x576 with 1 Axes>"
            ],
            "image/png": "[encoded data removed]"
          },
          "metadata": {
            "needs_background": "light"
          }
        },
        {
          "output_type": "stream",
          "name": "stdout",
          "text": [
            "Media: 1.00567.  Mediana: 1.00397.\n",
            "Varianza: 0.00003.  Desviación estándar: 0.00570.\n"
          ]
        }
      ]
    },
    {
      "cell_type": "markdown",
      "source": [
        "### Weibull"
      ],
      "metadata": {
        "id": "exR8ySlETsaY"
      }
    },
    {
      "cell_type": "code",
      "source": [
        "lamb=1\n",
        "kappa=5\n",
        "xw=[]\n",
        "for i in range(t):\n",
        "    xw_1=random.weibullvariate(lamb,kappa)\n",
        "    xw.append(xw_1)\n",
        "\n",
        "fig = plt.figure(1, figsize=(8, 8)) \n",
        "plt.hist(xw,bins=200)\n",
        "plt.show()\n",
        "\n",
        "print(f'Media: {mean(xw):.5f}.  Mediana: {median(xw):.5f}.')\n",
        "print(f'Varianza: {variance(xw):.5f}.  Desviación estándar: {stdev(xw):.5f}.')"
      ],
      "metadata": {
        "colab": {
          "base_uri": "https://localhost:8080/"
        },
        "id": "EHji7kzBTyFI",
        "outputId": "5739d5de-2abc-4d2e-9658-54130db6d48e"
      },
      "execution_count": null,
      "outputs": [
        {
          "output_type": "display_data",
          "data": {
            "text/plain": [
              "<Figure size 576x576 with 1 Axes>"
            ],
            "image/png": "[encoded data removed]"
          },
          "metadata": {
            "needs_background": "light"
          }
        },
        {
          "output_type": "stream",
          "name": "stdout",
          "text": [
            "Media: 0.91652.  Mediana: 0.92787.\n",
            "Varianza: 0.04442.  Desviación estándar: 0.21076.\n"
          ]
        }
      ]
    },
    {
      "cell_type": "markdown",
      "source": [
        "## Ejercicio 9"
      ],
      "metadata": {
        "id": "w5aK-YD5Ukwt"
      }
    },
    {
      "cell_type": "markdown",
      "source": [
        "Simular dos distribuciones de probabilidad (no la normal, no la exponencial), por el método que prefieran."
      ],
      "metadata": {
        "id": "x9KscAxgUuM4"
      }
    },
    {
      "cell_type": "code",
      "source": [
        "t=10000"
      ],
      "metadata": {
        "id": "jM1ofPRuYhmw"
      },
      "execution_count": null,
      "outputs": []
    },
    {
      "cell_type": "markdown",
      "source": [
        "### Triangular"
      ],
      "metadata": {
        "id": "JiiWBPm2U24-"
      }
    },
    {
      "cell_type": "markdown",
      "source": [
        "Obtengamos el histograma de la distribucion triangular con la función $rand()$"
      ],
      "metadata": {
        "id": "ym5wt5MBoRxu"
      }
    },
    {
      "cell_type": "code",
      "source": [
        "a=0\n",
        "b=1\n",
        "c=0.5\n",
        "k=(c-a)/(b-a)\n",
        "xt_2=[]\n",
        "\n",
        "for i in range(t):\n",
        "  r=random.random()\n",
        "  if r<k:\n",
        "    xt_3=a+np.sqrt(r*(c-a)*(b-a))\n",
        "  if r>=k:\n",
        "    xt_3=b-np.sqrt((1-r)*(c-a)*(b-a))\n",
        "  xt_2.append(xt_3)\n",
        "\n",
        "fig = plt.figure(1, figsize=(8, 8))        \n",
        "plt.hist(xt_2,color=\"magenta\", bins=200)\n",
        "plt.grid()\n",
        "plt.show()"
      ],
      "metadata": {
        "colab": {
          "base_uri": "https://localhost:8080/"
        },
        "id": "bP-A_7OfXYlA",
        "outputId": "7badba87-5f96-4edb-a9a6-8225a3b315f6"
      },
      "execution_count": null,
      "outputs": [
        {
          "output_type": "display_data",
          "data": {
            "text/plain": [
              "<Figure size 576x576 with 1 Axes>"
            ],
            "image/png": "[encoded data removed]"
          },
          "metadata": {
            "needs_background": "light"
          }
        }
      ]
    },
    {
      "cell_type": "markdown",
      "source": [
        "Obtengamos el histograma de la distribución triangular con la función $triangular()$"
      ],
      "metadata": {
        "id": "0WBMj1-CoBe0"
      }
    },
    {
      "cell_type": "code",
      "source": [
        "xt=[]\n",
        "for i in range(t):\n",
        "    xt_1=random.triangular()\n",
        "    xt.append(xt_1)\n",
        "\n",
        "fig = plt.figure(1, figsize=(8, 8)) \n",
        "plt.hist(xt,bins=200)\n",
        "plt.show()"
      ],
      "metadata": {
        "colab": {
          "base_uri": "https://localhost:8080/"
        },
        "id": "NDymvvPPoCEr",
        "outputId": "7d840683-e94e-4b36-87b2-5ba5c05716b5"
      },
      "execution_count": null,
      "outputs": [
        {
          "output_type": "display_data",
          "data": {
            "text/plain": [
              "<Figure size 576x576 with 1 Axes>"
            ],
            "image/png": "[encoded data removed]"
          },
          "metadata": {
            "needs_background": "light"
          }
        }
      ]
    },
    {
      "cell_type": "markdown",
      "source": [
        "Ahora ambos histogramas los pondremos en una sola grafica"
      ],
      "metadata": {
        "id": "uEx3tuaMoE8I"
      }
    },
    {
      "cell_type": "code",
      "source": [
        "fig = plt.figure(1, figsize=(8, 8)) \n",
        "plt.hist(xt,bins=200)\n",
        "plt.hist(xt_2,color=\"magenta\", bins=200)\n",
        "plt.show()"
      ],
      "metadata": {
        "colab": {
          "base_uri": "https://localhost:8080/"
        },
        "id": "ztLptFmYoFVI",
        "outputId": "a18dd7d1-f575-4389-f40b-8394a5df08bb"
      },
      "execution_count": null,
      "outputs": [
        {
          "output_type": "display_data",
          "data": {
            "text/plain": [
              "<Figure size 576x576 with 1 Axes>"
            ],
            "image/png": "[encoded data removed]"
          },
          "metadata": {
            "needs_background": "light"
          }
        }
      ]
    }
  ]
}