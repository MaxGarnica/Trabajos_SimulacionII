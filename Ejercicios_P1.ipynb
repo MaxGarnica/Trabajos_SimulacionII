{
  "nbformat": 4,
  "nbformat_minor": 0,
  "metadata": {
    "colab": {
      "name": "Ejercicios y Tareas",
      "provenance": [],
      "authorship_tag": "ABX9TyN2288bn0dHN0NfZbLW39n3",
      "include_colab_link": true
    },
    "kernelspec": {
      "name": "python3",
      "display_name": "Python 3"
    },
    "language_info": {
      "name": "python"
    }
  },
  "cells": [
    {
      "cell_type": "markdown",
      "metadata": {
        "id": "view-in-github",
        "colab_type": "text"
      },
      "source": [
        "<a href=\"https://colab.research.google.com/github/MaxGarnica/Trabajos_SimulacionII/blob/Ejercicios/Ejercicios_P1.ipynb\" target=\"_parent\"><img src=\"https://colab.research.google.com/assets/colab-badge.svg\" alt=\"Open In Colab\"/></a>"
      ]
    },
    {
      "cell_type": "code",
      "source": [
        "import random\n",
        "import matplotlib.pyplot as plt\n",
        "import numpy as np"
      ],
      "metadata": {
        "id": "jaAjTKfeaTPq"
      },
      "execution_count": null,
      "outputs": []
    },
    {
      "cell_type": "markdown",
      "source": [
        "# Ejercicio 1"
      ],
      "metadata": {
        "id": "b2IA2BnAYz_c"
      }
    },
    {
      "cell_type": "markdown",
      "source": [
        "##  a) Usar la función $random()$ para simular 1 volado."
      ],
      "metadata": {
        "id": "CkzttKLfHYpy"
      }
    },
    {
      "cell_type": "code",
      "source": [
        "n=random.random()\n",
        "\n",
        "if n<0.5:\n",
        "  print(\"sol\")\n",
        "else:\n",
        "  print(\"aguila\")"
      ],
      "metadata": {
        "colab": {
          "base_uri": "https://localhost:8080/"
        },
        "id": "9QAp-oGRZNoi",
        "outputId": "9bd4bf69-112c-4e69-bd3e-f7fde15891d2"
      },
      "execution_count": null,
      "outputs": [
        {
          "output_type": "stream",
          "name": "stdout",
          "text": [
            "aguila\n"
          ]
        }
      ]
    },
    {
      "cell_type": "markdown",
      "source": [
        "##  b) Usar la función $random()$ para simular 1000 volado."
      ],
      "metadata": {
        "id": "LxLE4xF8ag7J"
      }
    },
    {
      "cell_type": "code",
      "source": [
        "for i in range(100):\n",
        "  n=random.random()\n",
        "  if n<0.5:\n",
        "    print(\"sol\")\n",
        "  else:\n",
        "    print(\"aguila\")"
      ],
      "metadata": {
        "id": "Q9_OYtVXanei"
      },
      "execution_count": null,
      "outputs": []
    },
    {
      "cell_type": "markdown",
      "source": [
        "##  c) Determinar de b) la probabilidad de que ocurra \"sol\" en el volado."
      ],
      "metadata": {
        "id": "Ka1sVhx7amle"
      }
    },
    {
      "cell_type": "code",
      "source": [
        "cs=0\n",
        "for i in range(100):\n",
        "  n=random.random()\n",
        "  if n<0.5:\n",
        "    cs=cs+1\n",
        "    #print(\"sol\")\n",
        "  #else:\n",
        "    #print(\"aguila\")\n",
        "\n",
        "print('%d Número total de soles obtenidos' % cs)\n",
        "p=cs/100\n",
        "print('La probabilidad de que ocurra sol es de %f' % p, end=' ')"
      ],
      "metadata": {
        "colab": {
          "base_uri": "https://localhost:8080/"
        },
        "id": "eJrSHB8LbDJ5",
        "outputId": "d861f1dc-6653-454b-f840-a8505afaef9b"
      },
      "execution_count": null,
      "outputs": [
        {
          "output_type": "stream",
          "name": "stdout",
          "text": [
            "53 Número total de soles obtenidos\n",
            "La probabilidad de que ocurra sol es de 0.530000 "
          ]
        }
      ]
    },
    {
      "cell_type": "markdown",
      "source": [
        "# Ejercicio 2"
      ],
      "metadata": {
        "id": "qFXukvTPt0Kl"
      }
    },
    {
      "cell_type": "markdown",
      "source": [
        "## a) Simular un sorteo de los colores blanco, negro, rojo, azul y verde."
      ],
      "metadata": {
        "id": "zbT21XMWHktQ"
      }
    },
    {
      "cell_type": "code",
      "execution_count": null,
      "metadata": {
        "id": "-txkzy--seAq",
        "colab": {
          "base_uri": "https://localhost:8080/"
        },
        "outputId": "c5a0f3f0-e9cd-4054-918e-35f0183a141c"
      },
      "outputs": [
        {
          "output_type": "stream",
          "name": "stdout",
          "text": [
            "azul\n"
          ]
        }
      ],
      "source": [
        "s=random.randint(1,5)\n",
        "#print(s)\n",
        "\n",
        "if s==1:\n",
        "  print(\"blanco\")\n",
        "if s==2:\n",
        "  print(\"negro\")\n",
        "if s==3:\n",
        "  print(\"rojo\")\n",
        "if s==4:\n",
        "  print(\"azul\")\n",
        "if s==5:\n",
        "  print(\"verde\")"
      ]
    },
    {
      "cell_type": "markdown",
      "source": [
        "## b) Simular 5 sorteos con sustitución."
      ],
      "metadata": {
        "id": "o0OVfZBXuiFw"
      }
    },
    {
      "cell_type": "code",
      "source": [
        "for i in range(5):\n",
        "  s=random.randint(1,5)\n",
        "  \n",
        "  if s==1:\n",
        "    print(\"blanco\")\n",
        "  if s==2:\n",
        "    print(\"negro\")\n",
        "  if s==3:\n",
        "    print(\"rojo\")\n",
        "  if s==4:\n",
        "    print(\"azul\")\n",
        "  if s==5:\n",
        "    print(\"verde\")"
      ],
      "metadata": {
        "colab": {
          "base_uri": "https://localhost:8080/"
        },
        "id": "lPmctmOVu1hy",
        "outputId": "45616f66-b743-4f5d-a9a6-b66bed6b0bb7"
      },
      "execution_count": null,
      "outputs": [
        {
          "output_type": "stream",
          "name": "stdout",
          "text": [
            "negro\n",
            "blanco\n",
            "azul\n",
            "azul\n",
            "rojo\n"
          ]
        }
      ]
    },
    {
      "cell_type": "markdown",
      "source": [
        "# Tarea 1"
      ],
      "metadata": {
        "id": "3LkvLeXBxTf7"
      }
    },
    {
      "cell_type": "markdown",
      "source": [
        "**Estimar el valor de pi usando la función random**\n",
        "\n",
        "Tomamos un circulo de radio 2 circuscrito en un cuadrado de lado 4.\n",
        "\n",
        "Ahora obtendremos puntos aleatorios que caigan dentro del cuadrado, esto para poder utilizar la siguiente formula para estimar $\\pi$\n",
        "\n",
        "$\\frac{\\pi r^2}{4*2*r}=\\frac{\\text{Puntos dentro de la circunferencia}}{\\text{Puntos totales}}$\n",
        "\n",
        "$ \\pi=\\frac{(4*2*r)\\text{(Puntos dentro de la circunferencia)}}{(r^2)\\text{(Puntos totales)}} $\n",
        "\n",
        "$ \\pi=\\frac{(4*2)\\text{(Puntos dentro de la circunferencia)}}{(r)\\text{(Puntos totales)}} $\n",
        "\n",
        "sabemos que el radio de nuestra circunferencia es $r=2$, entonces:\n",
        "\n",
        "$ \\pi=\\frac{(4*2)\\text{(Puntos dentro de la circunferencia)}}{(2)\\text{(Puntos totales)}} $\n",
        "\n",
        "Finalmente la ecuacion a utilizar es:\n",
        "\n",
        "$\\pi=\\frac{4*\\text{(Puntos dentro de la circunferencia)}}{\\text{Puntos totales}}$\n",
        "\n",
        "\n",
        "Primero debemos obtener los puntos que caen dentro de la circunferencia a los cuales llamaremos $p$ y a todos los puntos obtenidos los llamaremos $t$. Entonces:"
      ],
      "metadata": {
        "id": "l_rh7lWjHrRF"
      }
    },
    {
      "cell_type": "code",
      "source": [
        "p=0\n",
        "t=1200\n",
        "for i in range(t):\n",
        "  x=random.uniform(-2, 2)\n",
        "  y=random.uniform(-2, 2)\n",
        "\n",
        "  #print('%5.4f' %x,end=' ')\n",
        "  #print('%5.4f' %y,end=' \\n')\n",
        "\n",
        "  a=pow(x,2)+pow(y,2)\n",
        "\n",
        "  if a<4.0000 or a==4.0000: \n",
        "    p=p+1\n",
        "\n",
        "print('p=%d' %p)\n",
        "print('t=%d' %t)"
      ],
      "metadata": {
        "colab": {
          "base_uri": "https://localhost:8080/"
        },
        "id": "lz7YoQm32cG3",
        "outputId": "80501d1d-2da3-4d65-9252-b81aa7101350"
      },
      "execution_count": null,
      "outputs": [
        {
          "output_type": "stream",
          "name": "stdout",
          "text": [
            "p=955\n",
            "t=1200\n"
          ]
        }
      ]
    },
    {
      "cell_type": "markdown",
      "source": [
        "Ahora solo resta obtener $\\pi$"
      ],
      "metadata": {
        "id": "jZgTZceC2kPx"
      }
    },
    {
      "cell_type": "code",
      "source": [
        "pi=4*p/t\n",
        "\n",
        "print('pi=%f' %pi)"
      ],
      "metadata": {
        "colab": {
          "base_uri": "https://localhost:8080/"
        },
        "id": "faUiZzE92q4U",
        "outputId": "9088071d-193a-4604-bb6c-6212fbb48ca7"
      },
      "execution_count": null,
      "outputs": [
        {
          "output_type": "stream",
          "name": "stdout",
          "text": [
            "pi=3.183333\n"
          ]
        }
      ]
    },
    {
      "cell_type": "markdown",
      "source": [
        "El valor anterior es nuestra aproximación de $\\pi$.\n",
        "\n",
        "Podemos tener una mejor aproximación al aumentar el valor de $t$."
      ],
      "metadata": {
        "id": "kHLCbPDZ2mpF"
      }
    },
    {
      "cell_type": "markdown",
      "source": [
        "# Ejercicio 3"
      ],
      "metadata": {
        "id": "TKtiQWNg3LhC"
      }
    },
    {
      "cell_type": "markdown",
      "source": [
        "Graficar las salidas obtenidas en la Tarea 1"
      ],
      "metadata": {
        "id": "jwZBL672HyU-"
      }
    },
    {
      "cell_type": "markdown",
      "source": [
        "Graficaremos los puntos que utilizamos para obtener la aproximacion de $\\pi$ en un cuadrante."
      ],
      "metadata": {
        "id": "77mnNgOWC_Zp"
      }
    },
    {
      "cell_type": "code",
      "source": [
        "x = np.linspace(0, 2)\n",
        "y = np.sqrt(4 - pow(x,2))\n",
        "\n",
        "fig = plt.figure(1, figsize=(8, 8))\n",
        "plt.plot(x, y, color=\"red\", markersize=1)\n",
        "plt.title(\"Estimación de $\\pi$\")\n",
        "plt.xlabel(\"X\")\n",
        "plt.ylabel(\"Y\")\n",
        "\n",
        "for i in range(200):\n",
        "  x_1=random.uniform(0, 2)\n",
        "  y_1=random.uniform(0, 2)\n",
        "  a_1=pow(x_1,2)+pow(y_1,2)\n",
        "\n",
        "  if  a_1<4.00 or a_1==4.00:\n",
        "    plt.scatter(x_1, y_1, s=20, c=\"blue\")\n",
        "  else:\n",
        "    plt.scatter(x_1, y_1, s=20, c=\"magenta\")\n",
        "\n",
        "plt.grid()\n",
        "plt.show()"
      ],
      "metadata": {
        "colab": {
          "base_uri": "https://localhost:8080/",
          "height": 514
        },
        "id": "mbC1zAoE3dsV",
        "outputId": "56d80d4e-1b2f-437e-eec2-d04a708d43e4"
      },
      "execution_count": null,
      "outputs": [
        {
          "output_type": "display_data",
          "data": {
            "image/png": "[encoded data removed]",
            "text/plain": [
              "<Figure size 576x576 with 1 Axes>"
            ]
          },
          "metadata": {
            "needs_background": "light"
          }
        }
      ]
    },
    {
      "cell_type": "markdown",
      "source": [
        "Graficaremos varias aproximaciones de $\\pi$"
      ],
      "metadata": {
        "id": "4B5Yid3AB2Cq"
      }
    },
    {
      "cell_type": "code",
      "source": [
        "t=200\n",
        "t_1=t+1000\n",
        "L=[]\n",
        "for j in range(t):\n",
        "  p=0\n",
        "  for i in range(t_1):\n",
        "    x=random.uniform(-2, 2)\n",
        "    y=random.uniform(-2, 2)\n",
        "\n",
        "    a=pow(x,2)+pow(y,2)\n",
        "\n",
        "    if a<4.0000 or a==4.0000: \n",
        "      p=p+1\n",
        "\n",
        "  pi=4*p/t_1\n",
        "  L.append(pi)\n",
        "\n",
        "fig = plt.figure(1, figsize=(8, 8))        \n",
        "plt.plot(L, color=\"red\", markersize=1)\n",
        "plt.xlabel(\"Iteraciones\")\n",
        "plt.ylabel(\"Estimación\")\n",
        "plt.grid()\n",
        "plt.show()"
      ],
      "metadata": {
        "colab": {
          "base_uri": "https://localhost:8080/",
          "height": 497
        },
        "id": "1-4rOFplB8he",
        "outputId": "183bd4c2-1d61-4ec7-903b-9743cd76464d"
      },
      "execution_count": null,
      "outputs": [
        {
          "output_type": "display_data",
          "data": {
            "image/png": "[encoded data removed]",
            "text/plain": [
              "<Figure size 576x576 with 1 Axes>"
            ]
          },
          "metadata": {
            "needs_background": "light"
          }
        }
      ]
    },
    {
      "cell_type": "markdown",
      "source": [
        "# Ejercicio 4"
      ],
      "metadata": {
        "id": "5y3ugLCoIcgc"
      }
    },
    {
      "cell_type": "markdown",
      "source": [
        "Si se tiene, para cada punto aleatorio:\n",
        "\n",
        "$X_i=1$  si cae dentro del circulo y\n",
        "\n",
        "$X_i=0$  si cae fuera\n",
        "\n",
        "## a) Calcular $E[X_i]$ y $V[X_i]$\n",
        "\n"
      ],
      "metadata": {
        "id": "0BOWPLVmIg1u"
      }
    },
    {
      "cell_type": "markdown",
      "source": [
        "La esperanza de $X_i$ o la media de la distribucion binomial se obtiene con la formula:\n",
        "\n",
        "$E[X_i]=np$\n",
        "\n",
        "Sea $i=0,1,...,n$ con $n$ $\\epsilon$ ℕ\n"
      ],
      "metadata": {
        "id": "089hNY1HKwCN"
      }
    },
    {
      "cell_type": "code",
      "source": [
        ""
      ],
      "metadata": {
        "id": "H5m7KMl4Ip4Y"
      },
      "execution_count": null,
      "outputs": []
    },
    {
      "cell_type": "markdown",
      "source": [
        "# Ejercicio 5"
      ],
      "metadata": {
        "id": "qhSjBGXXJ9TW"
      }
    },
    {
      "cell_type": "markdown",
      "source": [
        "Para el experimento de simulación, definimos $Z_N=\\frac{X_1+X_2+...+X_N}{N}$"
      ],
      "metadata": {
        "id": "mDdodZYiKd0d"
      }
    },
    {
      "cell_type": "markdown",
      "source": [
        "## a) Calcular  $E[Z_N]$ y $V[Z_N]$"
      ],
      "metadata": {
        "id": "fZvlrak7KG9f"
      }
    },
    {
      "cell_type": "markdown",
      "source": [
        "## b) ¿Cuál debe ser el valor de $N$ para que el error sea de 0.01?"
      ],
      "metadata": {
        "id": "MFHZEsj2KQ5a"
      }
    }
  ]
}