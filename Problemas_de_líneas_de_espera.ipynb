{
  "nbformat": 4,
  "nbformat_minor": 0,
  "metadata": {
    "colab": {
      "name": "Problemas de líneas de espera.ipynb",
      "provenance": [],
      "collapsed_sections": [
        "caLWfKQOgeKh",
        "uNh6w6uNLOla",
        "RaUoFw6egh8k",
        "X9E8-HSlgoqb",
        "2j2uQ-1hgvcP",
        "Hzfd3ZLNg2FY",
        "7qJ9ROHHhIXu"
      ],
      "authorship_tag": "ABX9TyNiD/YOLtDSlNTDwaEbZqQw",
      "include_colab_link": true
    },
    "kernelspec": {
      "name": "python3",
      "display_name": "Python 3"
    },
    "language_info": {
      "name": "python"
    }
  },
  "cells": [
    {
      "cell_type": "markdown",
      "metadata": {
        "id": "view-in-github",
        "colab_type": "text"
      },
      "source": [
        "<a href=\"https://colab.research.google.com/github/MaxGarnica/Trabajos_SimulacionII/blob/main/Problemas_de_l%C3%ADneas_de_espera.ipynb\" target=\"_parent\"><img src=\"https://colab.research.google.com/assets/colab-badge.svg\" alt=\"Open In Colab\"/></a>"
      ]
    },
    {
      "cell_type": "markdown",
      "source": [
        "*Maximiliano Garnica López*\n",
        "\n",
        "*Tarea*\n",
        "\n",
        "*Simulación II*"
      ],
      "metadata": {
        "id": "fjXDowqRtsxN"
      }
    },
    {
      "cell_type": "markdown",
      "source": [
        "# Problemas de líneas de espera"
      ],
      "metadata": {
        "id": "VR5c2lXhfwUZ"
      }
    },
    {
      "cell_type": "markdown",
      "source": [
        "**Instrucciones**\n",
        "\n",
        "Elabore esta tarea en una notebook independiente, registrando sus resultados o las salidas de los programas. En todos los casos en que sea posible, resuelva los problemas mediante simulación y después verifique los resultados con las fórmulas correspondientes."
      ],
      "metadata": {
        "id": "-dqe3c6QfoaF"
      }
    },
    {
      "cell_type": "code",
      "execution_count": 9,
      "metadata": {
        "id": "CiJJZ_64tpRf"
      },
      "outputs": [],
      "source": [
        "import random\n",
        "from matplotlib.pyplot import *\n",
        "import numpy as np\n",
        "import pandas as pd\n",
        "from statistics import *\n",
        "from math import inf as Infinity\n",
        "from time import time\n",
        "import math"
      ]
    },
    {
      "cell_type": "markdown",
      "source": [
        "## 1. En la biblioteca\n",
        "\n",
        "Un encargado de la biblioteca es el único en el mostrador durante todo su turno de trabajo. Las llegadas al mostrador siguen una distribución de Poisson con una media de 8 por hora. Cada usuario de la biblioteca es atendido de uno en uno, y el tiempo de servicio sigue una distribución exponencial con una media de 5 minutos."
      ],
      "metadata": {
        "id": "mLe9H_EQgAh6"
      }
    },
    {
      "cell_type": "markdown",
      "source": [
        "### a) ¿Cuál es la probabilidad de que se forme cola?"
      ],
      "metadata": {
        "id": "caLWfKQOgeKh"
      }
    },
    {
      "cell_type": "markdown",
      "source": [
        "En este inciso realizaremos una función que nos regrese la probabilidad dependiendo del número de llegadas."
      ],
      "metadata": {
        "id": "sVTCQbTetkm_"
      }
    },
    {
      "cell_type": "code",
      "source": [
        "def pmm1_ll(lamda,mu,Num_Pkts):\n",
        "  count = 0                           # Contador de paquetes simulados\n",
        "  t = 0\n",
        "  N = 0                               # Variable de estado: numero de paquetes en el sistema\n",
        "\n",
        "  tll = random.expovariate(lamda)     # Tiempo de llegada\n",
        "  ts = Infinity                       # Tiempo de salida\n",
        "  t_evento_anterior = 0.0             # tiempo del último evento\n",
        "\n",
        "  # Variables de salida\n",
        "  tll_Data = []                       # Lista de tiempos de llegada\n",
        "  ts_Data = []                        # Lista de tiempos de salida\n",
        "  r_Data = []                         # Lista de retrasos individuales\n",
        "\n",
        "  Data = {}                           # Diccionario\n",
        "\n",
        "  while count < Num_Pkts:\n",
        "  #while t < T:\n",
        "      if tll < ts:                                 # Evento de llegada\n",
        "          t = tll\n",
        "          \n",
        "          # Longitud del intervalo entre llegadas\n",
        "          delta = t - t_evento_anterior\n",
        "          if N in Data: \n",
        "              Data[N] += delta\n",
        "          else:\n",
        "              Data[N] = delta\n",
        "          t_evento_anterior = t\n",
        "          \n",
        "          tll_Data.append(t)\n",
        "          N = N + 1.0\n",
        "          tll = t + random.expovariate(lamda) \n",
        "          if N == 1:\n",
        "              ts = t + random.expovariate(mu)\n",
        "      else:                                         # Evento de salida\n",
        "          t = ts\n",
        "          \n",
        "          # Longitud del intervalo de tiempo\n",
        "          delta = t - t_evento_anterior\n",
        "          if N in Data:\n",
        "              Data[N] += delta\n",
        "          else:\n",
        "              Data[N] = delta\n",
        "          t_evento_anterior = t\n",
        "          \n",
        "          ts_Data.append(t)\n",
        "          N = N - 1.0\n",
        "          count = count + 1                         # Paquetes simulados\n",
        "          if N > 0:\n",
        "              ts = t + random.expovariate(mu)\n",
        "          else:\n",
        "              ts = Infinity\n",
        "\n",
        "  ##################################### se procesan los datos de salida ########################################\n",
        "\n",
        "  # Estimación de la probabilidad de P(N=k):\n",
        "  for (key, value) in Data.items():\n",
        "      Data[key] = value/t\n",
        "\n",
        "  # Se verifica que la probabilidad total es 1.0\n",
        "\n",
        "  pt=sum(Data.values())\n",
        "  #print('Suma de probabilidades =', sum(Data.values()))\n",
        "\n",
        "  # Se verifican los valores de expectación\n",
        "  media = 0.0\n",
        "  md=[]\n",
        "  \n",
        "  #print('\\n')\n",
        "  #print('Lista de Probabilidades\\n')\n",
        "  #print('No. Llegadas','\\t','Probabilidad')\n",
        "  for (key, value) in Data.items():\n",
        "      media = media + key*value\n",
        "      md.append(media)\n",
        "      #print(key,'\\t\\t', round(value, 4))\n",
        "\n",
        "  #print('\\n')\n",
        "  #print('E[N] = ', media)\n",
        "\n",
        "  return(md)"
      ],
      "metadata": {
        "id": "S2Z2NgsRuYqm"
      },
      "execution_count": 19,
      "outputs": []
    },
    {
      "cell_type": "markdown",
      "source": [
        "Como las llegadas tienen una distribucion poisson, los servicios una distribucion exponecial y solo tenemos un servidor, tenemos un modelo de la forma: **M/M/1**\n",
        "\n",
        "El promedio de llegadas es de $λ=\\frac{8\\text{ llegadas}}{1\\text{ hora}}$, pero haremos la conversion a llegadas por minuto.\n",
        "\n",
        "$λ=\\frac{8\\text{ llegadas}}{1\\text{ hora}}(\\frac{1\\text{ hora}}{60 \\text{ minuto}})=\\frac{2}{15} \\frac{\\text{llegadas}}{\\text{minuto}}$\n",
        "\n",
        "El promedio de servicios es de $μ=\\frac{1 \\text{ servicio}}{5 \\text{ minuto}}$\n",
        "\n",
        "Como no tenemos especificaciones sobre cuanto dura el turno del empleado simularemos $100$ usuarios.\n",
        "\n",
        "Al solo tener un servidor sabemos que si llegan más de un usuario a la vez tendremos cola, por lo que la probabilidad la obtendremos de la siguiente manera.\n",
        "\n",
        "$P(x>1)=1-P(x<=1)$"
      ],
      "metadata": {
        "id": "gwR1SGmIyMIb"
      }
    },
    {
      "cell_type": "code",
      "source": [
        "Prob = pmm1_ll(2/15,1/5,100)       #Arreglo que guarda las probabilidades del numero de llegadas\n",
        "\n",
        "Pc = 1 - ( Prob[1] + Prob[2] )    #Probabilidad de que se forme cola = Probabilidad total - ( Probabilidad de cero llegadas + Probabilidad de tener una llegada )\n",
        "\n",
        "print(\"Probabilidad de que se forme cola es de %.4f\" %Pc)"
      ],
      "metadata": {
        "id": "Sa-hAMg-h787",
        "colab": {
          "base_uri": "https://localhost:8080/"
        },
        "outputId": "3e775623-e433-42b7-f230-898fbdaca778"
      },
      "execution_count": 104,
      "outputs": [
        {
          "output_type": "stream",
          "name": "stdout",
          "text": [
            "Probabilidad de que se forme cola es de 0.2532\n"
          ]
        }
      ]
    },
    {
      "cell_type": "markdown",
      "source": [
        "### Funcion que devuelve W, Wq, L y Lq"
      ],
      "metadata": {
        "id": "uNh6w6uNLOla"
      }
    },
    {
      "cell_type": "markdown",
      "source": [
        "Ahora realizaremos una funcion en la que regresaremos las variables:\n",
        "\n",
        "* $W$ : Tiempo medio de estancia de los clientes en el sistema.\n",
        "* $W_q$ : Tiempo medio de espera de los clientes en la cola.\n",
        "* $L$ : Número medio de clientes en el sistema.\n",
        "* $L_q$ : Número medio de clientes en la cola.\n"
      ],
      "metadata": {
        "id": "o_T6u1fJ8ds3"
      }
    },
    {
      "cell_type": "code",
      "source": [
        "def mm1_var(lamda,mu,Num_Pkts):\n",
        "  count = 0                           # Contador de paquetes simulados\n",
        "  t = 0\n",
        "  N = 0                               # Variable de estado: numero de paquetes en el sistema\n",
        "\n",
        "  tll = random.expovariate(lamda)     # Tiempo de llegada\n",
        "  ts = Infinity                       # Tiempo de salida\n",
        "\n",
        "  t_evento_anterior = 0.0             # tiempo del último evento\n",
        "\n",
        "  # Variables de salida\n",
        "  tll_Data = []                       # Lista de tiempos de llegada\n",
        "  ts_Data = []                        # Lista de tiempos de salida\n",
        "  ti_Data = []                        # Lista de tiempos de inicio de servicio\n",
        "  tc_Data = []                        # Lista de tiempos en la cola\n",
        "  r_Data = []                         # Lista de retrasos individuales\n",
        "\n",
        "  ti_Data.append(tll)\n",
        "\n",
        "  while count < Num_Pkts:\n",
        "      if tll < ts:                                  # Evento de llegada\n",
        "          t = tll\n",
        "          tll_Data.append(t)\n",
        "          \n",
        "          t_evento_anterior = t\n",
        "          \n",
        "          N = N + 1.0\n",
        "          tll = t + random.expovariate(lamda) \n",
        "\n",
        "          if N == 1:\n",
        "              ts = t + random.expovariate(mu)\n",
        "\n",
        "      else:                                         # Evento de salida\n",
        "          t = ts\n",
        "          ts_Data.append(t)\n",
        "\n",
        "          t_evento_anterior = t\n",
        "\n",
        "          N = N - 1.0\n",
        "          count = count + 1                         # Paquetes simulados\n",
        "          if N > 0:\n",
        "              ts = t + random.expovariate(mu)\n",
        "          else:\n",
        "              ts = Infinity\n",
        "\n",
        "  for j in range(Num_Pkts):                         # Tiempo de inicio del servicio\n",
        "    if tll_Data[j+1]<ts_Data[j]:\n",
        "      ti_Data.append(ts_Data[j])\n",
        "    else:\n",
        "      ti_Data.append(tll_Data[j+1])\n",
        "\n",
        "  for i in range(Num_Pkts):\n",
        "      d = ts_Data[i] - tll_Data[i]                  # Tiempo de los clientes en el sistema\n",
        "      r_Data.append(d)\n",
        "\n",
        "      c = ti_Data[i] - tll_Data[i]                  # Tiempo en la cola\n",
        "      if c>0:\n",
        "        tc_Data.append(c)\n",
        "      else:\n",
        "        tc_Data.append(0)\n",
        "\n",
        "  W = mean(r_Data)                                  # Tiempo medio de estancia de los clientes en el sistema\n",
        "  Wq = mean(tc_Data)                                # Tiempo medio de espera de los clientes en la cola\n",
        "\n",
        "  L = lamda * W                                     # Número medio de clientes en el sistema\n",
        "  Lq = lamda * Wq                                   # Número medio de clientes en la cola\n",
        "\n",
        "  return (W,Wq,L,Lq)"
      ],
      "metadata": {
        "id": "Td9Sin2_JeOL"
      },
      "execution_count": 26,
      "outputs": []
    },
    {
      "cell_type": "markdown",
      "source": [
        "### b) ¿Cuál es la longitud media de la cola?"
      ],
      "metadata": {
        "id": "RaUoFw6egh8k"
      }
    },
    {
      "cell_type": "code",
      "source": [
        "W,Wq,L,Lq=mm1_var(2/15,1/5,100)\n",
        "\n",
        "print('El número medio de clientes en la cola es Lq=%.2f' %round(Lq, 2))"
      ],
      "metadata": {
        "id": "3IyJkkiTh7qW",
        "colab": {
          "base_uri": "https://localhost:8080/"
        },
        "outputId": "283fa8e1-cee5-4caa-ef02-da79f29d1428"
      },
      "execution_count": 27,
      "outputs": [
        {
          "output_type": "stream",
          "name": "stdout",
          "text": [
            "El número medio de clientes en la cola es Lq=1.34\n"
          ]
        }
      ]
    },
    {
      "cell_type": "markdown",
      "source": [
        "### c) ¿Cuál es el tiempo medio que un cliente pasa en la biblioteca hasta que le han atendido?"
      ],
      "metadata": {
        "id": "X9E8-HSlgoqb"
      }
    },
    {
      "cell_type": "code",
      "source": [
        "print('El tiempo medio de estancia de los clientes en la biblioteca hasta ser atendidos es W=%.2f' %round(W, 2))"
      ],
      "metadata": {
        "id": "ToidNhxLh7V_",
        "colab": {
          "base_uri": "https://localhost:8080/"
        },
        "outputId": "1919f1c3-cda0-4e59-e191-89cbd666e488"
      },
      "execution_count": 28,
      "outputs": [
        {
          "output_type": "stream",
          "name": "stdout",
          "text": [
            "El tiempo medio de estancia de los clientes en la biblioteca hasta ser atendidos es W=14.82\n"
          ]
        }
      ]
    },
    {
      "cell_type": "markdown",
      "source": [
        "### d) ¿Cuál es el tiempo medio que un cliente pasa en la cola esperando a que le atiendan?"
      ],
      "metadata": {
        "id": "2j2uQ-1hgvcP"
      }
    },
    {
      "cell_type": "code",
      "source": [
        "print('El tiempo medio de espera de los clientes en la cola es Wq=%.2f' %round(Wq, 2))"
      ],
      "metadata": {
        "id": "OZp8P4_Uh6c_",
        "colab": {
          "base_uri": "https://localhost:8080/"
        },
        "outputId": "e6106ee1-a3e1-4643-f428-3e0bbbf6834d"
      },
      "execution_count": 29,
      "outputs": [
        {
          "output_type": "stream",
          "name": "stdout",
          "text": [
            "El tiempo medio de espera de los clientes en la cola es Wq=10.07\n"
          ]
        }
      ]
    },
    {
      "cell_type": "markdown",
      "source": [
        "### e) El encargado de la biblioteca pasa su tiempo en que no hay clientes clasificando artículos de revistas. Si puede clasificar 22 fichas por hora como media cuando trabaja continuamente, ¿cuántas fichas puede ordenar durante su trabajo?"
      ],
      "metadata": {
        "id": "Hzfd3ZLNg2FY"
      }
    },
    {
      "cell_type": "markdown",
      "source": [
        "Realizaremos una funcion que nos devuelve la lista de:\n",
        "\n",
        "\n",
        "*   Tiempo de llegada\n",
        "*   Tiempo en la cola\n",
        "*   Tiempo de inicio del servicio\n",
        "*   Tiempo de salida\n",
        "\n",
        "\n",
        "\n"
      ],
      "metadata": {
        "id": "oMUcE1OLe8t6"
      }
    },
    {
      "cell_type": "code",
      "source": [
        "def mm1(lamda,mu,Num_Pkts):\n",
        "  count = 0                           # Contador de paquetes simulados\n",
        "  t = 0\n",
        "  N = 0                               # Variable de estado: numero de paquetes en el sistema\n",
        "\n",
        "  tll = random.expovariate(lamda)     # Tiempo de llegada\n",
        "  ts = Infinity                       # Tiempo de salida\n",
        "\n",
        "  t_evento_anterior = 0.0             # tiempo del último evento\n",
        "\n",
        "\n",
        "  # Variables de salida\n",
        "  tll_Data = []                       # Lista de tiempos de llegada\n",
        "  ts_Data = []                        # Lista de tiempos de salida\n",
        "  ti_Data = []                        # Lista de tiempos de inicio de servicio\n",
        "  tc_Data = []                        # Lista de tiempos en la cola\n",
        "  r_Data = []                         # Lista de retrasos individuales\n",
        "\n",
        "  ti_Data.append(tll)\n",
        "\n",
        "  while count < Num_Pkts:\n",
        "      if tll < ts:                                  # Evento de llegada\n",
        "          t = tll\n",
        "          tll_Data.append(t)\n",
        "          \n",
        "          t_evento_anterior = t\n",
        "          \n",
        "          N = N + 1.0\n",
        "          tll = t + random.expovariate(lamda) \n",
        "          if N == 1:\n",
        "              ts = t + random.expovariate(mu)\n",
        "\n",
        "      else:                                         # Evento de salida\n",
        "          t = ts\n",
        "          ts_Data.append(t)\n",
        "\n",
        "          t_evento_anterior = t\n",
        "\n",
        "          N = N - 1.0\n",
        "          count = count + 1                         # Paquetes simulados\n",
        "          if N > 0:\n",
        "              ts = t + random.expovariate(mu)\n",
        "          else:\n",
        "              ts = Infinity\n",
        "\n",
        "  for j in range(Num_Pkts-1):                         # Tiempo de inicio del servicio\n",
        "    if tll_Data[j+1]<ts_Data[j]:\n",
        "      ti_Data.append(ts_Data[j])\n",
        "    else:\n",
        "      ti_Data.append(tll_Data[j+1])\n",
        "              \n",
        "  for i in range(Num_Pkts):\n",
        "      d = ts_Data[i] - tll_Data[i]                  # Tiempo de los clientes en el sistema\n",
        "      r_Data.append(d)\n",
        "\n",
        "      c = ti_Data[i] - tll_Data[i]                  # Tiempo en la cola\n",
        "      if c>0:\n",
        "        tc_Data.append(c)\n",
        "      else:\n",
        "        tc_Data.append(0)\n",
        "\n",
        "  return (tll_Data,tc_Data,ti_Data,ts_Data)"
      ],
      "metadata": {
        "id": "iyi1Gk73OLp4"
      },
      "execution_count": 30,
      "outputs": []
    },
    {
      "cell_type": "markdown",
      "source": [
        "Primero obtendremos los tiempos en los que no se tienen clientes, para sumarlos todos y obtener la cantidad de fichas que realizara en ese tiempo.\n",
        "\n",
        "Sabemos que la media de fichas que realiza es de $\\frac{22 \\text{ fichas}}{1 \\text{ hora}}$, pero debemos pasarlo a minutos ya que nuestro programa ocupa esa medida, entonces:\n",
        " \n",
        "$\\frac{22 \\text{ fichas}}{1 \\text{ hora}}=\\frac{22 \\text{ fichas}}{1 \\text{ hora}}\\frac{1 \\text{ hora}}{60 \\text{ minutos}}=\\frac{11 \\text{ fichas}}{30 \\text{ minuto}}$"
      ],
      "metadata": {
        "id": "lRnbS_QGOis0"
      }
    },
    {
      "cell_type": "code",
      "source": [
        "tll,tc,ti,ts=mm1(2/15,1/5,100)\n",
        "\n",
        "#print(tll,'\\n',tc,'\\n',ti,'\\n',ts)\n",
        "#print(len(tll),'\\n',len(tc),'\\n',len(ti),'\\n',len(ts))\n",
        "\n",
        "tsc=[]                              # Lista de tiempos sin clientes\n",
        "tsc.append(tll[0])                  # Se le asigna el primer valor de llegada, ya que antes de esta llegada no hay clientes\n",
        "\n",
        "for i in range(len(ts)-1):\n",
        "  temp=tll[i+1]-ts[i]\n",
        "\n",
        "  if temp>0:\n",
        "    tsc.append(temp)\n",
        "  else:\n",
        "    tsc.append(0)\n",
        "    \n",
        "#print(tsc)\n",
        "#print(len(tsc))\n",
        "stsc=sum(tsc)                      # Suma de todos los tiempos sin clientes\n",
        "\n",
        "nf=stsc*(11/30)\n",
        "\n",
        "print('%.2f es el número de fichas que se hicieron' %nf, 'en los %.2f minutos sin clientes' %stsc)"
      ],
      "metadata": {
        "colab": {
          "base_uri": "https://localhost:8080/"
        },
        "id": "SRJhP4HpQDDL",
        "outputId": "1df09427-c326-44f4-cb0b-de02d52d91c7"
      },
      "execution_count": 31,
      "outputs": [
        {
          "output_type": "stream",
          "name": "stdout",
          "text": [
            "116.26 es el número de fichas que se hicieron en los 317.07 minutos sin clientes\n"
          ]
        }
      ]
    },
    {
      "cell_type": "markdown",
      "source": [
        "## 2. Lavado de autos\n",
        "\n",
        "Un pequeño autoservicio de lavado que solo tienen capacidad para atender de uno en uno a los autos que llegan, tiene un aparcamiento para 10 coches, incluyendo el que está siendo lavado. La empresa ha estimado que los coches llegan siguiendo una distribución de Poisson con una media de 20 coches/hora, el tiempo de servicio sigue una distribución exponencial de 12 minutos. La empresa abre durante 10 horas al día.\n",
        "\n",
        "¿Cuál es la media de coches perdidos cada día debido a las limitaciones de espacio?"
      ],
      "metadata": {
        "id": "7qJ9ROHHhIXu"
      }
    },
    {
      "cell_type": "markdown",
      "source": [
        "La siguiente funcion nos regresa:\n",
        "\n",
        "*   Número de clientes en el sistema en cada momento del dia\n",
        "*   Número de clientes perdidos en cada momento del dia\n",
        "*   Número total de clientes perdidos al dia"
      ],
      "metadata": {
        "id": "iSmRmYv_DSua"
      }
    },
    {
      "cell_type": "code",
      "source": [
        "def mm1_n(lamda,mu,Num_Pkts,capacidadsistema):\n",
        "  count = 0                           # Contador de paquetes simulados\n",
        "  t = 0\n",
        "  N = 0                               # Variable de estado: numero de paquetes en el sistema\n",
        "  ch = 0\n",
        "  chp = 0\n",
        "\n",
        "  tll = random.expovariate(lamda)     # Tiempo de llegada\n",
        "  ts = Infinity                       # Tiempo de salida\n",
        "\n",
        "  t_evento_anterior = 0.0             # tiempo del último evento\n",
        "\n",
        "\n",
        "  # Variables de salida\n",
        "  tll_Data = []                       # Lista de tiempos de llegada\n",
        "  ts_Data = []                        # Lista de tiempos de salida\n",
        "  ti_Data = []                        # Lista de tiempos de inicio de servicio\n",
        "  tc_Data = []                        # Lista de tiempos en la cola\n",
        "  r_Data = []                         # Lista de retrasos individuales\n",
        "  n_Data = []                         # Lista de numero de clientes en el sistema\n",
        "  np_Data = []                        # Lista de numero de clientes perdidos\n",
        "\n",
        "  ti_Data.append(tll)\n",
        "  n_Data.append(ch)\n",
        "  np_Data.append(chp)\n",
        "\n",
        "  while count < Num_Pkts:\n",
        "      if tll < ts:                                  # Evento de llegada\n",
        "          t = tll\n",
        "          tll_Data.append(t)\n",
        "          \n",
        "          t_evento_anterior = t\n",
        "          \n",
        "          N = N + 1.0\n",
        "          tll = t + random.expovariate(lamda) \n",
        "          if N == 1:\n",
        "              ts = t + random.expovariate(mu)\n",
        "\n",
        "      else:                                         # Evento de salida\n",
        "          t = ts\n",
        "          ts_Data.append(t)\n",
        "\n",
        "          t_evento_anterior = t\n",
        "\n",
        "          N = N - 1.0\n",
        "          count = count + 1                         # Paquetes simulados\n",
        "          if N > 0:\n",
        "              ts = t + random.expovariate(mu)\n",
        "          else:\n",
        "              ts = Infinity\n",
        "\n",
        "  for j in range(Num_Pkts-1):                         # Tiempo de inicio del servicio\n",
        "    if tll_Data[j+1]<ts_Data[j]:\n",
        "      ti_Data.append(ts_Data[j])\n",
        "    else:\n",
        "      ti_Data.append(tll_Data[j+1])\n",
        "          \n",
        "  for i in range(Num_Pkts):\n",
        "      d = ts_Data[i] - tll_Data[i]                  # Tiempo de los clientes en el sistema\n",
        "      r_Data.append(d)\n",
        "\n",
        "      c = ti_Data[i] - tll_Data[i]                  # Tiempo en la cola\n",
        "      if c>0:\n",
        "        tc_Data.append(c)\n",
        "      else:\n",
        "        tc_Data.append(0)\n",
        "\n",
        "  j=0\n",
        "  k=0\n",
        "  while (j<Num_Pkts):                               # Numero de clientes en el sistema\n",
        "    if tll_Data[j]<ts_Data[k]:                  # Tiempo de llegada es menor al tiempo de salida\n",
        "\n",
        "      if ch<capacidadsistema:\n",
        "        ch=ch+1                                     # Llegada de un cliente\n",
        "        np_Data.append(0)\n",
        "      else:\n",
        "        chp=chp+1                                   # Clientes perdidos\n",
        "        np_Data.append(1)\n",
        "\n",
        "      n_Data.append(ch)\n",
        "      j=j+1                                     # Cambia al siguiente tiempo de llegada\n",
        "    else:\n",
        "      ch=ch-1                                       # Salida de un cliente\n",
        "      n_Data.append(ch)\n",
        "      np_Data.append(0)\n",
        "      k=k+1                                     # Cambia al siguiente tiempo de salida\n",
        "\n",
        "  return (n_Data,chp)"
      ],
      "metadata": {
        "id": "5XT3EI9BrU6c"
      },
      "execution_count": 109,
      "outputs": []
    },
    {
      "cell_type": "markdown",
      "source": [
        "Como las llegadas tienen una distribucion poisson, los servicios una distribucion exponecial y solo tenemos un servidor, tenemos un modelo de la forma: **M/M/1**\n",
        "\n",
        "El promedio de llegadas es de $λ=\\frac{20\\text{ llegadas}}{1\\text{ hora}}$, pero haremos la conversion a llegadas por minuto.\n",
        "\n",
        "$λ=\\frac{20\\text{ llegadas}}{1\\text{ hora}}(\\frac{1\\text{ hora}}{60 \\text{ minuto}})=\\frac{1}{3} \\frac{\\text{llegadas}}{\\text{minuto}}$\n",
        "\n",
        "El promedio de servicios es de $μ=\\frac{1 \\text{ llegada}}{12 \\text{ minuto}}$\n",
        "\n",
        "Sabemos que el tiempo de servicio es de $10$ horas, lo que en minutos es $600$ minutos, entonces el número total de clientes que podemos recibir durante todo el dia es de:\n",
        "\n",
        "$(600 \\text{ minuto})(\\frac{1}{3} \\frac{\\text{llegadas}}{\\text{minuto}})=100 \\text{ llegadas}$\n",
        "\n",
        "Al solo tener un servidor sabemos que si llegan más de un usuario a la vez tendremos cola y el tamaño de cola que podemos tener sin perder clientes es de $9$.\n",
        "\n",
        "Ahora realizaremos el calculo de la media de coches perdidos repitiendo 30 veces el calculo usando la funcion anterir."
      ],
      "metadata": {
        "id": "vQAAQ9dAoNhu"
      }
    },
    {
      "cell_type": "code",
      "source": [
        "mcp = []                        # Lista de numero de clientes perdidos\n",
        "\n",
        "for i in range(30):\n",
        "  n,cp=mm1_n(1/3,1/12,100,10)\n",
        "  mcp.append(cp)\n",
        "\n",
        "print('La media de coches perdidos cada día debido a las limitaciones de espacio es %.2f' %mean(mcp))"
      ],
      "metadata": {
        "id": "5WT69mE5h3K3",
        "colab": {
          "base_uri": "https://localhost:8080/"
        },
        "outputId": "37c794ab-1c12-460b-96d1-ec9ac32412e1"
      },
      "execution_count": 111,
      "outputs": [
        {
          "output_type": "stream",
          "name": "stdout",
          "text": [
            "La media de coches perdidos cada día debido a las limitaciones de espacio es 65.97\n"
          ]
        }
      ]
    },
    {
      "cell_type": "markdown",
      "source": [
        "## 3. John Macko\n",
        "\n",
        "John Macko es alumno en la U de Ozark. Hace trabajos extraños para aumentar sus ingresos. Las peticiones de trabajo llegan en promedio cada 5 días, pero el tiempo entre ellas es exponencial. El tiempo para terminar un trabajo también es exponencial, con una media de 4 días.\n",
        "\n",
        "\n",
        "\n",
        "\n"
      ],
      "metadata": {
        "id": "WPKHBWH0hcTy"
      }
    },
    {
      "cell_type": "markdown",
      "source": [
        "Como las llegadas tienen una distribucion exponencial, el tiempo para terminar una distribucion exponecial y solo tenemos un servidor al solo realizar el trabajo John, tenemos un modelo de la forma: **M/M/1**\n",
        "\n",
        "El promedio de llegadas es de $λ=\\frac{1\\text{ trabajo}}{5\\text{ dia}}$.\n",
        "\n",
        "El promedio de terminar el trabajo es de $μ=\\frac{1 \\text{ trabajo}}{12 \\text{ dia}}$\n",
        "\n",
        "No tenemos mas especificaciones del problema supondremos que llegan 30 trabajos. "
      ],
      "metadata": {
        "id": "MUKqYintGWCJ"
      }
    },
    {
      "cell_type": "markdown",
      "source": [
        "### a) ¿Cuál es la probabilidad de que le falte trabajo a John?"
      ],
      "metadata": {
        "id": "cTp3NQ_Khovs"
      }
    },
    {
      "cell_type": "markdown",
      "source": [
        "La probabilidad de que le falte trabajo es cuando obtenemos la probabilidad de 0 trabajos\n",
        "\n",
        "$P(trabajos=0)$"
      ],
      "metadata": {
        "id": "qC0UCTTkIBEQ"
      }
    },
    {
      "cell_type": "code",
      "source": [
        "pt=pmm1_ll(1/5,1/12,30)\n",
        "\n",
        "print(\"Probabilidad de que le falte trabajo es de %.4f\" %pt[1])"
      ],
      "metadata": {
        "id": "YF7UqAC2h4vb",
        "colab": {
          "base_uri": "https://localhost:8080/"
        },
        "outputId": "243cc6aa-51e8-480e-d97e-98a8238fffff"
      },
      "execution_count": 107,
      "outputs": [
        {
          "output_type": "stream",
          "name": "stdout",
          "text": [
            "Probabilidad de que le falte trabajo es de 0.0242\n"
          ]
        }
      ]
    },
    {
      "cell_type": "markdown",
      "source": [
        "### b) Si John cobra unos $50 por cada trabajo, ¿cuál es su ingreso mensual promedio?"
      ],
      "metadata": {
        "id": "zto-BAmyhrGd"
      }
    },
    {
      "cell_type": "code",
      "source": [
        "tm = []                        # Lista de numero de trabajos realizados\n",
        "\n",
        "for i in range(30):            # Se realiza 30 veces el calculo de cuantos trabajos se tienen al di, porque se necesitar el calculo mensual.\n",
        "  n,tp=mm1_n(1/5,1/12,30,1)\n",
        "  st=sum(n)                    # Trabajos al dia\n",
        "  tm.append(st)\n",
        "\n",
        "print('Numero medio de trabajos al mes es de %.2f' %mean(tm),'y su ingreso mensual promedio seria de $%.2f' %(50*mean(tm)))"
      ],
      "metadata": {
        "id": "d1QJdOQHh5G6",
        "colab": {
          "base_uri": "https://localhost:8080/"
        },
        "outputId": "512041d3-c6e5-430a-dd70-9a9e10b6e453"
      },
      "execution_count": 124,
      "outputs": [
        {
          "output_type": "stream",
          "name": "stdout",
          "text": [
            "Numero medio de trabajos al mes es de 12.57 y su ingreso mensual promedio seria de $628.33\n"
          ]
        }
      ]
    },
    {
      "cell_type": "markdown",
      "source": [
        "### c) Si al final del semestre John decide subcontratar los trabajos pendientes a $40 cada uno, ¿cuánto debe esperar pagar en promedio?"
      ],
      "metadata": {
        "id": "Yi8mMM0Uhvy9"
      }
    },
    {
      "cell_type": "code",
      "source": [
        "tpm = []                       # Lista de numero de trabajos pendientes\n",
        "\n",
        "for i in range(180):           # Se realiza 180 veces el calculo de cuantos trabajos pendientes se tienen al dia, porque se necesitar el calculo del semestre.\n",
        "  n,tp=mm1_n(1/5,1/12,30,1)\n",
        "  tpm.append(tp)\n",
        "\n",
        "print('Numero medio de trabajos pendientes a final del semestre es de %.2f' %mean(tpm),'y espera pagar en promedio seria de $%.2f' %(40*mean(tpm)))"
      ],
      "metadata": {
        "id": "ZuVWyq7Oh4Fy",
        "colab": {
          "base_uri": "https://localhost:8080/"
        },
        "outputId": "a44ad891-39c7-485c-b909-f0af3e9badc5"
      },
      "execution_count": 128,
      "outputs": [
        {
          "output_type": "stream",
          "name": "stdout",
          "text": [
            "Numero medio de trabajos pendientes a final del semestre es de 17.33 y espera pagar en promedio seria de $693.11\n"
          ]
        }
      ]
    }
  ]
}