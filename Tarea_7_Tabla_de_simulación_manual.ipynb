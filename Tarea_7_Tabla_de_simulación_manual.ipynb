{
  "nbformat": 4,
  "nbformat_minor": 0,
  "metadata": {
    "colab": {
      "name": "Tarea 7  Tabla de simulación manual.ipynb",
      "provenance": [],
      "authorship_tag": "ABX9TyNQFOs5ykPdJtJ3tLo/eRhV",
      "include_colab_link": true
    },
    "kernelspec": {
      "name": "python3",
      "display_name": "Python 3"
    },
    "language_info": {
      "name": "python"
    }
  },
  "cells": [
    {
      "cell_type": "markdown",
      "metadata": {
        "id": "view-in-github",
        "colab_type": "text"
      },
      "source": [
        "<a href=\"https://colab.research.google.com/github/MaxGarnica/Trabajos_SimulacionII/blob/main/Tarea_7_Tabla_de_simulaci%C3%B3n_manual.ipynb\" target=\"_parent\"><img src=\"https://colab.research.google.com/assets/colab-badge.svg\" alt=\"Open In Colab\"/></a>"
      ]
    },
    {
      "cell_type": "markdown",
      "source": [
        "*Maximiliano Garnica López*\n",
        "\n",
        "*Tarea 7*\n",
        "\n",
        "*Simulación II*"
      ],
      "metadata": {
        "id": "L1Mi2QlH0AFk"
      }
    },
    {
      "cell_type": "code",
      "source": [
        "from statistics import mean, median, variance, stdev "
      ],
      "metadata": {
        "id": "d4ZvqsujoTHT"
      },
      "execution_count": null,
      "outputs": []
    },
    {
      "cell_type": "markdown",
      "source": [
        "A partir de los datos dados completar la tabla y determinar los parámetros $λ$, $\\mu$, $L$ y $L_q$, como en el ejercicio visto en la clase."
      ],
      "metadata": {
        "id": "-GZJEmQnjP2r"
      }
    },
    {
      "cell_type": "markdown",
      "source": [
        "|  Cliente i:                       |  1 | 2 | 3 |4 |5 |6 |7 |8 |9 |10 | 11 | 12 |\n",
        "|-----------------------------------|----|---|---|--|--|--|--|--|--|---|----|----|\n",
        "|Tiempo de llegada entre i + 1 e i: |2   | 1 | 3 |1 |1 | 4|2 |5 |1 | 2 | 2  |    |\n",
        "|Tiempo de servicio al cliente:     | 1  | 3 | 6 |2 |1 | 1|4 | 2|5 |1  | 1  | 3  |"
      ],
      "metadata": {
        "id": "7AuiSrBv0bxq"
      }
    },
    {
      "cell_type": "markdown",
      "source": [
        "1. Completar la tabla completa\n",
        "\n",
        "| t | Entrada/salida i| Ini serv i | Ter serv i |T en cola |T en sist | Tamaño de cola t |Clientes en el sistema hasta t|\n",
        "|---|-----------------|------------|------------|----------|----------|------------------|------------------------------|\n",
        "| 0 |     1-E         |     0      |     1      |   0      |    1     |      0           |              1               |\n",
        "| 1 |     1-S         |     -      |     -      |     -    |    -     |      0           |              0               |"
      ],
      "metadata": {
        "id": "fySyYkc71Ql1"
      }
    },
    {
      "cell_type": "markdown",
      "source": [
        "Ahora completaremos la tabla suponiendo que solo tenermos un servidor.\n",
        "\n",
        "| t | Entrada/salida i| Ini serv i | Ter serv i |T en cola |T en sist | Tamaño de cola t |Clientes en el sistema hasta t|\n",
        "|---|-----------------|------------|------------|----------|----------|------------------|------------------------------|\n",
        "| 0 |     1-Entrada         |     0      |     1      |   0      |    1     |      0           |              1               |\n",
        "| 1 |     1-Salida         |     -      |     -      |     -    |    -     |      0           |              0               |\n",
        "| 2 |     2-Entrada         |     2      |     5      |   0      |    3     |      0           |              1               |\n",
        "| 3 |     3-Entrada         |     5      |     9      |     2    |    6     |      1          |               2              |\n",
        "| 4 |       -       |     -      |     -      |     -    |    -     |      1          |                      2       |\n",
        "| 5 |     2-Salida         |     -      |     -      |     -    |    -     |      0          |               1              |\n",
        "| 6 |     4-Entrada         |     9      |     8      |     2    |    2     |      1          |               2              |\n",
        "| 7 |     5-Entrada         |     9      |     8      |     1    |    1     |      2          |               3              |\n",
        "| 8 |     4-Salida         |     -      |     -      |     -    |    -     |      1          |               2              |\n",
        "| 8 |     5-Salida         |     -      |     -      |     -    |    -     |      0          |               1              |\n",
        "| 8 |     6-Entrada         |     9      |     9      |     1    |    1     |      1          |               2              |\n",
        "| 9 |     3-Salida         |     -      |     -      |     -    |    -     |      0          |               1              |\n",
        "| 9 |     6-Salida         |     -      |     -      |     -    |    -     |      0          |               0              |\n",
        "| 10 |    -          |     -      |     -      |     -    |    -     |       0         |                       0      |\n",
        "| 11 |    -          |     -      |     -      |     -    |    -     |      0          |                      0       |\n",
        "| 12 |    7-Entrada          |     12      |     16      |     0    |    4     |      0          |               1              |\n",
        "| 13 |    -          |     -      |     -      |     -    |    -     |         0       |          1                   |\n",
        "| 14 |    8-Entrada          |     16      |     16      |     2    |    2     |      1          |               2              |\n",
        "| 15 |    -          |     -      |     -      |     -    |    -     |         0       |                  2           |\n",
        "| 16 |    7-Salida           |     -      |     -      |     -    |    -     |      0          |               1              |\n",
        "| 16 |    8-Salida           |     -      |     -      |     -    |    -     |      0          |               0              |\n",
        "| 17 |    -          |           |     -      |     -    |    -     |         0       |                  0           |\n",
        "| 18 |    -          |     -      |     -      |     -    |    -     |         0       |                  0           |\n",
        "| 19 |    9-Entrada          |     19      |     24      |     0    |    5     |      0          |               1              |\n",
        "| 20 |    10-Entrada          |     24      |     21      |     1    |    1     |      1          |               2              |\n",
        "| 21 |    10-Salida          |     -      |     -      |     -    |    -     |      0          |               1              |\n",
        "| 22 |    11-Entrada          |     24      |     23      |     1    |    1     |      1          |               2              |\n",
        "| 23 |    11-Salida          |     -      |     -      |     -    |    -     |      0          |               1              |\n",
        "| 24 |    9-Salida          |     -      |     -      |     -    |    -     |      0          |               0              |\n",
        "| 24 |    12-Entrada          |     24      |     27      |     0    |    3     |      0          |               1              |\n",
        "| 25 |    -          |     -      |     -      |     -    |    -     |      0          |                      1       |\n",
        "| 26 |    -          |     -      |     -      |     -    |    -     |      0          |                      1       |\n",
        "| 27 |    12-Salida          |     -      |     -      |     -    |    -     |      0          |               0              |"
      ],
      "metadata": {
        "id": "9hxome5vIshW"
      }
    },
    {
      "cell_type": "markdown",
      "source": [
        "2.   Determinar los parámetros $λ$, $\\mu$, $L$ y $L_q$\n",
        "\n",
        "El número de llegadas por unidad de tiempo $\\lambda$ se obtiene con el total de llegadas que fueron $12$ entre el tiempo total en el que ocurrieron esas llegadas que es $24$ minutos"
      ],
      "metadata": {
        "id": "iOXxNpUwjhe5"
      }
    },
    {
      "cell_type": "code",
      "source": [
        "lambd=12/24\n",
        "\n",
        "print('Número de llegadas por unidad de tiempo es λ=%.2f' %lambd)"
      ],
      "metadata": {
        "colab": {
          "base_uri": "https://localhost:8080/"
        },
        "id": "pwELMyn3kcI5",
        "outputId": "8ca5aad2-13dd-425f-ff1c-18b79b2fffcf"
      },
      "execution_count": null,
      "outputs": [
        {
          "output_type": "stream",
          "name": "stdout",
          "text": [
            "Número de llegadas por unidad de tiempo es λ=0.50\n"
          ]
        }
      ]
    },
    {
      "cell_type": "markdown",
      "source": [
        "El número de servicios por unidad de tiempo $\\mu$ se obtiene con:\n",
        "\n",
        "El total de servicios que fueron $8$ por que $4$ se fueron antes de darles el servicio, entre el tiempo total donde se dieron los servicios que es desde el minuto $0$ hasta el $9$ mas del minuto $12$ al $16$ finalmente mas del minuto $19$ al $27$, obteniendo $21$ minutos."
      ],
      "metadata": {
        "id": "C3EifNqwkooY"
      }
    },
    {
      "cell_type": "code",
      "source": [
        "mu=8/21\n",
        "\n",
        "print('Número de servicios por unidad de tiempo es μ=%.2f' %mu)"
      ],
      "metadata": {
        "colab": {
          "base_uri": "https://localhost:8080/"
        },
        "id": "HqBGNAkGnh6q",
        "outputId": "d7f0e12d-ab62-4f63-f030-ffa19fe6e8a5"
      },
      "execution_count": null,
      "outputs": [
        {
          "output_type": "stream",
          "name": "stdout",
          "text": [
            "Número de servicios por unidad de tiempo es μ=0.38\n"
          ]
        }
      ]
    },
    {
      "cell_type": "markdown",
      "source": [
        "El número medio de clientes en el sistema $L$ se obtiene con la formula:\n",
        "\n",
        "$L= \\lambda W$\n",
        "\n",
        "El valor de $\\lambda$ ya lo tenemos. El de $W$ es el tiempo medio de estancia de los clientes en el sistema que se obtiene sacandole el promedio a la columna **T en sist**"
      ],
      "metadata": {
        "id": "zbmhFXZlkNOc"
      }
    },
    {
      "cell_type": "code",
      "source": [
        "tsist=[1,3,6,2,1,1,4,2,5,1,1,3]\n",
        "\n",
        "W=mean(tsist)\n",
        "\n",
        "print('El tiempo medio de estancia de los clientes en el sistema es W=%.2f' %W)"
      ],
      "metadata": {
        "colab": {
          "base_uri": "https://localhost:8080/"
        },
        "id": "6mC5L2WXoP7s",
        "outputId": "449c739e-6f4a-49df-f479-07621b0d786e"
      },
      "execution_count": null,
      "outputs": [
        {
          "output_type": "stream",
          "name": "stdout",
          "text": [
            "El tiempo medio de estancia de los clientes en el sistema es W=2.50\n"
          ]
        }
      ]
    },
    {
      "cell_type": "markdown",
      "source": [
        "EL valor de $L$ es"
      ],
      "metadata": {
        "id": "Rb9vWvx0qCAC"
      }
    },
    {
      "cell_type": "code",
      "source": [
        "L=lambd*W\n",
        "\n",
        "print('El número medio de clientes en el sistema es L=%.2f' %L)"
      ],
      "metadata": {
        "colab": {
          "base_uri": "https://localhost:8080/"
        },
        "id": "RUOwG0gsqBD0",
        "outputId": "faebd6e0-8430-4a65-c7c9-08ff6df29250"
      },
      "execution_count": null,
      "outputs": [
        {
          "output_type": "stream",
          "name": "stdout",
          "text": [
            "El número medio de clientes en el sistema es L=1.25\n"
          ]
        }
      ]
    },
    {
      "cell_type": "markdown",
      "source": [
        "El número medio de clientes en la cola $L_q$ se obtiene con la formula:\n",
        "\n",
        "$L_q = \\lambda W_q$\n",
        "\n",
        "El valor de $\\lambda$ ya lo tenemos. El de $W_q$ es el tiempo medio de espera de los clientes en la cola que se obtiene sacandole el promedio a la columna **T en cola**"
      ],
      "metadata": {
        "id": "-Y9QZ5_WqbwM"
      }
    },
    {
      "cell_type": "code",
      "source": [
        "tcola=[0,0,2,2,1,1,0,2,0,1,1,0]\n",
        "\n",
        "Wq=mean(tcola)\n",
        "\n",
        "print('El tiempo medio de espera de los clientes en la cola es W_q=%.2f' %Wq)"
      ],
      "metadata": {
        "colab": {
          "base_uri": "https://localhost:8080/"
        },
        "id": "zR0vCIn-qgLM",
        "outputId": "f2927156-d71e-495a-9640-0c77e2191ed6"
      },
      "execution_count": null,
      "outputs": [
        {
          "output_type": "stream",
          "name": "stdout",
          "text": [
            "El tiempo medio de espera de los clientes en la cola es W_q=0.83\n"
          ]
        }
      ]
    },
    {
      "cell_type": "markdown",
      "source": [
        "EL valor de $L_q$ es"
      ],
      "metadata": {
        "id": "cP_ZknxIqj2P"
      }
    },
    {
      "cell_type": "code",
      "source": [
        "Lq=lambd*Wq\n",
        "\n",
        "print('El número medio de clientes en la cola es L_q=%.2f' %Lq)"
      ],
      "metadata": {
        "colab": {
          "base_uri": "https://localhost:8080/"
        },
        "id": "rHCiu1bNqpa6",
        "outputId": "8044a2e0-99e2-42b9-b249-54dbe2fc1439"
      },
      "execution_count": null,
      "outputs": [
        {
          "output_type": "stream",
          "name": "stdout",
          "text": [
            "El número medio de clientes en la cola es L_q=0.42\n"
          ]
        }
      ]
    }
  ]
}