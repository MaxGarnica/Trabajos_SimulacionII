{
  "nbformat": 4,
  "nbformat_minor": 0,
  "metadata": {
    "colab": {
      "name": "Tarea 7  Tabla de simulación manual.ipynb",
      "provenance": [],
      "authorship_tag": "ABX9TyMlXNom5NdADvz4xlSszmMa",
      "include_colab_link": true
    },
    "kernelspec": {
      "name": "python3",
      "display_name": "Python 3"
    },
    "language_info": {
      "name": "python"
    }
  },
  "cells": [
    {
      "cell_type": "markdown",
      "metadata": {
        "id": "view-in-github",
        "colab_type": "text"
      },
      "source": [
        "<a href=\"https://colab.research.google.com/github/MaxGarnica/Trabajos_SimulacionII/blob/Tareas/Tarea_7_Tabla_de_simulaci%C3%B3n_manual.ipynb\" target=\"_parent\"><img src=\"https://colab.research.google.com/assets/colab-badge.svg\" alt=\"Open In Colab\"/></a>"
      ]
    },
    {
      "cell_type": "markdown",
      "source": [
        "*Maximiliano Garnica López*\n",
        "\n",
        "*Tarea 7*\n",
        "\n",
        "*Simulación II*"
      ],
      "metadata": {
        "id": "L1Mi2QlH0AFk"
      }
    },
    {
      "cell_type": "markdown",
      "source": [
        "|  Cliente i:                       |  1 | 2 | 3 |4 |5 |6 |7 |8 |9 |10 | 11 | 12 |\n",
        "|-----------------------------------|----|---|---|--|--|--|--|--|--|---|----|----|\n",
        "|Tiempo de llegada entre i + 1 e i: |2   | 1 | 3 |1 |1 | 4|2 |5 |1 | 2 | 2  |    |\n",
        "|Tiempo de servicio al cliente:     | 1  | 3 | 6 |2 |1 | 1|4 | 2|5 |1  | 1  | 3  |"
      ],
      "metadata": {
        "id": "7AuiSrBv0bxq"
      }
    },
    {
      "cell_type": "markdown",
      "source": [
        "1. Contruir la tabla completa\n",
        "\n",
        "| t | Entrada/salida i| Ini serv i | Ter serv i |T en cola |T en sist | Tamaño de cola t |Clientes en el sistema hasta t|\n",
        "|---|-----------------|------------|------------|----------|----------|------------------|------------------------------|\n",
        "| 0 |     1-E         |     0      |     1      |   0      |    1     |      0           |              1               |\n",
        "| 1 |     1-S         |     -      |     -      |     -    |    -     |      0           |              0               |"
      ],
      "metadata": {
        "id": "fySyYkc71Ql1"
      }
    },
    {
      "cell_type": "markdown",
      "source": [
        "Ahora completaremos la tabla suponiendo que solo tenermos un servidor.\n",
        "\n",
        "| t | Entrada/salida i| Ini serv i | Ter serv i |T en cola |T en sist | Tamaño de cola t |Clientes en el sistema hasta t|\n",
        "|---|-----------------|------------|------------|----------|----------|------------------|------------------------------|\n",
        "| 0 |     1-Entrada         |     0      |     1      |   0      |    1     |      0           |              1               |\n",
        "| 1 |     1-Salida         |     -      |     -      |     -    |    -     |      0           |              0               |\n",
        "| 2 |     2-Entrada         |     2      |     5      |   0      |    3     |      0           |              1               |\n",
        "| 3 |     3-Entrada         |     5      |     9      |     2    |    6     |      1          |               2              |\n",
        "| 4 |       -       |     -      |     -      |     -    |    -     |      1          |                      2       |\n",
        "| 5 |     2-Salida         |     -      |     -      |     -    |    -     |      0          |               1              |\n",
        "| 6 |     4-Entrada         |     9      |     8      |     2    |    2     |      1          |               2              |\n",
        "| 7 |     5-Entrada         |     9      |     8      |     1    |    1     |      2          |               3              |\n",
        "| 8 |     4-Salida         |     -      |     -      |     -    |    -     |      1          |               2              |\n",
        "| 8 |     5-Salida         |     -      |     -      |     -    |    -     |      0          |               1              |\n",
        "| 8 |     6-Entrada         |     9      |     9      |     1    |    1     |      1          |               2              |\n",
        "| 9 |     3-Salida         |     -      |     -      |     -    |    -     |      0          |               1              |\n",
        "| 9 |     6-Salida         |     -      |     -      |     -    |    -     |      0          |               0              |\n",
        "| 10 |    -          |     -      |     -      |     -    |    -     |       0         |                       0      |\n",
        "| 11 |    -          |     -      |     -      |     -    |    -     |      0          |                      0       |\n",
        "| 12 |    7-Entrada          |     12      |     16      |     0    |    4     |      0          |               1              |\n",
        "| 13 |    -          |     -      |     -      |     -    |    -     |         -       |          -                   |\n",
        "| 14 |    8-Entrada          |     16      |     16      |     2    |    2     |      1          |               2              |\n",
        "| 15 |    -          |     -      |     -      |     -    |    -     |         -       |                  -           |\n",
        "| 16 |    7-Salida           |     -      |     -      |     -    |    -     |      0          |               1              |\n",
        "| 16 |    8-Salida           |     -      |     -      |     -    |    -     |      0          |               0              |\n",
        "| 17 |    -          |     -      |     -      |     -    |    -     |         -       |                  -           |\n",
        "| 18 |    -          |     -      |     -      |     -    |    -     |         -       |                  -           |\n",
        "| 19 |    9-Entrada          |     19      |     24      |     0    |    5     |      0          |               1              |\n",
        "| 20 |    10-Entrada          |     24      |     21      |     1    |    1     |      1          |               2              |\n",
        "| 21 |    10-Salida          |     -      |     -      |     -    |    -     |      0          |               1              |\n",
        "| 22 |    11-Entrada          |     24      |     23      |     1    |    1     |      1          |               2              |\n",
        "| 23 |    11-Salida          |     -      |     -      |     -    |    -     |      0          |               1              |\n",
        "| 24 |    9-Salida          |     -      |     -      |     -    |    -     |      0          |               0              |\n",
        "| 24 |    12-Entrada          |     24      |     26      |     0    |    2     |      0          |               1              |\n",
        "| 25 |    -          |     -      |     -      |     -    |    -     |      0          |                      1       |\n",
        "| 26 |    12-Salida          |     -      |     -      |     -    |    -     |      0          |               0              |"
      ],
      "metadata": {
        "id": "9hxome5vIshW"
      }
    }
  ]
}