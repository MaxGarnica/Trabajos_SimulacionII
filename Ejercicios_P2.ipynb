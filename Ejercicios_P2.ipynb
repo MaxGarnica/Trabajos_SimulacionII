{
  "nbformat": 4,
  "nbformat_minor": 0,
  "metadata": {
    "colab": {
      "name": "Ejercicios P2.ipynb",
      "provenance": [],
      "collapsed_sections": [
        "4UCWFNvmuDFc",
        "7EqcmxKhuPqb",
        "ylgO5MHEvVOP",
        "0we05yx2SohN",
        "hVfWCzVLS-rI",
        "mbl48KK16mI-",
        "KiVCwB0jM_BX",
        "FCFOHCA5Pd6j",
        "3gCdyHdSWZjx",
        "5Uz-F4yKIcyt",
        "t_7iBWteLJw4",
        "UVj-ifLlOV8Y",
        "rsUbL4EMwjRW",
        "WrJ3arl-RJ6d",
        "r6fFFAy0Rm_e",
        "LAOoHk0BcdJg"
      ],
      "authorship_tag": "ABX9TyPIoMsLGnneKQpXGSUcqjuV",
      "include_colab_link": true
    },
    "kernelspec": {
      "name": "python3",
      "display_name": "Python 3"
    },
    "language_info": {
      "name": "python"
    }
  },
  "cells": [
    {
      "cell_type": "markdown",
      "metadata": {
        "id": "view-in-github",
        "colab_type": "text"
      },
      "source": [
        "<a href=\"https://colab.research.google.com/github/MaxGarnica/Trabajos_SimulacionII/blob/main/Ejercicios_P2.ipynb\" target=\"_parent\"><img src=\"https://colab.research.google.com/assets/colab-badge.svg\" alt=\"Open In Colab\"/></a>"
      ]
    },
    {
      "cell_type": "markdown",
      "source": [
        "*Maximiliano Garnica López*\n",
        "\n",
        "*Ejercicios*\n",
        "\n",
        "*Simulación II*"
      ],
      "metadata": {
        "id": "fjXDowqRtsxN"
      }
    },
    {
      "cell_type": "markdown",
      "source": [
        "# **SEGUNDO PARCIAL**"
      ],
      "metadata": {
        "id": "lm8iQqtctvLq"
      }
    },
    {
      "cell_type": "code",
      "execution_count": 93,
      "metadata": {
        "id": "CiJJZ_64tpRf"
      },
      "outputs": [],
      "source": [
        "import random\n",
        "from matplotlib.pyplot import *\n",
        "import numpy as np\n",
        "import pandas as pd\n",
        "import statistics\n",
        "from math import inf as Infinity\n",
        "from time import time\n",
        "import math"
      ]
    },
    {
      "cell_type": "markdown",
      "source": [
        "## Ejercicio 1\n",
        "Simulación manual."
      ],
      "metadata": {
        "id": "4UCWFNvmuDFc"
      }
    },
    {
      "cell_type": "markdown",
      "source": [
        "1. Completar la tabla.\n",
        "\n",
        "| Pkt No. |Tpll  |tps  |Tiempo de arribo|Inicio de servicio|Hora de salida|Tiempo en fila |Tiempo en el sistema  |\n",
        "|---------|-----|----|--------------|-------------------|----------------|---------------|-----------------| \n",
        "|    1    |  2  | 12 |       2      |         2         |      14        |      0        |       12        |\n",
        "|    2    |  5  | 10 |       7      |         14        |      24        |      7        |       17        | \n",
        "|    3    |  1  | 16 |       8       |     24              |   40             |  16             |      32           |\n",
        "|    4    |  4  | 9  |     12         |    40               |    49            |      28         |      37           |\n",
        "|    5    |  1  | 10 |      13        |        49           |    59            |      36         |       46          | \n",
        "|    6    |  3  | 13 |      16        |       59            |     72           |      43         |       56          |\n",
        "|    7    |  3  | 17 |      19        |      72             |      89          |        53       |       70          | \n",
        "|    8    |  2  | 10 |      21        |        89           |      99          |       68        |        78         |\n",
        "|    9    |  4  | 8  |      25        |        99           |      107          |        74       |      82           |\n",
        "|   10    |  5  | 12 |     30         |        107           |     119           |       77        |         89        |"
      ],
      "metadata": {
        "id": "Z_YawliNuHV-"
      }
    },
    {
      "cell_type": "markdown",
      "source": [
        "## Ejercicio 2\n",
        "\n",
        "Continuacion..."
      ],
      "metadata": {
        "id": "7EqcmxKhuPqb"
      }
    },
    {
      "cell_type": "markdown",
      "source": [
        "1. Con la información de la tabla completa, determinar: $\\lambda$, $\\mu$, $L$ y $L_q$.\n",
        "\n",
        "El número de llegadas por unidad de tiempo $\\lambda$ se obtiene con el total de llegadas que fueron $10$ entre el tiempo total en el que ocurrieron esas llegadas $30$ minutos"
      ],
      "metadata": {
        "id": "fMAW3AIruTP_"
      }
    },
    {
      "cell_type": "code",
      "source": [
        "lambd=10/30\n",
        "\n",
        "print('Número de llegadas por unidad de tiempo es λ=%.2f' %lambd)"
      ],
      "metadata": {
        "colab": {
          "base_uri": "https://localhost:8080/"
        },
        "id": "XQDWFQNSuWau",
        "outputId": "269af16b-7f31-44ca-af2f-36919191c019"
      },
      "execution_count": 2,
      "outputs": [
        {
          "output_type": "stream",
          "name": "stdout",
          "text": [
            "Número de llegadas por unidad de tiempo es λ=0.33\n"
          ]
        }
      ]
    },
    {
      "cell_type": "markdown",
      "source": [
        "El número de servicios por unidad de tiempo $\\mu$ se obtiene con el total de servicios que fueron $10$ entre el tiempo total donde se dieron los servicios que es desde el minuto $2$ hasta el $119$, obteniendo $117$ minutos."
      ],
      "metadata": {
        "id": "0I4EM5oDuk_J"
      }
    },
    {
      "cell_type": "code",
      "source": [
        "mu=10/117\n",
        "\n",
        "print('Número de servicios por unidad de tiempo es μ=%.2f' %mu)"
      ],
      "metadata": {
        "colab": {
          "base_uri": "https://localhost:8080/"
        },
        "id": "O6YvBpRdul4w",
        "outputId": "6048d39d-a4ef-4c61-bb77-c95499b0f074"
      },
      "execution_count": 3,
      "outputs": [
        {
          "output_type": "stream",
          "name": "stdout",
          "text": [
            "Número de servicios por unidad de tiempo es μ=0.09\n"
          ]
        }
      ]
    },
    {
      "cell_type": "markdown",
      "source": [
        "El número medio de clientes en el sistema $L$ se obtiene con la formula:\n",
        "\n",
        "$L= \\lambda W$\n",
        "\n",
        "El valor de $\\lambda$ ya lo tenemos. El de $W$ es el tiempo medio de estancia de los clientes en el sistema que se obtiene sacandole el promedio a la columna **Tiempo en el sistema**"
      ],
      "metadata": {
        "id": "QvTgXCxxupBU"
      }
    },
    {
      "cell_type": "code",
      "source": [
        "tiempsist=[12,17,32,37,46,56,70,78,82,89]\n",
        "\n",
        "W=mean(tiempsist)\n",
        "\n",
        "print('El tiempo medio de estancia de los clientes en el sistema es W=%.2f' %W)"
      ],
      "metadata": {
        "colab": {
          "base_uri": "https://localhost:8080/"
        },
        "id": "io_loZCjuuIc",
        "outputId": "882c16af-737a-4b71-c8f9-3e9cc96d8ab6"
      },
      "execution_count": 4,
      "outputs": [
        {
          "output_type": "stream",
          "name": "stdout",
          "text": [
            "El tiempo medio de estancia de los clientes en el sistema es W=51.90\n"
          ]
        }
      ]
    },
    {
      "cell_type": "markdown",
      "source": [
        "EL valor de $L$ es"
      ],
      "metadata": {
        "id": "r7sakQjKuwUo"
      }
    },
    {
      "cell_type": "code",
      "source": [
        "L=lambd*W\n",
        "\n",
        "print('El número medio de clientes en el sistema es L=%.2f' %L)"
      ],
      "metadata": {
        "colab": {
          "base_uri": "https://localhost:8080/"
        },
        "id": "aIHKI1rXu9sk",
        "outputId": "e8e6562e-5687-48a5-d8fd-1e4a166b39c3"
      },
      "execution_count": 5,
      "outputs": [
        {
          "output_type": "stream",
          "name": "stdout",
          "text": [
            "El número medio de clientes en el sistema es L=17.30\n"
          ]
        }
      ]
    },
    {
      "cell_type": "markdown",
      "source": [
        "El número medio de clientes en la cola $L_q$ se obtiene con la formula:\n",
        "\n",
        "$L_q = \\lambda W_q$\n",
        "\n",
        "El valor de $\\lambda$ ya lo tenemos. El de $W_q$ es el tiempo medio de espera de los clientes en la cola que se obtiene sacandole el promedio a la columna **Tiempo en fila**"
      ],
      "metadata": {
        "id": "aAfg035ju9IV"
      }
    },
    {
      "cell_type": "code",
      "source": [
        "tiempfila=[0,7,16,28,36,43,53,68,74,77]\n",
        "\n",
        "Wq=mean(tiempfila)\n",
        "\n",
        "print('El tiempo medio de espera de los clientes en la cola es W_q=%.2f' %Wq)"
      ],
      "metadata": {
        "colab": {
          "base_uri": "https://localhost:8080/"
        },
        "id": "HmBKVDIkvE1S",
        "outputId": "c2f14c30-06c9-4cea-80b4-0b3313bfd87a"
      },
      "execution_count": 6,
      "outputs": [
        {
          "output_type": "stream",
          "name": "stdout",
          "text": [
            "El tiempo medio de espera de los clientes en la cola es W_q=40.20\n"
          ]
        }
      ]
    },
    {
      "cell_type": "markdown",
      "source": [
        "EL valor de $L_q$ es"
      ],
      "metadata": {
        "id": "9CSr_cDBvJrC"
      }
    },
    {
      "cell_type": "code",
      "source": [
        "Lq=lambd*Wq\n",
        "\n",
        "print('El número medio de clientes en la cola es L_q=%.2f' %Lq)"
      ],
      "metadata": {
        "colab": {
          "base_uri": "https://localhost:8080/"
        },
        "id": "1mSaa37PvOmy",
        "outputId": "97a00c89-7f10-4611-cd57-a194e06e5489"
      },
      "execution_count": 7,
      "outputs": [
        {
          "output_type": "stream",
          "name": "stdout",
          "text": [
            "El número medio de clientes en la cola es L_q=13.40\n"
          ]
        }
      ]
    },
    {
      "cell_type": "markdown",
      "source": [
        "## Ejercicio 3"
      ],
      "metadata": {
        "id": "ylgO5MHEvVOP"
      }
    },
    {
      "cell_type": "markdown",
      "source": [
        "**Variables:**\n",
        "\n",
        "1. Variable de tiempo $t$: tiempo (simulado) transcurrido.\n",
        "\n",
        "2. Variables de conteo: número de veces que ciertos eventos han ocurrido, hasta el instante $t$.\n",
        "    \n",
        "3. Variables de estado del sistema (ES): Describen el estado del sistema en el instante $t$."
      ],
      "metadata": {
        "id": "mLmiRX-ZRzxe"
      }
    },
    {
      "cell_type": "markdown",
      "source": [
        "Subrutina para generar $T_s$, el tiempo de la primera llegada después del instante s."
      ],
      "metadata": {
        "id": "M8gk2WplR5Vx"
      }
    },
    {
      "cell_type": "markdown",
      "source": [
        "Paso 1: Sea $t = s$.\n",
        "\n",
        "Paso 2: Generar $U$.\n",
        "\n",
        "Paso 3: Sea $t = t - \\frac{1}{\\lambda} logU$.\n",
        "\n",
        "Paso 4: Generar $U$.\n",
        "\n",
        "Paso 5: Si $U \\leq \\frac{\\lambda(t)}{\\lambda}$, hacer $T_s = t$ y terminar.\n",
        "\n",
        "Paso 6: Ir al paso 2."
      ],
      "metadata": {
        "id": "ur3s5aRtR9eq"
      }
    },
    {
      "cell_type": "markdown",
      "source": [
        "1. Escribir el código para la subrutina que genera $T_s$."
      ],
      "metadata": {
        "id": "0fpyxy4ivWRq"
      }
    },
    {
      "cell_type": "code",
      "source": [
        "s=2                                               #Tiempo promedio entre llegadas\n",
        "i=0                                               #Variable de estado para terminar el ciclo\n",
        "t=s                                               #Hora de simulación actual\n",
        "while i==0 :\n",
        "  r1=random.random()                              #Generar U~(0,1)\n",
        "  t=t-(1/lambd)*np.log(r1)\n",
        "  r2=random.random()                              #Generar U~(0,1)\n",
        "\n",
        "  if (r2<=(random.expovariate(t)/lambd)):         #Si U<=λ(t)/λ\n",
        "    Ts=t\n",
        "    i=1                                           #Termina el ciclo\n",
        "  \n",
        "print('Ts = %f' %Ts)"
      ],
      "metadata": {
        "colab": {
          "base_uri": "https://localhost:8080/"
        },
        "id": "HU2AK4eyTVsv",
        "outputId": "792f2ec1-8dee-42b0-8b55-01266a35b99b"
      },
      "execution_count": 8,
      "outputs": [
        {
          "output_type": "stream",
          "name": "stdout",
          "text": [
            "Ts = 5.181323\n"
          ]
        }
      ]
    },
    {
      "cell_type": "markdown",
      "source": [
        "## Ejercicio:"
      ],
      "metadata": {
        "id": "0we05yx2SohN"
      }
    },
    {
      "cell_type": "markdown",
      "source": [
        "Lavado Automata para automóviles funciona sólo con un lugar. Los autos llegan siguiendo\n",
        "una distribución de Poisson, con 4 autos por hora, que pueden esperar en el estacionamiento de\n",
        "la instalación, si el lugar de lavado está ocupado. El tiempo para lavar y limpiar un automóvil\n",
        "es exponencial, con 10 minutos de promedio. Los automóviles que no se pueden estacionar en\n",
        "la instalación pueden esperar en el arrollo junto al lavado. Eso quiere decir que para todo fin\n",
        "práctico no hay límite del tamaño del sistema. El gerente de la instalación desea determinar el\n",
        "tamaño del estacionamiento.\n",
        "\n",
        "Para resolver este problema, hay que determinar $L_q$, pero de momento estimemos $L$ y $W$ usando la simulación."
      ],
      "metadata": {
        "id": "L0LXiRSLSvmG"
      }
    },
    {
      "cell_type": "markdown",
      "source": [
        "El número de autos que llegaron en una hora es $λ=4$\n",
        "\n",
        "El número de servicios de autos por hora es de $μ= \\frac{1}{10} \\text{minutos} =\\frac{60}{10} \\text{horas}= 6$"
      ],
      "metadata": {
        "id": "MuraqcaqUH2f"
      }
    },
    {
      "cell_type": "code",
      "source": [
        "# Parametros\n",
        "\n",
        "lamda = 4.0                         # Razón de arrivos (1/Lambda)\n",
        "mu = 6.0                            # Razón de salida (1/Mu)\n",
        "\n",
        "\n",
        "Num_Pkts = 100                      # Numero de paquetes a simular\n",
        "count = 0                           # Contador de paquetes simulados\n",
        "t = 0\n",
        "N = 0                               # Variable de estado: numero de paquetes en el sistema\n",
        "\n",
        "tll = random.expovariate(lamda)     # Tiempo de llegada\n",
        "ts = Infinity                       # Tiempo de salida\n",
        "\n",
        "t_evento_anterior = 0.0             # tiempo del último evento\n",
        "\n",
        "\n",
        "# Variables de salida\n",
        "tll_Data = []                       # Lista de tiempos de llegada\n",
        "ts_Data = []                        # Lista de tiempos de salida\n",
        "r_Data = []                         # Lista de retrasos individuales\n",
        "Area = []                           # Area de escalón\n",
        "\n",
        "\n",
        "while count < Num_Pkts:\n",
        "    if tll < ts:                           # Evento de llegada\n",
        "        t = tll\n",
        "        tll_Data.append(t)\n",
        "        \n",
        "        # Area del escalón\n",
        "        Area.append((t - t_evento_anterior)*N)\n",
        "        t_evento_anterior = t\n",
        "        \n",
        "        \n",
        "        N = N + 1.0\n",
        "        tll = t + random.expovariate(lamda) \n",
        "        if N == 1:\n",
        "            ts = t + random.expovariate(mu)\n",
        "    else:                                         # Evento de salida\n",
        "        t = ts\n",
        "        ts_Data.append(t)\n",
        "        \n",
        "        # Area del escalón\n",
        "        Area.append((t - t_evento_anterior)*N)\n",
        "        t_evento_anterior = t\n",
        "        \n",
        "        \n",
        "        N = N - 1.0\n",
        "        count = count + 1                         # Paquetes simulados\n",
        "        if N > 0:\n",
        "            ts = t + random.expovariate(mu)\n",
        "        else:\n",
        "            ts = Infinity\n",
        "            \n",
        "# Estimación del retraso promedio:\n",
        "\n",
        "for i in range(Num_Pkts):\n",
        "    d = ts_Data[i] - tll_Data[i]\n",
        "    r_Data.append(d)\n",
        "\n",
        "print( \"Retraso promedio es W = \", round( mean(r_Data), 4) )\n",
        "print( \"E[ N(t)] = L = \", round(sum(Area)/t, 4))"
      ],
      "metadata": {
        "colab": {
          "base_uri": "https://localhost:8080/"
        },
        "id": "Eu5OoEa5UlMB",
        "outputId": "7b83b6d9-bdeb-493f-c32d-508a6e8dca54"
      },
      "execution_count": 9,
      "outputs": [
        {
          "output_type": "stream",
          "name": "stdout",
          "text": [
            "Retraso promedio es W =  0.2965\n",
            "E[ N(t)] = L =  1.0675\n"
          ]
        }
      ]
    },
    {
      "cell_type": "markdown",
      "source": [
        "## Ejercicio 4"
      ],
      "metadata": {
        "id": "hVfWCzVLS-rI"
      }
    },
    {
      "cell_type": "markdown",
      "source": [
        "Calcular $L_q$ para el ejemplo anterior, usando las fórmulas de arriba."
      ],
      "metadata": {
        "id": "9PNrrJ9JTNZK"
      }
    },
    {
      "cell_type": "markdown",
      "source": [
        "El número medio de clientes en la cola $L_q$ se obtiene con la formula:\n",
        "\n",
        "$L_q = \\lambda W_q$\n",
        "\n",
        "El valor de $\\lambda$ ya lo tenemos. El de $W_q$ es el tiempo medio de espera de los clientes en la cola que se obtiene sacandole el promedio a todos **Tiempos en fila** que obtendremos con $\\text{tll_Data}$ y $\\text{ts_Data}$"
      ],
      "metadata": {
        "id": "VP_GUPdEbW_8"
      }
    },
    {
      "cell_type": "code",
      "source": [
        "# Tiempo de arribo ***********************************************************************************\n",
        "ta_Data=[]\n",
        "tar=0                                           \n",
        "\n",
        "for i in range(Num_Pkts):\n",
        "    tar = tar + tll_Data[i]                     #Tiempo de arribo = Tiempo de arribo anterior + Tiempo de llegada\n",
        "    ta_Data.append(tar)\n",
        "\n",
        "# Inicio de servicio ***********************************************************************************\n",
        "Is_Data=[]\n",
        "Iser=tll_Data[0]                                  #Tiempo de inicio de servicio inicial = Tiempo de llegada inicial\n",
        "Is_Data.append(Iser)\n",
        "\n",
        "for i in range(Num_Pkts):\n",
        "    Iser = Iser + ts_Data[i]                     #Tiempo de inicio de servicio = Tiempo de inicio de servicio anterior + Tiempo de salida\n",
        "    Is_Data.append(Iser)\n",
        "\n",
        "# Tiempo en la fila ***********************************************************************************\n",
        "Tf_Data=[]\n",
        "\n",
        "for i in range(Num_Pkts):\n",
        "    tfila = -Is_Data[i]+ta_Data[i]               #Tiempo en la fila = Tiempo de inicio de servicio - Tiempo de arribo\n",
        "    Tf_Data.append(tfila)\n",
        "\n",
        "#print(tll_Data)\n",
        "#print(ts_Data)\n",
        "#print(ta_Data)\n",
        "#print(Is_Data)\n",
        "#print(Tf_Data)\n",
        "\n",
        "# Tiempo medio de espera de los clientes en la cola ***********************************************************************************\n",
        "\n",
        "Wq1=mean(Tf_Data)\n",
        "\n",
        "print('El tiempo medio de espera de los clientes en la cola es W_q=%.2f' %Wq1)"
      ],
      "metadata": {
        "colab": {
          "base_uri": "https://localhost:8080/"
        },
        "id": "7bOA-GhPbQGa",
        "outputId": "c1394376-70a0-4499-cec7-ed9ab223feb1"
      },
      "execution_count": 10,
      "outputs": [
        {
          "output_type": "stream",
          "name": "stdout",
          "text": [
            "El tiempo medio de espera de los clientes en la cola es W_q=-3.63\n"
          ]
        }
      ]
    },
    {
      "cell_type": "code",
      "source": [
        "Lq1=lamda*Wq1\n",
        "\n",
        "print('El número medio de clientes en la cola es L_q=%.2f' %Lq1)"
      ],
      "metadata": {
        "colab": {
          "base_uri": "https://localhost:8080/"
        },
        "id": "D_-uBh-aXlW6",
        "outputId": "c66112cc-c7f2-4f8b-daa5-414e54a45993"
      },
      "execution_count": 11,
      "outputs": [
        {
          "output_type": "stream",
          "name": "stdout",
          "text": [
            "El número medio de clientes en la cola es L_q=-14.50\n"
          ]
        }
      ]
    },
    {
      "cell_type": "markdown",
      "source": [
        "## Ejercicio 5"
      ],
      "metadata": {
        "id": "mbl48KK16mI-"
      }
    },
    {
      "cell_type": "markdown",
      "source": [
        "En una estación con un solo servidor llegan en promedio 45 clientes por hora. Se tiene capacidad para atender \n",
        "en promedio a 60 clientes por hora. Se sabe que los clientes esperan en promedio 3 minutos en la cola.\n",
        "Se solicita determinar: \n",
        "* Tiempo promedio que un cliente pasa en el sistema. \n",
        "* Número promedio de clientes en la cola. \n",
        "* Número promedio de clientes en el Sistema en un momento dado.\n",
        "\n",
        "Use la simulación para responder y luego verifique los resultados usando las fórmulas de arriba."
      ],
      "metadata": {
        "id": "UAs4gSUcB86f"
      }
    },
    {
      "cell_type": "code",
      "source": [
        "# Parametros\n",
        "\n",
        "lamda = 45/60                       # Razón de arrivos (1/Lambda)\n",
        "mu = 60/60                          # Razón de salida (1/Mu)\n",
        "\n",
        "\n",
        "Num_Pkts = 100                      # Numero de paquetes a simular\n",
        "count = 0                           # Contador de paquetes simulados\n",
        "t = 0\n",
        "N = 0                               # Variable de estado: numero de paquetes en el sistema\n",
        "\n",
        "tll = random.expovariate(lamda)     # Tiempo de llegada\n",
        "ts = Infinity                       # Tiempo de salida\n",
        "\n",
        "t_evento_anterior = 0.0             # tiempo del último evento\n",
        "\n",
        "\n",
        "# Variables de salida\n",
        "tll_Data = []                       # Lista de tiempos de llegada\n",
        "ts_Data = []                        # Lista de tiempos de salida\n",
        "r_Data = []                         # Lista de retrasos individuales\n",
        "\n",
        "\n",
        "while count < Num_Pkts:\n",
        "    if tll < ts:                           # Evento de llegada\n",
        "        t = tll\n",
        "        tll_Data.append(t)\n",
        "        \n",
        "        t_evento_anterior = t\n",
        "        \n",
        "        N = N + 1.0\n",
        "        tll = t + random.expovariate(lamda) \n",
        "        if N == 1:\n",
        "            ts = t + random.expovariate(mu)\n",
        "    else:                                         # Evento de salida\n",
        "        t = ts\n",
        "        ts_Data.append(t)\n",
        "\n",
        "        t_evento_anterior = t\n",
        "\n",
        "        N = N - 1.0\n",
        "        count = count + 1                         # Paquetes simulados\n",
        "        if N > 0:\n",
        "            ts = t + random.expovariate(mu)\n",
        "        else:\n",
        "            ts = Infinity\n",
        "            \n",
        "# Estimación del retraso promedio:\n",
        "\n",
        "for i in range(Num_Pkts):\n",
        "    d = ts_Data[i] - tll_Data[i]\n",
        "    r_Data.append(d)\n",
        "\n",
        "print( \"Tiempo promedio que un cliente pasa en el sistema es W = \", round( mean(r_Data), 4) )\n",
        "\n",
        "# Tiempo medio de espera de los clientes en la cola\n",
        "wq=3\n",
        "lq=lamda*wq\n",
        "print('El número medio de clientes en la cola es L_q=%.2f' %lq)\n",
        "\n",
        "print( \"Número promedio de clientes en el sistema E[ N(t)] = L = \", round(sum(Area)/t, 4))"
      ],
      "metadata": {
        "colab": {
          "base_uri": "https://localhost:8080/"
        },
        "id": "PSubINdf6rq3",
        "outputId": "5bd4c8ad-2483-42ee-fb1c-85afbbc2e47a"
      },
      "execution_count": 12,
      "outputs": [
        {
          "output_type": "stream",
          "name": "stdout",
          "text": [
            "Tiempo promedio que un cliente pasa en el sistema es W =  1.7459\n",
            "El número medio de clientes en la cola es L_q=2.25\n",
            "Número promedio de clientes en el sistema E[ N(t)] = L =  0.1724\n"
          ]
        }
      ]
    },
    {
      "cell_type": "markdown",
      "source": [
        "## Ejercicio 6"
      ],
      "metadata": {
        "id": "KiVCwB0jM_BX"
      }
    },
    {
      "cell_type": "markdown",
      "source": [
        "¿Cómo accedemos al elemento 'c' de la lista [3, 'c'] dentro de lista?"
      ],
      "metadata": {
        "id": "v8VNGKDzNG0b"
      }
    },
    {
      "cell_type": "code",
      "source": [
        "lista = [1,2,3,4,5, 'a', 'b', 'c', [1,2], [3, 'c']]\n",
        "\n",
        "elemento=lista[9]\n",
        "print(elemento)\n",
        "\n",
        "c=elemento[1]\n",
        "print(c)"
      ],
      "metadata": {
        "colab": {
          "base_uri": "https://localhost:8080/"
        },
        "id": "RtMS0ezwOzaj",
        "outputId": "7cb86607-8c50-4822-9ffe-41b60b77c4f6"
      },
      "execution_count": 13,
      "outputs": [
        {
          "output_type": "stream",
          "name": "stdout",
          "text": [
            "[3, 'c']\n",
            "c\n"
          ]
        }
      ]
    },
    {
      "cell_type": "markdown",
      "source": [
        "## Ejercicio 7"
      ],
      "metadata": {
        "id": "FCFOHCA5Pd6j"
      }
    },
    {
      "cell_type": "code",
      "source": [
        "a = [1, 2, 3, 4, 5]\n",
        "b = [6,7,8,9,10]"
      ],
      "metadata": {
        "id": "8O_UWQoGPxqb"
      },
      "execution_count": 14,
      "outputs": []
    },
    {
      "cell_type": "markdown",
      "source": [
        "Calcular el promedio de:\n",
        "\n",
        "* a"
      ],
      "metadata": {
        "id": "IxIr_BjEPhzX"
      }
    },
    {
      "cell_type": "code",
      "source": [
        "proma=sum(a)/len(a)                    #Promedio a = suma de las entradas de a entre la longitud de a\n",
        "print('Promedio de a es %d' %proma)"
      ],
      "metadata": {
        "colab": {
          "base_uri": "https://localhost:8080/"
        },
        "id": "ex_CTgrnP4Sf",
        "outputId": "214039c6-bcdb-4b6b-c6a9-beca50a7c38f"
      },
      "execution_count": 15,
      "outputs": [
        {
          "output_type": "stream",
          "name": "stdout",
          "text": [
            "Promedio de a es 3\n"
          ]
        }
      ]
    },
    {
      "cell_type": "markdown",
      "source": [
        "* b"
      ],
      "metadata": {
        "id": "nHjolsgKQbUJ"
      }
    },
    {
      "cell_type": "code",
      "source": [
        "promb=sum(b)/len(b)                    #Promedio b = suma de las entradas de b entre la longitud de b\n",
        "print('Promedio de b es %d' %promb)"
      ],
      "metadata": {
        "colab": {
          "base_uri": "https://localhost:8080/"
        },
        "id": "QDWVbyPaQiPR",
        "outputId": "dd754f47-22c5-47b3-830f-702916954b4b"
      },
      "execution_count": 16,
      "outputs": [
        {
          "output_type": "stream",
          "name": "stdout",
          "text": [
            "Promedio de b es 8\n"
          ]
        }
      ]
    },
    {
      "cell_type": "markdown",
      "source": [
        "* 5a ¿Es igual a 5*(promedio de a)?"
      ],
      "metadata": {
        "id": "HjlNhDsoQoLv"
      }
    },
    {
      "cell_type": "code",
      "source": [
        "mult1=5*a                               #Calculamos 5*a\n",
        "print('5*a=%a\\n' %mult1)\n",
        "\n",
        "prom1=sum(mult1)/len(mult1)             #Promedio 5*a = suma de las entradas de 5*a entre la longitud de 5*a\n",
        "print('\\t Promedio 5*a es %d \\n' %prom1)\n",
        "\n",
        "mult2=5*proma                           #5*(Promedio a)\n",
        "print('5*(promedio de a)=%d' %mult2)"
      ],
      "metadata": {
        "colab": {
          "base_uri": "https://localhost:8080/"
        },
        "id": "USwlNbpyQprB",
        "outputId": "bd71fc82-370b-4c22-f987-a601a80efb2e"
      },
      "execution_count": 17,
      "outputs": [
        {
          "output_type": "stream",
          "name": "stdout",
          "text": [
            "5*a=[1, 2, 3, 4, 5, 1, 2, 3, 4, 5, 1, 2, 3, 4, 5, 1, 2, 3, 4, 5, 1, 2, 3, 4, 5]\n",
            "\n",
            "\t Promedio 5*a es 3 \n",
            "\n",
            "5*(promedio de a)=15\n"
          ]
        }
      ]
    },
    {
      "cell_type": "markdown",
      "source": [
        "No son iguales, ya que al multiplicar $5*a$ repites el arreglo $\\text{a}$ $5$ veces en un nuevo arreglo lo que provoca que su promedio sea $3$ al igual que el promedio de $\\text{a}$ y el segundo obtiene el promedio de a $3$ por $5$ que da $15$"
      ],
      "metadata": {
        "id": "-VXsVSlYRPbe"
      }
    },
    {
      "cell_type": "markdown",
      "source": [
        "* a + b ¿Es igual a la suma de los promedios?"
      ],
      "metadata": {
        "id": "CMaCljqzR4w_"
      }
    },
    {
      "cell_type": "code",
      "source": [
        "sum1=a+b                                              #Calculamos a+b\n",
        "print('a+b=%a \\n' %sum1)\n",
        "\n",
        "prom2=sum(sum1)/len(sum1)                             #Promedio a+b = suma de las entradas de a+b entre la longitud de a+b\n",
        "print('\\t Promedio a+b es %d \\n' %prom2)\n",
        "\n",
        "sum2=proma+promb                                      #(promedio de a)+(promedio de b)\n",
        "print('(promedio de a)+(promedio de b)=%d' %sum2)"
      ],
      "metadata": {
        "colab": {
          "base_uri": "https://localhost:8080/"
        },
        "id": "9AJfjMEVR93y",
        "outputId": "039c7854-c954-4eb7-9701-e3c64d2ff7f1"
      },
      "execution_count": 18,
      "outputs": [
        {
          "output_type": "stream",
          "name": "stdout",
          "text": [
            "a+b=[1, 2, 3, 4, 5, 6, 7, 8, 9, 10] \n",
            "\n",
            "\t Promedio a+b es 5 \n",
            "\n",
            "(promedio de a)+(promedio de b)=11\n"
          ]
        }
      ]
    },
    {
      "cell_type": "markdown",
      "source": [
        "No son iguales, ya que al sumar $a+b$ pone los dos arreglos en uno solo lo que provoca que su promedio sea $5$ y el segundo obtiene la suma de los promedios de $\\text{a}$ y $\\text{b}$ lo que da $11$"
      ],
      "metadata": {
        "id": "GdDkBjONVlel"
      }
    },
    {
      "cell_type": "markdown",
      "source": [
        "## Ejercicio 8"
      ],
      "metadata": {
        "id": "3gCdyHdSWZjx"
      }
    },
    {
      "cell_type": "markdown",
      "source": [
        "1.  Generar una lista de 20 números aleatorios. "
      ],
      "metadata": {
        "id": "p41DyukMWaKa"
      }
    },
    {
      "cell_type": "code",
      "source": [
        "numa=[]\n",
        "\n",
        "for i in range(20):                 #Genera una lista de 20 números aleatorios\n",
        "  numa.append(random.random())\n",
        "\n",
        "print(numa)                         #Imprime lista de los 20 números aleatorios"
      ],
      "metadata": {
        "colab": {
          "base_uri": "https://localhost:8080/"
        },
        "id": "AhUp43ATWiya",
        "outputId": "04ab030a-50b1-49fe-f2da-261aa98b7914"
      },
      "execution_count": 19,
      "outputs": [
        {
          "output_type": "stream",
          "name": "stdout",
          "text": [
            "[0.26559174519833983, 0.8546833833959777, 0.34678586509645626, 0.5752344824048037, 0.8950594376885197, 0.6372093884358194, 0.8814926833856378, 0.7919045026721154, 0.11612320029153111, 0.46853259697027594, 0.9610042890633094, 0.9288418660569507, 0.0016354902259086979, 0.0878917376814119, 0.00030662561258443244, 0.8105384987493647, 0.2116429901160316, 0.885840487329422, 0.7618062313202476, 0.14952661467785267]\n"
          ]
        }
      ]
    },
    {
      "cell_type": "markdown",
      "source": [
        "2.   Obtener el promedio de los 10 últimos números generados."
      ],
      "metadata": {
        "id": "2gHmVGezXcnS"
      }
    },
    {
      "cell_type": "code",
      "source": [
        "ult10=numa[10:]                     #Toma los ultimos 10 números aleatorios\n",
        "print(ult10)\n",
        "\n",
        "promu=sum(ult10)/len(ult10)         #Obtiene  los ultimos 10 números aleatorios\n",
        "print('\\nPromedio de los ultimos 10 numeros generados es %f' %promu)"
      ],
      "metadata": {
        "colab": {
          "base_uri": "https://localhost:8080/"
        },
        "id": "5QXvzUNVXws2",
        "outputId": "e5799d22-1bf3-439a-e06e-d259c516ec6c"
      },
      "execution_count": 20,
      "outputs": [
        {
          "output_type": "stream",
          "name": "stdout",
          "text": [
            "[0.9610042890633094, 0.9288418660569507, 0.0016354902259086979, 0.0878917376814119, 0.00030662561258443244, 0.8105384987493647, 0.2116429901160316, 0.885840487329422, 0.7618062313202476, 0.14952661467785267]\n",
            "\n",
            "Promedio de los ultimos 10 numeros generados es 0.479903\n"
          ]
        }
      ]
    },
    {
      "cell_type": "markdown",
      "source": [
        "## Función mm1_W( $λ$, $μ$, No. paquetes)"
      ],
      "metadata": {
        "id": "5Uz-F4yKIcyt"
      }
    },
    {
      "cell_type": "code",
      "source": [
        "def mm1_W(lamda,mu,Num_Pkts):\n",
        "  count = 0                           # Contador de paquetes simulados\n",
        "  t = 0\n",
        "  N = 0                               # Variable de estado: numero de paquetes en el sistema\n",
        "\n",
        "  tll = random.expovariate(lamda)     # Tiempo de llegada\n",
        "  ts = Infinity                       # Tiempo de salida\n",
        "\n",
        "  t_evento_anterior = 0.0             # tiempo del último evento\n",
        "\n",
        "  # Variables de salida\n",
        "  tll_Data = []                       # Lista de tiempos de llegada\n",
        "  ts_Data = []                        # Lista de tiempos de salida\n",
        "  r_Data = []                         # Lista de retrasos individuales\n",
        "\n",
        "  while count < Num_Pkts:\n",
        "      if tll < ts:                                  # Evento de llegada\n",
        "          t = tll\n",
        "          tll_Data.append(t)\n",
        "          \n",
        "          t_evento_anterior = t\n",
        "          \n",
        "          N = N + 1.0\n",
        "          tll = t + random.expovariate(lamda) \n",
        "          if N == 1:\n",
        "              ts = t + random.expovariate(mu)\n",
        "      else:                                         # Evento de salida\n",
        "          t = ts\n",
        "          ts_Data.append(t)\n",
        "\n",
        "          t_evento_anterior = t\n",
        "\n",
        "          N = N - 1.0\n",
        "          count = count + 1                         # Paquetes simulados\n",
        "          if N > 0:\n",
        "              ts = t + random.expovariate(mu)\n",
        "          else:\n",
        "              ts = Infinity\n",
        "              \n",
        "  # Estimación del retraso promedio:\n",
        "\n",
        "  for i in range(Num_Pkts):\n",
        "      d = ts_Data[i] - tll_Data[i]\n",
        "      r_Data.append(d)\n",
        "\n",
        "  #   print( \"Tiempo promedio que un cliente pasa en el sistema es W = \", round( mean(r_Data), 4) )\n",
        "\n",
        "  # Tiempo medio de espera de los clientes en la cola\n",
        "  wq=3\n",
        "  lq=lamda*wq\n",
        "  #   print('El número medio de clientes en la cola es L_q=%.2f' %lq)\n",
        "\n",
        "  #   print( \"Número promedio de clientes en el sistema E[ N(t)] = L = \", round(sum(Area)/t, 4))\n",
        "\n",
        "  return r_Data             #Arreglo del tiempo que permanecen los clientes en el sistema"
      ],
      "metadata": {
        "id": "Td9Sin2_JeOL"
      },
      "execution_count": 21,
      "outputs": []
    },
    {
      "cell_type": "code",
      "source": [
        "print( \"Tiempo promedio que un cliente pasa en el sistema es W = \", round( mean(mm1_W(4.0,6.0,100)), 4) )"
      ],
      "metadata": {
        "colab": {
          "base_uri": "https://localhost:8080/"
        },
        "id": "Cp5ZUkf32LpS",
        "outputId": "c8acd75c-c33b-4fa9-8271-64544c9c46fd"
      },
      "execution_count": 22,
      "outputs": [
        {
          "output_type": "stream",
          "name": "stdout",
          "text": [
            "Tiempo promedio que un cliente pasa en el sistema es W =  0.4104\n"
          ]
        }
      ]
    },
    {
      "cell_type": "markdown",
      "source": [
        "Analizar visualmente la variabilidad de los resultados que se obtienen al repetir muchas veces el experimento."
      ],
      "metadata": {
        "id": "eYxwKf7ERc51"
      }
    },
    {
      "cell_type": "code",
      "source": [
        "lamda = 4.0\n",
        "mu = 6.0\n",
        "\n",
        "Num_Rep = 100                       # Numero de repeticiones\n",
        "Delay = []                          # Lista de resultados para el retraso promedio W \n",
        "\n",
        "for i in range(Num_Rep):\n",
        "    random.seed() \n",
        "    d = mean(mm1_W(4.0,6.0,100))    # Tiempo promedio que un cliente pasa en el sistema\n",
        "    Delay.append(d)\n",
        "\n",
        "# Estimación del promedio de las repeticiones\n",
        "\n",
        "fig = figure(1, figsize=(16,8))\n",
        "plot(Delay, linewidth=2, label='W')\n",
        "axhline(y=mean(Delay), color='red',label='W promedio')\n",
        "axhline(y=mean(Delay) + pstdev(Delay), color='green')\n",
        "axhline(y=mean(Delay) - pstdev(Delay), color='green')\n",
        "title(\"Estimación de W\", color = 'red')\n",
        "xlabel('Número de experimentos')\n",
        "ylabel('W (hrs)')\n",
        "legend()\n",
        "show()\n",
        "\n",
        "\n",
        "print(\"Retraso promedio W = \" , round( mean(Delay), 4) )\n",
        "print(\"Con un error de =\", round(pstdev(Delay), 4))\n",
        "print(\"W está entre:\" , round(mean(Delay) - pstdev(Delay), 4), \"y\", round(mean(Delay) + pstdev(Delay), 4) )"
      ],
      "metadata": {
        "colab": {
          "base_uri": "https://localhost:8080/",
          "height": 0
        },
        "id": "nnaXOgbyQE9R",
        "outputId": "0a067640-af01-4218-bfbb-ce4b2ac5c975"
      },
      "execution_count": 23,
      "outputs": [
        {
          "output_type": "display_data",
          "data": {
            "text/plain": [
              "<Figure size 1152x576 with 1 Axes>"
            ],
            "image/png": "[encoded data removed]"
          },
          "metadata": {
            "needs_background": "light"
          }
        },
        {
          "output_type": "stream",
          "name": "stdout",
          "text": [
            "Retraso promedio W =  0.4725\n",
            "Con un error de = 0.2032\n",
            "W está entre: 0.2694 y 0.6757\n"
          ]
        }
      ]
    },
    {
      "cell_type": "markdown",
      "source": [
        "## Función Probabilidad pmm1_W( $λ$, $μ$, No. paquetes)"
      ],
      "metadata": {
        "id": "t_7iBWteLJw4"
      }
    },
    {
      "cell_type": "code",
      "source": [
        "def pmm1_W(lamda,mu,Num_Pkts):\n",
        "  count = 0                           # Contador de paquetes simulados\n",
        "  t = 0\n",
        "  N = 0                               # Variable de estado: numero de paquetes en el sistema\n",
        "\n",
        "  tll = random.expovariate(lamda)     # Tiempo de llegada\n",
        "  ts = Infinity                       # Tiempo de salida\n",
        "  t_evento_anterior = 0.0             # tiempo del último evento\n",
        "\n",
        "  # Variables de salida\n",
        "  tll_Data = []                       # Lista de tiempos de llegada\n",
        "  ts_Data = []                        # Lista de tiempos de salida\n",
        "  r_Data = []                         # Lista de retrasos individuales\n",
        "\n",
        "  Data = {}                           # Diccionario\n",
        "\n",
        "  while count < Num_Pkts:\n",
        "  #while t < T:\n",
        "      if tll < ts:                                 # Evento de llegada\n",
        "          t = tll\n",
        "          \n",
        "          # Longitud del intervalo entre llegadas\n",
        "          delta = t - t_evento_anterior\n",
        "          if N in Data: \n",
        "              Data[N] += delta\n",
        "          else:\n",
        "              Data[N] = delta\n",
        "          t_evento_anterior = t\n",
        "          \n",
        "          tll_Data.append(t)\n",
        "          N = N + 1.0\n",
        "          tll = t + random.expovariate(lamda) \n",
        "          if N == 1:\n",
        "              ts = t + random.expovariate(mu)\n",
        "      else:                                         # Evento de salida\n",
        "          t = ts\n",
        "          \n",
        "          # Longitud del intervalo de tiempo\n",
        "          delta = t - t_evento_anterior\n",
        "          if N in Data:\n",
        "              Data[N] += delta\n",
        "          else:\n",
        "              Data[N] = delta\n",
        "          t_evento_anterior = t\n",
        "          \n",
        "          ts_Data.append(t)\n",
        "          N = N - 1.0\n",
        "          count = count + 1                         # Paquetes simulados\n",
        "          if N > 0:\n",
        "              ts = t + random.expovariate(mu)\n",
        "          else:\n",
        "              ts = Infinity\n",
        "\n",
        "  ##################################### se procesan los datos de salida ########################################\n",
        "\n",
        "  # Estimación de la probabilidad de P(N=k):\n",
        "  for (key, value) in Data.items():\n",
        "      Data[key] = value/t\n",
        "\n",
        "  # Se verifica que la probabilidad total es 1.0\n",
        "\n",
        "  print('Suma de probabilidades =', sum(Data.values()))\n",
        "\n",
        "  # Se verifican los valores de expectación\n",
        "  media = 0.0\n",
        "\n",
        "  print('\\n')\n",
        "  print('Lista de Probabilidades\\n')\n",
        "  print('No. Llegadas','\\t','Probabilidad')\n",
        "  for (key, value) in Data.items():\n",
        "      media = media + key*value\n",
        "      print(key,'\\t\\t', round(value, 4))\n",
        "\n",
        "  print('\\n')\n",
        "  print('E[N] = ', media)"
      ],
      "metadata": {
        "id": "ABIL6y3qLRuV"
      },
      "execution_count": 24,
      "outputs": []
    },
    {
      "cell_type": "code",
      "source": [
        "pmm1_W(4.0,6.0,100)"
      ],
      "metadata": {
        "colab": {
          "base_uri": "https://localhost:8080/"
        },
        "id": "0unFS8meL6ns",
        "outputId": "153d7f2d-a9e6-4f04-8553-e29c409285da"
      },
      "execution_count": 25,
      "outputs": [
        {
          "output_type": "stream",
          "name": "stdout",
          "text": [
            "Suma de probabilidades = 0.9999999999999998\n",
            "\n",
            "\n",
            "Lista de Probabilidades\n",
            "\n",
            "No. Llegadas \t Probabilidad\n",
            "0 \t\t 0.46\n",
            "1.0 \t\t 0.3167\n",
            "2.0 \t\t 0.1302\n",
            "3.0 \t\t 0.0779\n",
            "4.0 \t\t 0.006\n",
            "5.0 \t\t 0.0084\n",
            "6.0 \t\t 0.0007\n",
            "\n",
            "\n",
            "E[N] =  0.8811476697885513\n"
          ]
        }
      ]
    },
    {
      "cell_type": "markdown",
      "source": [
        "## Función generamos las muestras/repeticiones (Estado transitorio y estado estable)"
      ],
      "metadata": {
        "id": "UVj-ifLlOV8Y"
      }
    },
    {
      "cell_type": "code",
      "source": [
        "def mm1_W_cum(lamda, mu, Num_Pkts):\n",
        "    Delay = mm1_W(lamda, mu, Num_Pkts)\n",
        "    Delay_Cum = []\n",
        "    for i in range(Num_Pkts):\n",
        "        Delay_Cum.append( sum(Delay[0:i+1])/(i+1) )\n",
        "\n",
        "    return Delay_Cum"
      ],
      "metadata": {
        "id": "_4817B3OSV4X"
      },
      "execution_count": 26,
      "outputs": []
    },
    {
      "cell_type": "markdown",
      "source": [
        "## Ejercicio 9"
      ],
      "metadata": {
        "id": "rsUbL4EMwjRW"
      }
    },
    {
      "cell_type": "markdown",
      "source": [
        "Método de Welch\n",
        "\n",
        "Elija el punto de corte, agregue las líneas de código necesarias para graficar una línea vertical y rotular el punto de corte."
      ],
      "metadata": {
        "id": "nPVmMi-2wpli"
      }
    },
    {
      "cell_type": "code",
      "source": [
        "lamda = 4.0\n",
        "mu = 6.0\n",
        "\n",
        "n = 10000                         # Número de clientes/paquetes simulados\n",
        "R = 5                             # Número de repeticiones\n",
        "\n",
        "Y =  np.zeros( shape = (R, n) )   # Variable de salida W\n",
        "W=[]\n",
        "\n",
        "# Generamos las muestras/repeticiones\n",
        "for i in range(R):\n",
        "    random.seed()\n",
        "    Y[i] = mm1_W_cum(lamda, mu, n)\n",
        "\n",
        "# Calculamos la media\n",
        "Z = []\n",
        "for i in range(n):\n",
        "    Z.append( sum(Y[:,i]) / R )\n",
        "\n",
        "# Punto de corte\n",
        "# Calcularemos la menor diferencia entre las graficas\n",
        "p=0\n",
        "for j in range(n):                        # Recorre los n puntos de la lista\n",
        "  \n",
        "  for i in range(R):                      # Recorre las R graficas\n",
        "    dif=Z[j]-Y[i,j]                       # Obtiene la diferencia del elemento j de Z entre la del lemento j de Y[i]\n",
        "    \n",
        "    if dif<0.0001:                        # Toma las diferencias menores de 0.0001\n",
        "      w=j                                 \n",
        "      W.append(w)                         # Agrega el número j a la lista W para saber en que puntos tiene menores diferencias\n",
        "    \n",
        "    if W.count(j)==4 and p<(n/5):         # Toma los valores j que se encuentran en W cuatro veces despues de n/5 para tener una mejor aproximación del punto de corte\n",
        "      xv=j\n",
        "      p=p+1\n",
        "\n",
        "#print(W,'\\n', len(W), xv)\n",
        "\n",
        "# Graficamos Y y Z\n",
        "fig = figure(1, figsize=(12, 8))\n",
        "plot(Y[0], \"k--\", label=\"Y[0]\", color='blue')\n",
        "plot(Y[1], \"k--\", label=\"Y[1]\", color='green')\n",
        "plot(Y[2], \"k--\", label=\"Y[2]\", color='red')\n",
        "plot(Y[3], \"k--\", label=\"Y[3]\", color='magenta')\n",
        "plot(Y[4], \"k--\", label=\"Y[4]\", color='cyan')\n",
        "plot(Z, \"k\", linewidth=2, label=\"Z\")\n",
        "axvline(xv, ymin=0, ymax=1, label=\"Linea de corte\", color='gray')           # Linea vertical del punto de corte\n",
        "plot(xv,Z[xv],\"o\",label=\"Punto de corte\",color=\"yellow\")                    # Punto de corte\n",
        "\n",
        "xlabel(\"$n$\", size=16)\n",
        "ylabel(\"$W_{cum}$\", size=16)\n",
        "legend(loc='upper right', shadow=True)\n",
        "show()"
      ],
      "metadata": {
        "colab": {
          "base_uri": "https://localhost:8080/",
          "height": 502
        },
        "id": "37ugt8kmyRcV",
        "outputId": "f79434df-a621-4919-bba0-53d4a91f1ae9"
      },
      "execution_count": 160,
      "outputs": [
        {
          "output_type": "display_data",
          "data": {
            "text/plain": [
              "<Figure size 864x576 with 1 Axes>"
            ],
            "image/png": "[encoded data removed]"
          },
          "metadata": {
            "needs_background": "light"
          }
        }
      ]
    },
    {
      "cell_type": "markdown",
      "source": [
        "## Funcion de prueba de corridas"
      ],
      "metadata": {
        "id": "WrJ3arl-RJ6d"
      }
    },
    {
      "cell_type": "code",
      "source": [
        "l= [946,1058,1133,869,927,742,1113,665,955,1288,1074,838,815,910,1193,\n",
        "    1386,955,1187,891,1302,867,837,1138,868,969,737,1143,947,763,1029]"
      ],
      "metadata": {
        "id": "aPLRmlvYRiQE"
      },
      "execution_count": 28,
      "outputs": []
    },
    {
      "cell_type": "code",
      "source": [
        "def prueba_corridas(l):   # Prueba de corridas donde regresa los estadisticos \n",
        "    \n",
        "    l_median = mean(l)    # Hacemos la prueba respecto a la media/mediana\n",
        "    \n",
        "    R, n1, n2 = 1, 0, 0   # iniciamos los contadores\n",
        "        \n",
        "    for i in range(len(l)):    \n",
        "        \n",
        "        # Aumentamos R cuando 2 entradas están una arriba y otra abajo de la media/mediana:\n",
        "        if (l[i] >= l_median and l[i-1] < l_median) or (l[i] < l_median and l[i-1] >= l_median):\n",
        "            R += 1\n",
        "        # Contamos las que están arriba y las que están abajo\n",
        "        if(l[i]) >= l_median:\n",
        "            n1 += 1\n",
        "        else:\n",
        "            n2 += 1   \n",
        "    # calculamos los parámetros y el estadistico\n",
        "    R_exp = ((2*n1*n2)/(n1+n2))+1\n",
        "    stan_dev = math.sqrt((2*n1*n2*(2*n1*n2-n1-n2))/(((n1+n2)**2)*(n1+n2-1))) \n",
        "  \n",
        "    z = (R - R_exp)/stan_dev\n",
        "  \n",
        "    return R, n1, n2, R_exp, z, stan_dev "
      ],
      "metadata": {
        "id": "gPZEm2JURQuP"
      },
      "execution_count": 29,
      "outputs": []
    },
    {
      "cell_type": "code",
      "source": [
        "R = prueba_corridas(l)[0]\n",
        "n1 = prueba_corridas(l)[1]\n",
        "n2 = prueba_corridas(l)[2]\n",
        "R_exp = abs(prueba_corridas(l)[3])\n",
        "Z = abs(prueba_corridas(l)[4]) \n",
        "stan_dev = abs(prueba_corridas(l)[5])\n",
        "\n",
        "print('Estadistico = ', Z)\n",
        "print('  R = ', R, '  R_exp = ', R_exp, '\\n n1 = ', n1, '\\n n2 = ', n2, '\\nVarianza = ', stan_dev**2)"
      ],
      "metadata": {
        "colab": {
          "base_uri": "https://localhost:8080/"
        },
        "id": "sr6mWWeDSy6p",
        "outputId": "91d73d97-66d9-44fe-8894-2c77375f6fa0"
      },
      "execution_count": 30,
      "outputs": [
        {
          "output_type": "stream",
          "name": "stdout",
          "text": [
            "Estadistico =  1.3956221530306299\n",
            "  R =  19   R_exp =  15.4 \n",
            " n1 =  12 \n",
            " n2 =  18 \n",
            "Varianza =  6.653793103448275\n"
          ]
        }
      ]
    },
    {
      "cell_type": "markdown",
      "source": [
        "## Ejercicio 10"
      ],
      "metadata": {
        "id": "r6fFFAy0Rm_e"
      }
    },
    {
      "cell_type": "markdown",
      "source": [
        "*   Completar la función para que imprima todas las salidas de interés."
      ],
      "metadata": {
        "id": "K90UDHv9RqkJ"
      }
    },
    {
      "cell_type": "code",
      "source": [
        "def prueba_corridas_impr(l):   # Prueba de corridas donde imprime los estadisticos\n",
        "    \n",
        "    l_median = mean(l)         # Hacemos la prueba respecto a la media/mediana\n",
        "    \n",
        "    R, n1, n2 = 1, 0, 0        # iniciamos los contadores\n",
        "        \n",
        "    for i in range(len(l)):    \n",
        "        \n",
        "        # Aumentamos R cuando 2 entradas están una arriba y otra abajo de la media/mediana:\n",
        "        if (l[i] >= l_median and l[i-1] < l_median) or (l[i] < l_median and l[i-1] >= l_median):\n",
        "            R += 1\n",
        "        # Contamos las que están arriba y las que están abajo\n",
        "        if(l[i]) >= l_median:\n",
        "            n1 += 1\n",
        "        else:\n",
        "            n2 += 1   \n",
        "    # calculamos los parámetros y el estadistico\n",
        "    R_exp = ((2*n1*n2)/(n1+n2))+1\n",
        "    stan_dev = math.sqrt((2*n1*n2*(2*n1*n2-n1-n2))/(((n1+n2)**2)*(n1+n2-1))) \n",
        "  \n",
        "    z = (R - R_exp)/stan_dev\n",
        "\n",
        "    print('Estadistico = ', z)\n",
        "    print('  R = ', R, '  R_exp = ', R_exp, '\\n n1 = ', n1, '\\n n2 = ', n2, '\\nVarianza = ', stan_dev**2)"
      ],
      "metadata": {
        "id": "Y2cSz-w_SAgX"
      },
      "execution_count": 31,
      "outputs": []
    },
    {
      "cell_type": "code",
      "source": [
        "prueba_corridas_impr(l)"
      ],
      "metadata": {
        "colab": {
          "base_uri": "https://localhost:8080/"
        },
        "id": "0OR9U-ubVRTp",
        "outputId": "3eb7283e-6bb4-4eda-b41f-84e0e2064fd2"
      },
      "execution_count": 32,
      "outputs": [
        {
          "output_type": "stream",
          "name": "stdout",
          "text": [
            "Estadistico =  1.3956221530306299\n",
            "  R =  19   R_exp =  15.4 \n",
            " n1 =  12 \n",
            " n2 =  18 \n",
            "Varianza =  6.653793103448275\n"
          ]
        }
      ]
    },
    {
      "cell_type": "markdown",
      "source": [
        "*   Desordenar la lista y volver a aplicar la prueba de corridas. Comparar el resultado."
      ],
      "metadata": {
        "id": "dXkqCl9OUmXj"
      }
    },
    {
      "cell_type": "code",
      "source": [
        "dl=[]\n",
        "dl=l\n",
        "random.shuffle(dl)            # Desordenar la lista l\n",
        "\n",
        "print(\"dl =\",dl)              # Imprimir la lista l desordenada\n",
        "\n",
        "print('\\n')\n",
        "prueba_corridas_impr(dl)      # Prueba de corridas de la lista l desordenada"
      ],
      "metadata": {
        "colab": {
          "base_uri": "https://localhost:8080/"
        },
        "id": "hcajS3M1UwL5",
        "outputId": "8b823b9b-7a3f-44e0-b1c1-08a86336bbce"
      },
      "execution_count": 33,
      "outputs": [
        {
          "output_type": "stream",
          "name": "stdout",
          "text": [
            "dl = [1302, 1187, 838, 955, 869, 837, 737, 1113, 1288, 910, 955, 763, 1138, 665, 867, 1386, 1133, 946, 947, 1058, 969, 927, 742, 1143, 1029, 815, 1074, 1193, 891, 868]\n",
            "\n",
            "\n",
            "Estadistico =  -0.15506912811451457\n",
            "  R =  15   R_exp =  15.4 \n",
            " n1 =  12 \n",
            " n2 =  18 \n",
            "Varianza =  6.653793103448275\n"
          ]
        }
      ]
    },
    {
      "cell_type": "markdown",
      "source": [
        "Los estadisticos de la lista $l$ original y la desordenada son los mismos, por lo que **el orden de los elementos que componen una lista no afectan los estadisticos:** \n",
        "\n",
        "*Estadistico de prueba (Z)*, *Número de corridas (R)*, *Número de corridas esperadas (R_exp)*, *Varianza del número de corridas ($S^2$)*, *$n_1$ Número de valores positivos de la serie* y *$n_2$ número de valores negativos de la serie*.\n"
      ],
      "metadata": {
        "id": "dcOIB8dcYBDf"
      }
    },
    {
      "cell_type": "markdown",
      "source": [
        "*   Repetir el ejercicio con la lista l_1"
      ],
      "metadata": {
        "id": "bct6MoKlUwmN"
      }
    },
    {
      "cell_type": "code",
      "source": [
        "l_1 = [0.809, 0.042,  0.432,  0.538,  0.225,  0.88,  0.688,  0.772,  0.036,  0.854, 0.397,  0.268,  0.821,  0.897,  \n",
        "     0.07,  0.721,  0.087,  0.35,  0.779,  0.482, 0.136,  0.855,  0.453,  0.197,  0.444,  0.799,  0.809,  0.691,  \n",
        "     0.545,  0.857, 0.692,  0.055,  0.348, 0.373,  0.436,  0.29,  0.015,  0.834,  0.599,  0.724,  0.564,  0.709,  \n",
        "     0.946,  0.754,  0.677,  0.128,  0.012,  0.498,  0.6,  0.913]"
      ],
      "metadata": {
        "id": "qdHzxZd0U1Gi"
      },
      "execution_count": 34,
      "outputs": []
    },
    {
      "cell_type": "code",
      "source": [
        "prueba_corridas_impr(l_1)\n",
        "\n",
        "print('\\n')\n",
        "print('Desordenar la lista l_1 \\n')\n",
        "dl_1=[]\n",
        "dl_1=l_1\n",
        "random.shuffle(dl_1)              # Desordenar la lista l_1\n",
        "\n",
        "print(\"dl_1 =\",dl_1)              # Imprimir la lista l_1 desordenada\n",
        "\n",
        "print('\\n')\n",
        "prueba_corridas_impr(dl_1)        # Prueba de corridas de la lista l_1 desordenada"
      ],
      "metadata": {
        "colab": {
          "base_uri": "https://localhost:8080/"
        },
        "id": "lKZQUCAabDOP",
        "outputId": "467af27c-6335-4935-96ba-a3cee3fb51da"
      },
      "execution_count": 35,
      "outputs": [
        {
          "output_type": "stream",
          "name": "stdout",
          "text": [
            "Estadistico =  -1.3922411963646792\n",
            "  R =  21   R_exp =  25.84 \n",
            " n1 =  27 \n",
            " n2 =  23 \n",
            "Varianza =  12.085420408163268\n",
            "\n",
            "\n",
            "Desordenar la lista l_1 \n",
            "\n",
            "dl_1 = [0.268, 0.913, 0.854, 0.136, 0.946, 0.809, 0.809, 0.721, 0.88, 0.055, 0.036, 0.482, 0.857, 0.436, 0.599, 0.754, 0.564, 0.498, 0.042, 0.779, 0.724, 0.012, 0.545, 0.087, 0.692, 0.709, 0.688, 0.197, 0.821, 0.897, 0.07, 0.128, 0.015, 0.35, 0.538, 0.373, 0.691, 0.225, 0.799, 0.6, 0.29, 0.834, 0.348, 0.855, 0.453, 0.677, 0.444, 0.397, 0.432, 0.772]\n",
            "\n",
            "\n",
            "Estadistico =  1.4842902010830052\n",
            "  R =  31   R_exp =  25.84 \n",
            " n1 =  27 \n",
            " n2 =  23 \n",
            "Varianza =  12.085420408163268\n"
          ]
        }
      ]
    },
    {
      "cell_type": "markdown",
      "source": [
        "Como lo vimos en el inciso anterior no cambian los estadisticos."
      ],
      "metadata": {
        "id": "B9810PUQbtdf"
      }
    },
    {
      "cell_type": "markdown",
      "source": [
        "## Ejercicio 11"
      ],
      "metadata": {
        "id": "LAOoHk0BcdJg"
      }
    },
    {
      "cell_type": "markdown",
      "source": [
        "Estimemos el valor de la integral $\\int_0^1{\\sqrt{arctan(x)}dx}$\n",
        "\n",
        "\n",
        "Modificar el ejercicio ya realizado para obtener una estimación de la integral y una medida de su bondad"
      ],
      "metadata": {
        "id": "PFbQbToMhMHZ"
      }
    },
    {
      "cell_type": "code",
      "source": [
        "#Definimos la función de a integrar.\n",
        "def funcion(x):\n",
        "    return np.sqrt(np.arctan(x))                          # Regresa la raiz del arco tangente de [0,1]"
      ],
      "metadata": {
        "id": "wZGXWCx9ip_K"
      },
      "execution_count": 36,
      "outputs": []
    },
    {
      "cell_type": "code",
      "source": [
        "#Graficamos la función integrada.\n",
        "fig = figure(1, figsize=(12, 8))\n",
        "X=np.linspace(0,1,1000)                                   # Vector de [0,1] con 1000 divisiones\n",
        "plot(X,funcion(X), color='red', label=\"$y=1/(1+x)$\")      # Grafica de la integral de raiz del arco tangente de [0,1]\n",
        "fill_between(X,funcion(X))                                # Rellena la grafica de la integral de raiz del arco tangente de [0,1]\n",
        "legend()\n",
        "xlim(0.0, 1.2)\n",
        "ylim(0.0, 1.2)\n",
        "grid(True)\n",
        "title('Función integrada', color='b', size=15)\n",
        "xlabel('X')\n",
        "ylabel('Y')\n",
        "show()"
      ],
      "metadata": {
        "colab": {
          "base_uri": "https://localhost:8080/",
          "height": 516
        },
        "id": "SLV-hdrQjpqV",
        "outputId": "b06c203b-d25e-48ab-f779-9ceef19cde83"
      },
      "execution_count": 37,
      "outputs": [
        {
          "output_type": "display_data",
          "data": {
            "text/plain": [
              "<Figure size 864x576 with 1 Axes>"
            ],
            "image/png": "[encoded data removed]"
          },
          "metadata": {
            "needs_background": "light"
          }
        }
      ]
    },
    {
      "cell_type": "code",
      "source": [
        "def integ(func, n):                # Necesita una funcion y un limite n de puntos a obtener\n",
        "    ord=[]                              # Arreglo para guardar los valores de x\n",
        "    abs=[]                              # Arreglo para guardar los valores de y evaluados en x\n",
        "    for i in range(n):\n",
        "        u= np.random.random_sample()    # Obtiene un vanlor random de x de [0,1]\n",
        "        ord.append(u)                   # Igresa el valor de x obtenido al arreglo ord\n",
        "        y=func(u)                       # Evalua el valor x obtenido en la funcion y\n",
        "        abs.append(y)                   # Igresa el valor de y obtenido al arreglo abs \n",
        "\n",
        "    return np.mean(abs), np.std(abs)/np.sqrt(n)     # Regresa el valor de la integral y el error estandar\n",
        "\n",
        "print(\"El valor de la integral es:\", round(integ(funcion,1000)[0],5))\n",
        "print(\"El error estándar es:\", round(integ(funcion,1000)[1],5))"
      ],
      "metadata": {
        "colab": {
          "base_uri": "https://localhost:8080/"
        },
        "id": "v4HgXJnmkLaQ",
        "outputId": "c375bdcb-2e58-4ec7-8b45-82988d4fe69e"
      },
      "execution_count": 38,
      "outputs": [
        {
          "output_type": "stream",
          "name": "stdout",
          "text": [
            "El valor de la integral es: 0.62335\n",
            "El error estándar es: 0.00649\n"
          ]
        }
      ]
    },
    {
      "cell_type": "markdown",
      "source": [
        "## Ejercicio 12"
      ],
      "metadata": {
        "id": "jAQhyy4T4pP1"
      }
    },
    {
      "cell_type": "markdown",
      "source": [
        "1.   Hacer una función que devuelva el intervalo de confianza.\n"
      ],
      "metadata": {
        "id": "JgZWQk0B42-_"
      }
    },
    {
      "cell_type": "code",
      "source": [
        "def t_student(gl,alp):            # Función para obtener el valor t-student (grados de libertad, alpha)\n",
        "\n",
        "    if gl>100:\n",
        "      gl=101\n",
        "\n",
        "    #gl - 0.5 - 0.2 - 0.1 - 0.05 - 0.02 - 0.01\n",
        "    tstud=[[1, 1.0000, 3.0777, 6.3137, 12.7062, 31.8210, 63.6559],\n",
        "    [2, 0.8165, 1.8856, 2.9200, 4.3027, 6.9645, 9.9250],\n",
        "    [3, 0.7649, 1.6377, 2.3534, 3.1824, 4.5407, 5.8408],\n",
        "    [4, 0.7407, 1.5332, 2.1318, 2.7765, 3.7469, 4.6041],\n",
        "    [5, 0.7267, 1.4759, 2.0150, 2.5706, 3.3649, 4.0321],\n",
        "    [6, 0.7176, 1.4398, 1.9432, 2.4469, 3.1427, 3.7074],\n",
        "    [7, 0.7111, 1.4149, 1.8946, 2.3646, 2.9979, 3.4995],\n",
        "    [8, 0.7064, 1.3968, 1.8595, 2.3060, 2.8965, 3.3554],\n",
        "    [9, 0.7027, 1.3830, 1.8331, 2.2622, 2.8214, 3.2498],\n",
        "    [10, 0.6998, 1.3722, 1.8125, 2.2281, 2.7638, 3.1693],\n",
        "    [11, 0.6974, 1.3634, 1.7959, 2.2010, 2.7181, 3.1058],\n",
        "    [12, 0.6955, 1.3562, 1.7823, 2.1788, 2.6810, 3.0545],\n",
        "    [13, 0.6938, 1.3502, 1.7709, 2.1604, 2.6503, 3.0123],\n",
        "    [14, 0.6924, 1.3450, 1.7613, 2.1448, 2.6245, 2.9768],\n",
        "    [15, 0.6912, 1.3406, 1.7531, 2.1315, 2.6025, 2.9467],\n",
        "    [16, 0.6901, 1.3368, 1.7459, 2.1199, 2.5835, 2.9208],\n",
        "    [17, 0.6892, 1.3334, 1.7396, 2.1098, 2.5669, 2.8982],\n",
        "    [18, 0.6884, 1.3304, 1.7341, 2.1009, 2.5524, 2.8784],\n",
        "    [19, 0.6876, 1.3277, 1.7291, 2.0930, 2.5395, 2.8609],\n",
        "    [20, 0.6870, 1.3253, 1.7247, 2.0860, 2.5280, 2.8453],\n",
        "    [21, 0.6864, 1.3232, 1.7207, 2.0796, 2.5176, 2.8314],\n",
        "    [22, 0.6858, 1.3212, 1.7171, 2.0739, 2.5083, 2.8188],\n",
        "    [23, 0.6853, 1.3195, 1.7139, 2.0687, 2.4999, 2.8073],\n",
        "    [24, 0.6848, 1.3178, 1.7109, 2.0639, 2.4922, 2.7970],\n",
        "    [25, 0.6844, 1.3163, 1.7081, 2.0595, 2.4851, 2.7874],\n",
        "    [26, 0.6840, 1.3150, 1.7056, 2.0555, 2.4786, 2.7787],\n",
        "    [27, 0.6837, 1.3137, 1.7033, 2.0518, 2.4727, 2.7707],\n",
        "    [28, 0.6834, 1.3125, 1.7011, 2.0484, 2.4671, 2.7633],\n",
        "    [29, 0.6830, 1.3114, 1.6991, 2.0452, 2.4620, 2.7564],\n",
        "    [30, 0.6828, 1.3104, 1.6973, 2.0423, 2.4573, 2.7500],\n",
        "    [31, 0.6825, 1.3095, 1.6955, 2.0395, 2.4528, 2.7440],\n",
        "    [32, 0.6822, 1.3086, 1.6939, 2.0369, 2.4487, 2.7385],\n",
        "    [33, 0.6820, 1.3077, 1.6924, 2.0345, 2.4448, 2.7333],\n",
        "    [34, 0.6818, 1.3070, 1.6909, 2.0322, 2.4411, 2.7284],\n",
        "    [35, 0.6816, 1.3062, 1.6896, 2.0301, 2.4377, 2.7238],\n",
        "    [36, 0.6814, 1.3055, 1.6883, 2.0281, 2.4345, 2.7195],\n",
        "    [37, 0.6812, 1.3049, 1.6871, 2.0262, 2.4314, 2.7154],\n",
        "    [38, 0.6810, 1.3042, 1.6860, 2.0244, 2.4286, 2.7116],\n",
        "    [39, 0.6808, 1.3036, 1.6849, 2.0227, 2.4258, 2.7079],\n",
        "    [40, 0.6807, 1.3031, 1.6839, 2.0211, 2.4233, 2.7045],\n",
        "    [41, 0.6805, 1.3025, 1.6829, 2.0195, 2.4208, 2.7012],\n",
        "    [42, 0.6804, 1.3020, 1.6820, 2.0181, 2.4185, 2.6981],\n",
        "    [43, 0.6802, 1.3016, 1.6811, 2.0167, 2.4163, 2.6951],\n",
        "    [44, 0.6801, 1.3011, 1.6802, 2.0154, 2.4141, 2.6923],\n",
        "    [45, 0.6800, 1.3007, 1.6794, 2.0141, 2.4121, 2.6896],\n",
        "    [46, 0.6799, 1.3002, 1.6787, 2.0129, 2.4102, 2.6870],\n",
        "    [47, 0.6797, 1.2998, 1.6779, 2.0117, 2.4083, 2.6846],\n",
        "    [48, 0.6796, 1.2994, 1.6772, 2.0106, 2.4066, 2.6822],\n",
        "    [49, 0.6795, 1.2991, 1.6766, 2.0096, 2.4049, 2.6800],\n",
        "    [50, 0.6794, 1.2987, 1.6759, 2.0086, 2.4033, 2.6778],\n",
        "    [51, 0.6793, 1.2984, 1.6753, 2.0076, 2.4017, 2.6757],\n",
        "    [52, 0.6792, 1.2980, 1.6747, 2.0066, 2.4002, 2.6737],\n",
        "    [53, 0.6791, 1.2977, 1.6741, 2.0057, 2.3988, 2.6718],\n",
        "    [54, 0.6791, 1.2974, 1.6736, 2.0049, 2.3974, 2.6700],\n",
        "    [55, 0.6790, 1.2971, 1.6730, 2.0040, 2.3961, 2.6682],\n",
        "    [56, 0.6789, 1.2969, 1.6725, 2.0032, 2.3948, 2.6665],\n",
        "    [57, 0.6788, 1.2966, 1.6720, 2.0025, 2.3936, 2.6649],\n",
        "    [58, 0.6787, 1.2963, 1.6716, 2.0017, 2.3924, 2.6633],\n",
        "    [59, 0.6787, 1.2961, 1.6711, 2.0010, 2.3912, 2.6618],\n",
        "    [60, 0.6786, 1.2958, 1.6706, 2.0003, 2.3901, 2.6603],\n",
        "    [61, 0.6785, 1.2956, 1.6702, 1.9996, 2.3890, 2.6589],\n",
        "    [62, 0.6785, 1.2954, 1.6698, 1.9990, 2.3880, 2.6575],\n",
        "    [63, 0.6784, 1.2951, 1.6694, 1.9983, 2.3870, 2.6561],\n",
        "    [64, 0.6783, 1.2949, 1.6690, 1.9977, 2.3860, 2.6549],\n",
        "    [65, 0.6783, 1.2947, 1.6686, 1.9971, 2.3851, 2.6536],\n",
        "    [66, 0.6782, 1.2945, 1.6683, 1.9966, 2.3842, 2.6524],\n",
        "    [67, 0.6782, 1.2943, 1.6679, 1.9960, 2.3833, 2.6512],\n",
        "    [68, 0.6781, 1.2941, 1.6676, 1.9955, 2.3824, 2.6501],\n",
        "    [69, 0.6781, 1.2939, 1.6672, 1.9949, 2.3816, 2.6490],\n",
        "    [70, 0.6780, 1.2938, 1.6669, 1.9944, 2.3808, 2.6479],\n",
        "    [71, 0.6780, 1.2936, 1.6666, 1.9939, 2.3800, 2.6469],\n",
        "    [72, 0.6779, 1.2934, 1.6663, 1.9935, 2.3793, 2.6458],\n",
        "    [73, 0.6779, 1.2933, 1.6660, 1.9930, 2.3785, 2.6449],\n",
        "    [74, 0.6778, 1.2931, 1.6657, 1.9925, 2.3778, 2.6439],\n",
        "    [75, 0.6778, 1.2929, 1.6654, 1.9921, 2.3771, 2.6430],\n",
        "    [76, 0.6777, 1.2928, 1.6652, 1.9917, 2.3764, 2.6421],\n",
        "    [77, 0.6777, 1.2926, 1.6649, 1.9913, 2.3758, 2.6412],\n",
        "    [78, 0.6776, 1.2925, 1.6646, 1.9908, 2.3751, 2.6403],\n",
        "    [79, 0.6776, 1.2924, 1.6644, 1.9905, 2.3745, 2.6395],\n",
        "    [80, 0.6776, 1.2922, 1.6641, 1.9901, 2.3739, 2.6387],\n",
        "    [81, 0.6775, 1.2921, 1.6639, 1.9897, 2.3733, 2.6379],\n",
        "    [82, 0.6775, 1.2920, 1.6636, 1.9893, 2.3727, 2.6371],\n",
        "    [83, 0.6775, 1.2918, 1.6634, 1.9890, 2.3721, 2.6364],\n",
        "    [84, 0.6774, 1.2917, 1.6632, 1.9886, 2.3716, 2.6356],\n",
        "    [85, 0.6774, 1.2916, 1.6630, 1.9883, 2.3710, 2.6349],\n",
        "    [86, 0.6774, 1.2915, 1.6628, 1.9879, 2.3705, 2.6342],\n",
        "    [87, 0.6773, 1.2914, 1.6626, 1.9876, 2.3700, 2.6335],\n",
        "    [88, 0.6773, 1.2912, 1.6624, 1.9873, 2.3695, 2.6329],\n",
        "    [89, 0.6773, 1.2911, 1.6622, 1.9870, 2.3690, 2.6322],\n",
        "    [90, 0.6772, 1.2910, 1.6620, 1.9867, 2.3685, 2.6316],\n",
        "    [91, 0.6772, 1.2909, 1.6618, 1.9864, 2.3680, 2.6309],\n",
        "    [92, 0.6772, 1.2908, 1.6616, 1.9861, 2.3676, 2.6303],\n",
        "    [93, 0.6771, 1.2907, 1.6614, 1.9858, 2.3671, 2.6297],\n",
        "    [94, 0.6771, 1.2906, 1.6612, 1.9855, 2.3667, 2.6291],\n",
        "    [95, 0.6771, 1.2905, 1.6611, 1.9852, 2.3662, 2.6286],\n",
        "    [96, 0.6771, 1.2904, 1.6609, 1.9850, 2.3658, 2.6280],\n",
        "    [97, 0.6770, 1.2903, 1.6607, 1.9847, 2.3654, 2.6275],\n",
        "    [98, 0.6770, 1.2903, 1.6606, 1.9845, 2.3650, 2.6269],\n",
        "    [99, 0.6770, 1.2902, 1.6604, 1.9842, 2.3646, 2.6264],\n",
        "    [100, 0.6770, 1.2901, 1.6602, 1.9840, 2.3642, 2.6259],\n",
        "    [101, 0.6745, 1.2816, 1.6449, 1.9600, 2.3263, 2.5758]]\n",
        "    \n",
        "    if alp==0.5:\n",
        "      at=1\n",
        "    if alp==0.2:\n",
        "      at=2\n",
        "    if alp==0.1:\n",
        "      at=3\n",
        "    if alp==0.05:\n",
        "      at=4\n",
        "    if alp==0.02:\n",
        "      at=5\n",
        "    if alp==0.01:\n",
        "      at=6\n",
        "\n",
        "    return tstud[gl-1][at]"
      ],
      "metadata": {
        "id": "-9R8YiNE5D_r"
      },
      "execution_count": 148,
      "outputs": []
    },
    {
      "cell_type": "code",
      "source": [
        "t_student(2,0.05)"
      ],
      "metadata": {
        "colab": {
          "base_uri": "https://localhost:8080/"
        },
        "id": "ZQOljAJ9MRjs",
        "outputId": "b8e77201-e85b-4a41-b532-6ee54300d4ac"
      },
      "execution_count": 149,
      "outputs": [
        {
          "output_type": "execute_result",
          "data": {
            "text/plain": [
              "4.3027"
            ]
          },
          "metadata": {},
          "execution_count": 149
        }
      ]
    },
    {
      "cell_type": "code",
      "source": [
        "def int_conf(muestra,alpha):       # intervalo de confianza con nivel de confianza 50%, 80%, 90%, 95%, 98% y 99%\n",
        "  n=len(muestra)                   # cantidad de datos\n",
        "  mean=statistics.mean(muestra)    # media muestral\n",
        "  s=statistics.stdev(muestra)      # desviacion estandar muestral\n",
        "\n",
        "  t=t_student(n-1,alpha)           # usando la funcion que da los valores t-student con(grados de libertad=n-1,alpha)\n",
        "\n",
        "  # usamos las formulas\n",
        "  ic1 = mean - t*(s/math.sqrt(n))     \n",
        "  ic2 = mean + t*(s/math.sqrt(n))\n",
        "\n",
        "  print(\"Intervalo de confianza:(\", round(ic1, 2),\",\", round(ic2, 2),\")\")"
      ],
      "metadata": {
        "id": "7Tpe80snx5Ru"
      },
      "execution_count": 150,
      "outputs": []
    },
    {
      "cell_type": "code",
      "source": [
        "muestra1 = [3.2, 3, 2.8, 2.9, 3.1]\n",
        "\n",
        "int_conf(muestra1,0.05)"
      ],
      "metadata": {
        "colab": {
          "base_uri": "https://localhost:8080/"
        },
        "id": "v1UIS6Gqykd-",
        "outputId": "80094128-6974-400f-da67-ff16b2d6019c"
      },
      "execution_count": 151,
      "outputs": [
        {
          "output_type": "stream",
          "name": "stdout",
          "text": [
            "Intervalo de confianza:( 2.8 , 3.2 )\n"
          ]
        }
      ]
    },
    {
      "cell_type": "markdown",
      "source": [
        "2.   Calcular los intervalos de confianza a 80, 90, 95, 98 y 99% con la muestra: $\\{3.33,3.15,2.91,3.05,2.75\\}$"
      ],
      "metadata": {
        "id": "EwRjLwY98srT"
      }
    },
    {
      "cell_type": "code",
      "source": [
        "muestra=[3.33,3.15,2.91,3.05,2.75]"
      ],
      "metadata": {
        "id": "aL1PEx0S9WdX"
      },
      "execution_count": 152,
      "outputs": []
    },
    {
      "cell_type": "markdown",
      "source": [
        "*   Intervalo de confianza del $80\\%$"
      ],
      "metadata": {
        "id": "JIBvprCP1OK1"
      }
    },
    {
      "cell_type": "code",
      "source": [
        "int_conf(muestra,0.2)"
      ],
      "metadata": {
        "colab": {
          "base_uri": "https://localhost:8080/"
        },
        "id": "_gldDPzx2IrM",
        "outputId": "858878fd-fcc4-4d0b-952a-853b46cbed7c"
      },
      "execution_count": 153,
      "outputs": [
        {
          "output_type": "stream",
          "name": "stdout",
          "text": [
            "Intervalo de confianza:( 2.89 , 3.19 )\n"
          ]
        }
      ]
    },
    {
      "cell_type": "markdown",
      "source": [
        "*   Intervalo de confianza del $90\\%$"
      ],
      "metadata": {
        "id": "4nA3U4xm2GRh"
      }
    },
    {
      "cell_type": "code",
      "source": [
        "int_conf(muestra,0.1)"
      ],
      "metadata": {
        "colab": {
          "base_uri": "https://localhost:8080/"
        },
        "id": "O1-uzLzl1geO",
        "outputId": "0d8a3d76-d676-4122-9839-1987a7a68c24"
      },
      "execution_count": 154,
      "outputs": [
        {
          "output_type": "stream",
          "name": "stdout",
          "text": [
            "Intervalo de confianza:( 2.83 , 3.25 )\n"
          ]
        }
      ]
    },
    {
      "cell_type": "markdown",
      "source": [
        "*   Intervalo de confianza del $95\\%$"
      ],
      "metadata": {
        "id": "VAtkK_p_2L59"
      }
    },
    {
      "cell_type": "code",
      "source": [
        "int_conf(muestra,0.05)"
      ],
      "metadata": {
        "colab": {
          "base_uri": "https://localhost:8080/"
        },
        "id": "ObZpReyA2Oo0",
        "outputId": "4a4673db-132b-424b-d465-c9b2146f2b90"
      },
      "execution_count": 155,
      "outputs": [
        {
          "output_type": "stream",
          "name": "stdout",
          "text": [
            "Intervalo de confianza:( 2.76 , 3.31 )\n"
          ]
        }
      ]
    },
    {
      "cell_type": "markdown",
      "source": [
        "*   Intervalo de confianza del $98\\%$"
      ],
      "metadata": {
        "id": "ihyZnQ_k2X2b"
      }
    },
    {
      "cell_type": "code",
      "source": [
        "int_conf(muestra,0.02)"
      ],
      "metadata": {
        "colab": {
          "base_uri": "https://localhost:8080/"
        },
        "id": "Ew61S6Zb2dub",
        "outputId": "cd381687-38a1-4a00-a7cb-68e0bf4bb9e9"
      },
      "execution_count": 156,
      "outputs": [
        {
          "output_type": "stream",
          "name": "stdout",
          "text": [
            "Intervalo de confianza:( 2.67 , 3.41 )\n"
          ]
        }
      ]
    },
    {
      "cell_type": "markdown",
      "source": [
        "*   Intervalo de confianza del $99\\%$"
      ],
      "metadata": {
        "id": "Hxj6ufTg2eRI"
      }
    },
    {
      "cell_type": "code",
      "source": [
        "int_conf(muestra,0.01)"
      ],
      "metadata": {
        "colab": {
          "base_uri": "https://localhost:8080/"
        },
        "id": "HXoTAxAb2gIk",
        "outputId": "af6c1b6f-b701-4759-efda-aa0c399d1755"
      },
      "execution_count": 157,
      "outputs": [
        {
          "output_type": "stream",
          "name": "stdout",
          "text": [
            "Intervalo de confianza:( 2.58 , 3.5 )\n"
          ]
        }
      ]
    }
  ]
}