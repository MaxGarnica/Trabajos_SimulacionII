{
  "nbformat": 4,
  "nbformat_minor": 0,
  "metadata": {
    "colab": {
      "name": "Ejercicios P2.ipynb",
      "provenance": [],
      "collapsed_sections": [
        "4UCWFNvmuDFc",
        "7EqcmxKhuPqb",
        "ylgO5MHEvVOP",
        "0we05yx2SohN",
        "hVfWCzVLS-rI",
        "mbl48KK16mI-",
        "KiVCwB0jM_BX",
        "FCFOHCA5Pd6j",
        "3gCdyHdSWZjx",
        "5Uz-F4yKIcyt",
        "t_7iBWteLJw4",
        "UVj-ifLlOV8Y"
      ],
      "authorship_tag": "ABX9TyMtwZS1SNgPKdi47w9t0kMu",
      "include_colab_link": true
    },
    "kernelspec": {
      "name": "python3",
      "display_name": "Python 3"
    },
    "language_info": {
      "name": "python"
    }
  },
  "cells": [
    {
      "cell_type": "markdown",
      "metadata": {
        "id": "view-in-github",
        "colab_type": "text"
      },
      "source": [
        "<a href=\"https://colab.research.google.com/github/MaxGarnica/Trabajos_SimulacionII/blob/main/Ejercicios_P2.ipynb\" target=\"_parent\"><img src=\"https://colab.research.google.com/assets/colab-badge.svg\" alt=\"Open In Colab\"/></a>"
      ]
    },
    {
      "cell_type": "markdown",
      "source": [
        "*Maximiliano Garnica López*\n",
        "\n",
        "*Ejercicios*\n",
        "\n",
        "*Simulación II*"
      ],
      "metadata": {
        "id": "fjXDowqRtsxN"
      }
    },
    {
      "cell_type": "markdown",
      "source": [
        "# **SEGUNDO PARCIAL**"
      ],
      "metadata": {
        "id": "lm8iQqtctvLq"
      }
    },
    {
      "cell_type": "code",
      "execution_count": 115,
      "metadata": {
        "id": "CiJJZ_64tpRf"
      },
      "outputs": [],
      "source": [
        "import random\n",
        "from matplotlib.pyplot import *\n",
        "import numpy as np\n",
        "import pandas as pd\n",
        "from statistics import mean, median, variance, stdev, pstdev \n",
        "from math import inf as Infinity\n",
        "from time import time\n",
        "import math"
      ]
    },
    {
      "cell_type": "markdown",
      "source": [
        "## Ejercicio 1\n",
        "Simulación manual."
      ],
      "metadata": {
        "id": "4UCWFNvmuDFc"
      }
    },
    {
      "cell_type": "markdown",
      "source": [
        "1. Completar la tabla.\n",
        "\n",
        "| Pkt No. |Tpll  |tps  |Tiempo de arribo|Inicio de servicio|Hora de salida|Tiempo en fila |Tiempo en el sistema  |\n",
        "|---------|-----|----|--------------|-------------------|----------------|---------------|-----------------| \n",
        "|    1    |  2  | 12 |       2      |         2         |      14        |      0        |       12        |\n",
        "|    2    |  5  | 10 |       7      |         14        |      24        |      7        |       17        | \n",
        "|    3    |  1  | 16 |       8       |     24              |   40             |  16             |      32           |\n",
        "|    4    |  4  | 9  |     12         |    40               |    49            |      28         |      37           |\n",
        "|    5    |  1  | 10 |      13        |        49           |    59            |      36         |       46          | \n",
        "|    6    |  3  | 13 |      16        |       59            |     72           |      43         |       56          |\n",
        "|    7    |  3  | 17 |      19        |      72             |      89          |        53       |       70          | \n",
        "|    8    |  2  | 10 |      21        |        89           |      99          |       68        |        78         |\n",
        "|    9    |  4  | 8  |      25        |        99           |      107          |        74       |      82           |\n",
        "|   10    |  5  | 12 |     30         |        107           |     119           |       77        |         89        |"
      ],
      "metadata": {
        "id": "Z_YawliNuHV-"
      }
    },
    {
      "cell_type": "markdown",
      "source": [
        "## Ejercicio 2\n",
        "\n",
        "Continuacion..."
      ],
      "metadata": {
        "id": "7EqcmxKhuPqb"
      }
    },
    {
      "cell_type": "markdown",
      "source": [
        "1. Con la información de la tabla completa, determinar: $\\lambda$, $\\mu$, $L$ y $L_q$.\n",
        "\n",
        "El número de llegadas por unidad de tiempo $\\lambda$ se obtiene con el total de llegadas que fueron $10$ entre el tiempo total en el que ocurrieron esas llegadas $30$ minutos"
      ],
      "metadata": {
        "id": "fMAW3AIruTP_"
      }
    },
    {
      "cell_type": "code",
      "source": [
        "lambd=10/30\n",
        "\n",
        "print('Número de llegadas por unidad de tiempo es λ=%.2f' %lambd)"
      ],
      "metadata": {
        "colab": {
          "base_uri": "https://localhost:8080/"
        },
        "id": "XQDWFQNSuWau",
        "outputId": "31be15a5-9047-42dd-dacf-c1d5bd6e5801"
      },
      "execution_count": 2,
      "outputs": [
        {
          "output_type": "stream",
          "name": "stdout",
          "text": [
            "Número de llegadas por unidad de tiempo es λ=0.33\n"
          ]
        }
      ]
    },
    {
      "cell_type": "markdown",
      "source": [
        "El número de servicios por unidad de tiempo $\\mu$ se obtiene con el total de servicios que fueron $10$ entre el tiempo total donde se dieron los servicios que es desde el minuto $2$ hasta el $119$, obteniendo $117$ minutos."
      ],
      "metadata": {
        "id": "0I4EM5oDuk_J"
      }
    },
    {
      "cell_type": "code",
      "source": [
        "mu=10/117\n",
        "\n",
        "print('Número de servicios por unidad de tiempo es μ=%.2f' %mu)"
      ],
      "metadata": {
        "colab": {
          "base_uri": "https://localhost:8080/"
        },
        "id": "O6YvBpRdul4w",
        "outputId": "a592f324-a9ee-4579-910d-9da3c037be3d"
      },
      "execution_count": 3,
      "outputs": [
        {
          "output_type": "stream",
          "name": "stdout",
          "text": [
            "Número de servicios por unidad de tiempo es μ=0.09\n"
          ]
        }
      ]
    },
    {
      "cell_type": "markdown",
      "source": [
        "El número medio de clientes en el sistema $L$ se obtiene con la formula:\n",
        "\n",
        "$L= \\lambda W$\n",
        "\n",
        "El valor de $\\lambda$ ya lo tenemos. El de $W$ es el tiempo medio de estancia de los clientes en el sistema que se obtiene sacandole el promedio a la columna **Tiempo en el sistema**"
      ],
      "metadata": {
        "id": "QvTgXCxxupBU"
      }
    },
    {
      "cell_type": "code",
      "source": [
        "tiempsist=[12,17,32,37,46,56,70,78,82,89]\n",
        "\n",
        "W=mean(tiempsist)\n",
        "\n",
        "print('El tiempo medio de estancia de los clientes en el sistema es W=%.2f' %W)"
      ],
      "metadata": {
        "colab": {
          "base_uri": "https://localhost:8080/"
        },
        "id": "io_loZCjuuIc",
        "outputId": "39582316-0459-48dd-a44e-88e2ca746417"
      },
      "execution_count": 4,
      "outputs": [
        {
          "output_type": "stream",
          "name": "stdout",
          "text": [
            "El tiempo medio de estancia de los clientes en el sistema es W=51.90\n"
          ]
        }
      ]
    },
    {
      "cell_type": "markdown",
      "source": [
        "EL valor de $L$ es"
      ],
      "metadata": {
        "id": "r7sakQjKuwUo"
      }
    },
    {
      "cell_type": "code",
      "source": [
        "L=lambd*W\n",
        "\n",
        "print('El número medio de clientes en el sistema es L=%.2f' %L)"
      ],
      "metadata": {
        "colab": {
          "base_uri": "https://localhost:8080/"
        },
        "id": "aIHKI1rXu9sk",
        "outputId": "b4ecc59c-0619-465d-e760-4e83cf87c89d"
      },
      "execution_count": 5,
      "outputs": [
        {
          "output_type": "stream",
          "name": "stdout",
          "text": [
            "El número medio de clientes en el sistema es L=17.30\n"
          ]
        }
      ]
    },
    {
      "cell_type": "markdown",
      "source": [
        "El número medio de clientes en la cola $L_q$ se obtiene con la formula:\n",
        "\n",
        "$L_q = \\lambda W_q$\n",
        "\n",
        "El valor de $\\lambda$ ya lo tenemos. El de $W_q$ es el tiempo medio de espera de los clientes en la cola que se obtiene sacandole el promedio a la columna **Tiempo en fila**"
      ],
      "metadata": {
        "id": "aAfg035ju9IV"
      }
    },
    {
      "cell_type": "code",
      "source": [
        "tiempfila=[0,7,16,28,36,43,53,68,74,77]\n",
        "\n",
        "Wq=mean(tiempfila)\n",
        "\n",
        "print('El tiempo medio de espera de los clientes en la cola es W_q=%.2f' %Wq)"
      ],
      "metadata": {
        "colab": {
          "base_uri": "https://localhost:8080/"
        },
        "id": "HmBKVDIkvE1S",
        "outputId": "a8bab692-aaab-4f3b-842a-d25cd736082b"
      },
      "execution_count": 6,
      "outputs": [
        {
          "output_type": "stream",
          "name": "stdout",
          "text": [
            "El tiempo medio de espera de los clientes en la cola es W_q=40.20\n"
          ]
        }
      ]
    },
    {
      "cell_type": "markdown",
      "source": [
        "EL valor de $L_q$ es"
      ],
      "metadata": {
        "id": "9CSr_cDBvJrC"
      }
    },
    {
      "cell_type": "code",
      "source": [
        "Lq=lambd*Wq\n",
        "\n",
        "print('El número medio de clientes en la cola es L_q=%.2f' %Lq)"
      ],
      "metadata": {
        "colab": {
          "base_uri": "https://localhost:8080/"
        },
        "id": "1mSaa37PvOmy",
        "outputId": "24d4b4f2-5907-448b-fca3-6bb3470ed09d"
      },
      "execution_count": 7,
      "outputs": [
        {
          "output_type": "stream",
          "name": "stdout",
          "text": [
            "El número medio de clientes en la cola es L_q=13.40\n"
          ]
        }
      ]
    },
    {
      "cell_type": "markdown",
      "source": [
        "## Ejercicio 3"
      ],
      "metadata": {
        "id": "ylgO5MHEvVOP"
      }
    },
    {
      "cell_type": "markdown",
      "source": [
        "**Variables:**\n",
        "\n",
        "1. Variable de tiempo $t$: tiempo (simulado) transcurrido.\n",
        "\n",
        "2. Variables de conteo: número de veces que ciertos eventos han ocurrido, hasta el instante $t$.\n",
        "    \n",
        "3. Variables de estado del sistema (ES): Describen el estado del sistema en el instante $t$."
      ],
      "metadata": {
        "id": "mLmiRX-ZRzxe"
      }
    },
    {
      "cell_type": "markdown",
      "source": [
        "Subrutina para generar $T_s$, el tiempo de la primera llegada después del instante s."
      ],
      "metadata": {
        "id": "M8gk2WplR5Vx"
      }
    },
    {
      "cell_type": "markdown",
      "source": [
        "Paso 1: Sea $t = s$.\n",
        "\n",
        "Paso 2: Generar $U$.\n",
        "\n",
        "Paso 3: Sea $t = t - \\frac{1}{\\lambda} logU$.\n",
        "\n",
        "Paso 4: Generar $U$.\n",
        "\n",
        "Paso 5: Si $U \\leq \\frac{\\lambda(t)}{\\lambda}$, hacer $T_s = t$ y terminar.\n",
        "\n",
        "Paso 6: Ir al paso 2."
      ],
      "metadata": {
        "id": "ur3s5aRtR9eq"
      }
    },
    {
      "cell_type": "markdown",
      "source": [
        "1. Escribir el código para la subrutina que genera $T_s$."
      ],
      "metadata": {
        "id": "0fpyxy4ivWRq"
      }
    },
    {
      "cell_type": "code",
      "source": [
        "s=2                                               #Tiempo promedio entre llegadas\n",
        "i=0                                               #Variable de estado para terminar el ciclo\n",
        "t=s                                               #Hora de simulación actual\n",
        "while i==0 :\n",
        "  r1=random.random()                              #Generar U~(0,1)\n",
        "  t=t-(1/lambd)*np.log(r1)\n",
        "  r2=random.random()                              #Generar U~(0,1)\n",
        "\n",
        "  if (r2<=(random.expovariate(t)/lambd)):         #Si U<=λ(t)/λ\n",
        "    Ts=t\n",
        "    i=1                                           #Termina el ciclo\n",
        "  \n",
        "print('Ts = %f' %Ts)"
      ],
      "metadata": {
        "colab": {
          "base_uri": "https://localhost:8080/"
        },
        "id": "HU2AK4eyTVsv",
        "outputId": "e2a84ba5-a592-4bec-d9cd-57498d470c08"
      },
      "execution_count": 8,
      "outputs": [
        {
          "output_type": "stream",
          "name": "stdout",
          "text": [
            "Ts = 4.793438\n"
          ]
        }
      ]
    },
    {
      "cell_type": "markdown",
      "source": [
        "## Ejercicio:"
      ],
      "metadata": {
        "id": "0we05yx2SohN"
      }
    },
    {
      "cell_type": "markdown",
      "source": [
        "Lavado Automata para automóviles funciona sólo con un lugar. Los autos llegan siguiendo\n",
        "una distribución de Poisson, con 4 autos por hora, que pueden esperar en el estacionamiento de\n",
        "la instalación, si el lugar de lavado está ocupado. El tiempo para lavar y limpiar un automóvil\n",
        "es exponencial, con 10 minutos de promedio. Los automóviles que no se pueden estacionar en\n",
        "la instalación pueden esperar en el arrollo junto al lavado. Eso quiere decir que para todo fin\n",
        "práctico no hay límite del tamaño del sistema. El gerente de la instalación desea determinar el\n",
        "tamaño del estacionamiento.\n",
        "\n",
        "Para resolver este problema, hay que determinar $L_q$, pero de momento estimemos $L$ y $W$ usando la simulación."
      ],
      "metadata": {
        "id": "L0LXiRSLSvmG"
      }
    },
    {
      "cell_type": "markdown",
      "source": [
        "El número de autos que llegaron en una hora es $λ=4$\n",
        "\n",
        "El número de servicios de autos por hora es de $μ= \\frac{1}{10} \\text{minutos} =\\frac{60}{10} \\text{horas}= 6$"
      ],
      "metadata": {
        "id": "MuraqcaqUH2f"
      }
    },
    {
      "cell_type": "code",
      "source": [
        "# Parametros\n",
        "\n",
        "lamda = 4.0                         # Razón de arrivos (1/Lambda)\n",
        "mu = 6.0                            # Razón de salida (1/Mu)\n",
        "\n",
        "\n",
        "Num_Pkts = 100                      # Numero de paquetes a simular\n",
        "count = 0                           # Contador de paquetes simulados\n",
        "t = 0\n",
        "N = 0                               # Variable de estado: numero de paquetes en el sistema\n",
        "\n",
        "tll = random.expovariate(lamda)     # Tiempo de llegada\n",
        "ts = Infinity                       # Tiempo de salida\n",
        "\n",
        "t_evento_anterior = 0.0             # tiempo del último evento\n",
        "\n",
        "\n",
        "# Variables de salida\n",
        "tll_Data = []                       # Lista de tiempos de llegada\n",
        "ts_Data = []                        # Lista de tiempos de salida\n",
        "r_Data = []                         # Lista de retrasos individuales\n",
        "Area = []                           # Area de escalón\n",
        "\n",
        "\n",
        "while count < Num_Pkts:\n",
        "    if tll < ts:                           # Evento de llegada\n",
        "        t = tll\n",
        "        tll_Data.append(t)\n",
        "        \n",
        "        # Area del escalón\n",
        "        Area.append((t - t_evento_anterior)*N)\n",
        "        t_evento_anterior = t\n",
        "        \n",
        "        \n",
        "        N = N + 1.0\n",
        "        tll = t + random.expovariate(lamda) \n",
        "        if N == 1:\n",
        "            ts = t + random.expovariate(mu)\n",
        "    else:                                         # Evento de salida\n",
        "        t = ts\n",
        "        ts_Data.append(t)\n",
        "        \n",
        "        # Area del escalón\n",
        "        Area.append((t - t_evento_anterior)*N)\n",
        "        t_evento_anterior = t\n",
        "        \n",
        "        \n",
        "        N = N - 1.0\n",
        "        count = count + 1                         # Paquetes simulados\n",
        "        if N > 0:\n",
        "            ts = t + random.expovariate(mu)\n",
        "        else:\n",
        "            ts = Infinity\n",
        "            \n",
        "# Estimación del retraso promedio:\n",
        "\n",
        "for i in range(Num_Pkts):\n",
        "    d = ts_Data[i] - tll_Data[i]\n",
        "    r_Data.append(d)\n",
        "\n",
        "print( \"Retraso promedio es W = \", round( mean(r_Data), 4) )\n",
        "print( \"E[ N(t)] = L = \", round(sum(Area)/t, 4))"
      ],
      "metadata": {
        "colab": {
          "base_uri": "https://localhost:8080/"
        },
        "id": "Eu5OoEa5UlMB",
        "outputId": "6baa635a-4158-4f98-d347-3d5bd8d4ba8b"
      },
      "execution_count": 9,
      "outputs": [
        {
          "output_type": "stream",
          "name": "stdout",
          "text": [
            "Retraso promedio es W =  0.5252\n",
            "E[ N(t)] = L =  1.9264\n"
          ]
        }
      ]
    },
    {
      "cell_type": "markdown",
      "source": [
        "## Ejercicio 4"
      ],
      "metadata": {
        "id": "hVfWCzVLS-rI"
      }
    },
    {
      "cell_type": "markdown",
      "source": [
        "Calcular $L_q$ para el ejemplo anterior, usando las fórmulas de arriba."
      ],
      "metadata": {
        "id": "9PNrrJ9JTNZK"
      }
    },
    {
      "cell_type": "markdown",
      "source": [
        "El número medio de clientes en la cola $L_q$ se obtiene con la formula:\n",
        "\n",
        "$L_q = \\lambda W_q$\n",
        "\n",
        "El valor de $\\lambda$ ya lo tenemos. El de $W_q$ es el tiempo medio de espera de los clientes en la cola que se obtiene sacandole el promedio a todos **Tiempos en fila** que obtendremos con $\\text{tll_Data}$ y $\\text{ts_Data}$"
      ],
      "metadata": {
        "id": "VP_GUPdEbW_8"
      }
    },
    {
      "cell_type": "code",
      "source": [
        "# Tiempo de arribo ***********************************************************************************\n",
        "ta_Data=[]\n",
        "tar=0                                           \n",
        "\n",
        "for i in range(Num_Pkts):\n",
        "    tar = tar + tll_Data[i]                     #Tiempo de arribo = Tiempo de arribo anterior + Tiempo de llegada\n",
        "    ta_Data.append(tar)\n",
        "\n",
        "# Inicio de servicio ***********************************************************************************\n",
        "Is_Data=[]\n",
        "Iser=tll_Data[0]                                  #Tiempo de inicio de servicio inicial = Tiempo de llegada inicial\n",
        "Is_Data.append(Iser)\n",
        "\n",
        "for i in range(Num_Pkts):\n",
        "    Iser = Iser + ts_Data[i]                     #Tiempo de inicio de servicio = Tiempo de inicio de servicio anterior + Tiempo de salida\n",
        "    Is_Data.append(Iser)\n",
        "\n",
        "# Tiempo en la fila ***********************************************************************************\n",
        "Tf_Data=[]\n",
        "\n",
        "for i in range(Num_Pkts):\n",
        "    tfila = -Is_Data[i]+ta_Data[i]               #Tiempo en la fila = Tiempo de inicio de servicio - Tiempo de arribo\n",
        "    Tf_Data.append(tfila)\n",
        "\n",
        "#print(tll_Data)\n",
        "#print(ts_Data)\n",
        "#print(ta_Data)\n",
        "#print(Is_Data)\n",
        "#print(Tf_Data)\n",
        "\n",
        "# Tiempo medio de espera de los clientes en la cola ***********************************************************************************\n",
        "\n",
        "Wq1=mean(Tf_Data)\n",
        "\n",
        "print('El tiempo medio de espera de los clientes en la cola es W_q=%.2f' %Wq1)"
      ],
      "metadata": {
        "colab": {
          "base_uri": "https://localhost:8080/"
        },
        "id": "7bOA-GhPbQGa",
        "outputId": "0d570b63-8661-459e-9e47-74b0fe6559be"
      },
      "execution_count": 10,
      "outputs": [
        {
          "output_type": "stream",
          "name": "stdout",
          "text": [
            "El tiempo medio de espera de los clientes en la cola es W_q=-6.76\n"
          ]
        }
      ]
    },
    {
      "cell_type": "code",
      "source": [
        "Lq1=lamda*Wq1\n",
        "\n",
        "print('El número medio de clientes en la cola es L_q=%.2f' %Lq1)"
      ],
      "metadata": {
        "colab": {
          "base_uri": "https://localhost:8080/"
        },
        "id": "D_-uBh-aXlW6",
        "outputId": "6b2ef393-b2e3-4b58-9e50-bf00d4120052"
      },
      "execution_count": 11,
      "outputs": [
        {
          "output_type": "stream",
          "name": "stdout",
          "text": [
            "El número medio de clientes en la cola es L_q=-27.03\n"
          ]
        }
      ]
    },
    {
      "cell_type": "markdown",
      "source": [
        "## Ejercicio 5"
      ],
      "metadata": {
        "id": "mbl48KK16mI-"
      }
    },
    {
      "cell_type": "markdown",
      "source": [
        "En una estación con un solo servidor llegan en promedio 45 clientes por hora. Se tiene capacidad para atender \n",
        "en promedio a 60 clientes por hora. Se sabe que los clientes esperan en promedio 3 minutos en la cola.\n",
        "Se solicita determinar: \n",
        "* Tiempo promedio que un cliente pasa en el sistema. \n",
        "* Número promedio de clientes en la cola. \n",
        "* Número promedio de clientes en el Sistema en un momento dado.\n",
        "\n",
        "Use la simulación para responder y luego verifique los resultados usando las fórmulas de arriba."
      ],
      "metadata": {
        "id": "UAs4gSUcB86f"
      }
    },
    {
      "cell_type": "code",
      "source": [
        "# Parametros\n",
        "\n",
        "lamda = 45/60                       # Razón de arrivos (1/Lambda)\n",
        "mu = 60/60                          # Razón de salida (1/Mu)\n",
        "\n",
        "\n",
        "Num_Pkts = 100                      # Numero de paquetes a simular\n",
        "count = 0                           # Contador de paquetes simulados\n",
        "t = 0\n",
        "N = 0                               # Variable de estado: numero de paquetes en el sistema\n",
        "\n",
        "tll = random.expovariate(lamda)     # Tiempo de llegada\n",
        "ts = Infinity                       # Tiempo de salida\n",
        "\n",
        "t_evento_anterior = 0.0             # tiempo del último evento\n",
        "\n",
        "\n",
        "# Variables de salida\n",
        "tll_Data = []                       # Lista de tiempos de llegada\n",
        "ts_Data = []                        # Lista de tiempos de salida\n",
        "r_Data = []                         # Lista de retrasos individuales\n",
        "\n",
        "\n",
        "while count < Num_Pkts:\n",
        "    if tll < ts:                           # Evento de llegada\n",
        "        t = tll\n",
        "        tll_Data.append(t)\n",
        "        \n",
        "        t_evento_anterior = t\n",
        "        \n",
        "        N = N + 1.0\n",
        "        tll = t + random.expovariate(lamda) \n",
        "        if N == 1:\n",
        "            ts = t + random.expovariate(mu)\n",
        "    else:                                         # Evento de salida\n",
        "        t = ts\n",
        "        ts_Data.append(t)\n",
        "\n",
        "        t_evento_anterior = t\n",
        "\n",
        "        N = N - 1.0\n",
        "        count = count + 1                         # Paquetes simulados\n",
        "        if N > 0:\n",
        "            ts = t + random.expovariate(mu)\n",
        "        else:\n",
        "            ts = Infinity\n",
        "            \n",
        "# Estimación del retraso promedio:\n",
        "\n",
        "for i in range(Num_Pkts):\n",
        "    d = ts_Data[i] - tll_Data[i]\n",
        "    r_Data.append(d)\n",
        "\n",
        "print( \"Tiempo promedio que un cliente pasa en el sistema es W = \", round( mean(r_Data), 4) )\n",
        "\n",
        "# Tiempo medio de espera de los clientes en la cola\n",
        "wq=3\n",
        "lq=lamda*wq\n",
        "print('El número medio de clientes en la cola es L_q=%.2f' %lq)\n",
        "\n",
        "print( \"Número promedio de clientes en el sistema E[ N(t)] = L = \", round(sum(Area)/t, 4))"
      ],
      "metadata": {
        "colab": {
          "base_uri": "https://localhost:8080/"
        },
        "id": "PSubINdf6rq3",
        "outputId": "2ab2d58a-40bd-4afb-e1b2-1e7f8c6ad80d"
      },
      "execution_count": 12,
      "outputs": [
        {
          "output_type": "stream",
          "name": "stdout",
          "text": [
            "Tiempo promedio que un cliente pasa en el sistema es W =  3.9387\n",
            "El número medio de clientes en la cola es L_q=2.25\n",
            "Número promedio de clientes en el sistema E[ N(t)] = L =  0.4021\n"
          ]
        }
      ]
    },
    {
      "cell_type": "markdown",
      "source": [
        "## Ejercicio 6"
      ],
      "metadata": {
        "id": "KiVCwB0jM_BX"
      }
    },
    {
      "cell_type": "markdown",
      "source": [
        "¿Cómo accedemos al elemento 'c' de la lista [3, 'c'] dentro de lista?"
      ],
      "metadata": {
        "id": "v8VNGKDzNG0b"
      }
    },
    {
      "cell_type": "code",
      "source": [
        "lista = [1,2,3,4,5, 'a', 'b', 'c', [1,2], [3, 'c']]\n",
        "\n",
        "elemento=lista[9]\n",
        "print(elemento)\n",
        "\n",
        "c=elemento[1]\n",
        "print(c)"
      ],
      "metadata": {
        "colab": {
          "base_uri": "https://localhost:8080/"
        },
        "id": "RtMS0ezwOzaj",
        "outputId": "724c0eae-c081-4ba9-bc68-f0065f2afa0d"
      },
      "execution_count": 13,
      "outputs": [
        {
          "output_type": "stream",
          "name": "stdout",
          "text": [
            "[3, 'c']\n",
            "c\n"
          ]
        }
      ]
    },
    {
      "cell_type": "markdown",
      "source": [
        "## Ejercicio 7"
      ],
      "metadata": {
        "id": "FCFOHCA5Pd6j"
      }
    },
    {
      "cell_type": "code",
      "source": [
        "a = [1, 2, 3, 4, 5]\n",
        "b = [6,7,8,9,10]"
      ],
      "metadata": {
        "id": "8O_UWQoGPxqb"
      },
      "execution_count": 14,
      "outputs": []
    },
    {
      "cell_type": "markdown",
      "source": [
        "Calcular el promedio de:\n",
        "\n",
        "* a"
      ],
      "metadata": {
        "id": "IxIr_BjEPhzX"
      }
    },
    {
      "cell_type": "code",
      "source": [
        "proma=sum(a)/len(a)                    #Promedio a = suma de las entradas de a entre la longitud de a\n",
        "print('Promedio de a es %d' %proma)"
      ],
      "metadata": {
        "colab": {
          "base_uri": "https://localhost:8080/"
        },
        "id": "ex_CTgrnP4Sf",
        "outputId": "5dd91ad2-7779-41cb-db05-b2347c860d62"
      },
      "execution_count": 15,
      "outputs": [
        {
          "output_type": "stream",
          "name": "stdout",
          "text": [
            "Promedio de a es 3\n"
          ]
        }
      ]
    },
    {
      "cell_type": "markdown",
      "source": [
        "* b"
      ],
      "metadata": {
        "id": "nHjolsgKQbUJ"
      }
    },
    {
      "cell_type": "code",
      "source": [
        "promb=sum(b)/len(b)                    #Promedio b = suma de las entradas de b entre la longitud de b\n",
        "print('Promedio de b es %d' %promb)"
      ],
      "metadata": {
        "colab": {
          "base_uri": "https://localhost:8080/"
        },
        "id": "QDWVbyPaQiPR",
        "outputId": "b17feede-89f9-4cd7-a117-6241c9ba4a98"
      },
      "execution_count": 16,
      "outputs": [
        {
          "output_type": "stream",
          "name": "stdout",
          "text": [
            "Promedio de b es 8\n"
          ]
        }
      ]
    },
    {
      "cell_type": "markdown",
      "source": [
        "* 5a ¿Es igual a 5*(promedio de a)?"
      ],
      "metadata": {
        "id": "HjlNhDsoQoLv"
      }
    },
    {
      "cell_type": "code",
      "source": [
        "mult1=5*a                               #Calculamos 5*a\n",
        "print('5*a=%a\\n' %mult1)\n",
        "\n",
        "prom1=sum(mult1)/len(mult1)             #Promedio 5*a = suma de las entradas de 5*a entre la longitud de 5*a\n",
        "print('\\t Promedio 5*a es %d \\n' %prom1)\n",
        "\n",
        "mult2=5*proma                           #5*(Promedio a)\n",
        "print('5*(promedio de a)=%d' %mult2)"
      ],
      "metadata": {
        "colab": {
          "base_uri": "https://localhost:8080/"
        },
        "id": "USwlNbpyQprB",
        "outputId": "14d22299-283a-4cf2-a57b-ebf76384e236"
      },
      "execution_count": 17,
      "outputs": [
        {
          "output_type": "stream",
          "name": "stdout",
          "text": [
            "5*a=[1, 2, 3, 4, 5, 1, 2, 3, 4, 5, 1, 2, 3, 4, 5, 1, 2, 3, 4, 5, 1, 2, 3, 4, 5]\n",
            "\n",
            "\t Promedio 5*a es 3 \n",
            "\n",
            "5*(promedio de a)=15\n"
          ]
        }
      ]
    },
    {
      "cell_type": "markdown",
      "source": [
        "No son iguales, ya que al multiplicar $5*a$ repites el arreglo $\\text{a}$ $5$ veces en un nuevo arreglo lo que provoca que su promedio sea $3$ al igual que el promedio de $\\text{a}$ y el segundo obtiene el promedio de a $3$ por $5$ que da $15$"
      ],
      "metadata": {
        "id": "-VXsVSlYRPbe"
      }
    },
    {
      "cell_type": "markdown",
      "source": [
        "* a + b ¿Es igual a la suma de los promedios?"
      ],
      "metadata": {
        "id": "CMaCljqzR4w_"
      }
    },
    {
      "cell_type": "code",
      "source": [
        "sum1=a+b                                              #Calculamos a+b\n",
        "print('a+b=%a \\n' %sum1)\n",
        "\n",
        "prom2=sum(sum1)/len(sum1)                             #Promedio a+b = suma de las entradas de a+b entre la longitud de a+b\n",
        "print('\\t Promedio a+b es %d \\n' %prom2)\n",
        "\n",
        "sum2=proma+promb                                      #(promedio de a)+(promedio de b)\n",
        "print('(promedio de a)+(promedio de b)=%d' %sum2)"
      ],
      "metadata": {
        "colab": {
          "base_uri": "https://localhost:8080/"
        },
        "id": "9AJfjMEVR93y",
        "outputId": "1923e8db-a8d1-4d94-e28e-0a341c586906"
      },
      "execution_count": 18,
      "outputs": [
        {
          "output_type": "stream",
          "name": "stdout",
          "text": [
            "a+b=[1, 2, 3, 4, 5, 6, 7, 8, 9, 10] \n",
            "\n",
            "\t Promedio a+b es 5 \n",
            "\n",
            "(promedio de a)+(promedio de b)=11\n"
          ]
        }
      ]
    },
    {
      "cell_type": "markdown",
      "source": [
        "No son iguales, ya que al sumar $a+b$ pone los dos arreglos en uno solo lo que provoca que su promedio sea $5$ y el segundo obtiene la suma de los promedios de $\\text{a}$ y $\\text{b}$ lo que da $11$"
      ],
      "metadata": {
        "id": "GdDkBjONVlel"
      }
    },
    {
      "cell_type": "markdown",
      "source": [
        "## Ejercicio 8"
      ],
      "metadata": {
        "id": "3gCdyHdSWZjx"
      }
    },
    {
      "cell_type": "markdown",
      "source": [
        "1.  Generar una lista de 20 números aleatorios. "
      ],
      "metadata": {
        "id": "p41DyukMWaKa"
      }
    },
    {
      "cell_type": "code",
      "source": [
        "numa=[]\n",
        "\n",
        "for i in range(20):                 #Genera una lista de 20 números aleatorios\n",
        "  numa.append(random.random())\n",
        "\n",
        "print(numa)                         #Imprime lista de los 20 números aleatorios"
      ],
      "metadata": {
        "colab": {
          "base_uri": "https://localhost:8080/"
        },
        "id": "AhUp43ATWiya",
        "outputId": "e784d275-48ad-4068-e8b3-6b22ce2e71d1"
      },
      "execution_count": 19,
      "outputs": [
        {
          "output_type": "stream",
          "name": "stdout",
          "text": [
            "[0.08180658948181163, 0.4600191136422236, 0.20199491359412425, 0.7601211368298318, 0.19040959058822682, 0.01930821189643217, 0.9447028083476077, 0.6600247846914767, 0.14018286426954973, 0.01898788883914626, 0.5843525219566784, 0.30214641035687795, 0.0146657564740722, 0.24573607671378084, 0.7420282928250391, 0.9928820821499927, 0.8707668620151187, 0.5168135089258047, 0.040981273684574604, 0.3342833613010664]\n"
          ]
        }
      ]
    },
    {
      "cell_type": "markdown",
      "source": [
        "2.   Obtener el promedio de los 10 últimos números generados."
      ],
      "metadata": {
        "id": "2gHmVGezXcnS"
      }
    },
    {
      "cell_type": "code",
      "source": [
        "ult10=numa[10:]                     #Toma los ultimos 10 números aleatorios\n",
        "print(ult10)\n",
        "\n",
        "promu=sum(ult10)/len(ult10)         #Obtiene  los ultimos 10 números aleatorios\n",
        "print('\\nPromedio de los ultimos 10 numeros generados es %f' %promu)"
      ],
      "metadata": {
        "colab": {
          "base_uri": "https://localhost:8080/"
        },
        "id": "5QXvzUNVXws2",
        "outputId": "beb2a103-243d-497d-ad85-be70c17ba529"
      },
      "execution_count": 20,
      "outputs": [
        {
          "output_type": "stream",
          "name": "stdout",
          "text": [
            "[0.5843525219566784, 0.30214641035687795, 0.0146657564740722, 0.24573607671378084, 0.7420282928250391, 0.9928820821499927, 0.8707668620151187, 0.5168135089258047, 0.040981273684574604, 0.3342833613010664]\n",
            "\n",
            "Promedio de los ultimos 10 numeros generados es 0.464466\n"
          ]
        }
      ]
    },
    {
      "cell_type": "markdown",
      "source": [
        "## Función mm1_W( $λ$, $μ$, No. paquetes)"
      ],
      "metadata": {
        "id": "5Uz-F4yKIcyt"
      }
    },
    {
      "cell_type": "code",
      "source": [
        "def mm1_W(lamda,mu,Num_Pkts):\n",
        "  count = 0                           # Contador de paquetes simulados\n",
        "  t = 0\n",
        "  N = 0                               # Variable de estado: numero de paquetes en el sistema\n",
        "\n",
        "  tll = random.expovariate(lamda)     # Tiempo de llegada\n",
        "  ts = Infinity                       # Tiempo de salida\n",
        "\n",
        "  t_evento_anterior = 0.0             # tiempo del último evento\n",
        "\n",
        "  # Variables de salida\n",
        "  tll_Data = []                       # Lista de tiempos de llegada\n",
        "  ts_Data = []                        # Lista de tiempos de salida\n",
        "  r_Data = []                         # Lista de retrasos individuales\n",
        "\n",
        "  while count < Num_Pkts:\n",
        "      if tll < ts:                                  # Evento de llegada\n",
        "          t = tll\n",
        "          tll_Data.append(t)\n",
        "          \n",
        "          t_evento_anterior = t\n",
        "          \n",
        "          N = N + 1.0\n",
        "          tll = t + random.expovariate(lamda) \n",
        "          if N == 1:\n",
        "              ts = t + random.expovariate(mu)\n",
        "      else:                                         # Evento de salida\n",
        "          t = ts\n",
        "          ts_Data.append(t)\n",
        "\n",
        "          t_evento_anterior = t\n",
        "\n",
        "          N = N - 1.0\n",
        "          count = count + 1                         # Paquetes simulados\n",
        "          if N > 0:\n",
        "              ts = t + random.expovariate(mu)\n",
        "          else:\n",
        "              ts = Infinity\n",
        "              \n",
        "  # Estimación del retraso promedio:\n",
        "\n",
        "  for i in range(Num_Pkts):\n",
        "      d = ts_Data[i] - tll_Data[i]\n",
        "      r_Data.append(d)\n",
        "\n",
        "  #   print( \"Tiempo promedio que un cliente pasa en el sistema es W = \", round( mean(r_Data), 4) )\n",
        "\n",
        "  # Tiempo medio de espera de los clientes en la cola\n",
        "  wq=3\n",
        "  lq=lamda*wq\n",
        "  #   print('El número medio de clientes en la cola es L_q=%.2f' %lq)\n",
        "\n",
        "  #   print( \"Número promedio de clientes en el sistema E[ N(t)] = L = \", round(sum(Area)/t, 4))\n",
        "\n",
        "  return r_Data             #Arreglo del tiempo que permanecen los clientes en el sistema"
      ],
      "metadata": {
        "id": "Td9Sin2_JeOL"
      },
      "execution_count": 51,
      "outputs": []
    },
    {
      "cell_type": "code",
      "source": [
        "print( \"Tiempo promedio que un cliente pasa en el sistema es W = \", round( mean(mm1_W(4.0,6.0,100)), 4) )"
      ],
      "metadata": {
        "colab": {
          "base_uri": "https://localhost:8080/"
        },
        "id": "Cp5ZUkf32LpS",
        "outputId": "41268b8e-e3d9-40e3-96a8-25000ee744ee"
      },
      "execution_count": 52,
      "outputs": [
        {
          "output_type": "stream",
          "name": "stdout",
          "text": [
            "Tiempo promedio que un cliente pasa en el sistema es W =  0.5184\n"
          ]
        }
      ]
    },
    {
      "cell_type": "markdown",
      "source": [
        "Analizar visualmente la variabilidad de los resultados que se obtienen al repetir muchas veces el experimento."
      ],
      "metadata": {
        "id": "eYxwKf7ERc51"
      }
    },
    {
      "cell_type": "code",
      "source": [
        "lamda = 4.0\n",
        "mu = 6.0\n",
        "\n",
        "Num_Rep = 100                       # Numero de repeticiones\n",
        "Delay = []                          # Lista de resultados para el retraso promedio W \n",
        "\n",
        "for i in range(Num_Rep):\n",
        "    random.seed() \n",
        "    d = mean(mm1_W(4.0,6.0,100))    # Tiempo promedio que un cliente pasa en el sistema\n",
        "    Delay.append(d)\n",
        "\n",
        "# Estimación del promedio de las repeticiones\n",
        "\n",
        "fig = figure(1, figsize=(16,8))\n",
        "plot(Delay, linewidth=2, label='W')\n",
        "axhline(y=mean(Delay), color='red',label='W promedio')\n",
        "axhline(y=mean(Delay) + pstdev(Delay), color='green')\n",
        "axhline(y=mean(Delay) - pstdev(Delay), color='green')\n",
        "title(\"Estimación de W\", color = 'red')\n",
        "xlabel('Número de experimentos')\n",
        "ylabel('W (hrs)')\n",
        "legend()\n",
        "show()\n",
        "\n",
        "\n",
        "print(\"Retraso promedio W = \" , round( mean(Delay), 4) )\n",
        "print(\"Con un error de =\", round(pstdev(Delay), 4))\n",
        "print(\"W está entre:\" , round(mean(Delay) - pstdev(Delay), 4), \"y\", round(mean(Delay) + pstdev(Delay), 4) )"
      ],
      "metadata": {
        "colab": {
          "base_uri": "https://localhost:8080/",
          "height": 565
        },
        "id": "nnaXOgbyQE9R",
        "outputId": "7876db50-79a6-4e89-dafa-c0c06acb1335"
      },
      "execution_count": 53,
      "outputs": [
        {
          "output_type": "display_data",
          "data": {
            "text/plain": [
              "<Figure size 1152x576 with 1 Axes>"
            ],
            "image/png": "[encoded data removed]"
          },
          "metadata": {
            "needs_background": "light"
          }
        },
        {
          "output_type": "stream",
          "name": "stdout",
          "text": [
            "Retraso promedio W =  0.5034\n",
            "Con un error de = 0.2491\n",
            "W está entre: 0.2543 y 0.7525\n"
          ]
        }
      ]
    },
    {
      "cell_type": "markdown",
      "source": [
        "## Función Probabilidad pmm1_W( $λ$, $μ$, No. paquetes)"
      ],
      "metadata": {
        "id": "t_7iBWteLJw4"
      }
    },
    {
      "cell_type": "code",
      "source": [
        "def pmm1_W(lamda,mu,Num_Pkts):\n",
        "  count = 0                           # Contador de paquetes simulados\n",
        "  t = 0\n",
        "  N = 0                               # Variable de estado: numero de paquetes en el sistema\n",
        "\n",
        "  tll = random.expovariate(lamda)     # Tiempo de llegada\n",
        "  ts = Infinity                       # Tiempo de salida\n",
        "  t_evento_anterior = 0.0             # tiempo del último evento\n",
        "\n",
        "  # Variables de salida\n",
        "  tll_Data = []                       # Lista de tiempos de llegada\n",
        "  ts_Data = []                        # Lista de tiempos de salida\n",
        "  r_Data = []                         # Lista de retrasos individuales\n",
        "\n",
        "  Data = {}                           # Diccionario\n",
        "\n",
        "  while count < Num_Pkts:\n",
        "  #while t < T:\n",
        "      if tll < ts:                                 # Evento de llegada\n",
        "          t = tll\n",
        "          \n",
        "          # Longitud del intervalo entre llegadas\n",
        "          delta = t - t_evento_anterior\n",
        "          if N in Data: \n",
        "              Data[N] += delta\n",
        "          else:\n",
        "              Data[N] = delta\n",
        "          t_evento_anterior = t\n",
        "          \n",
        "          tll_Data.append(t)\n",
        "          N = N + 1.0\n",
        "          tll = t + random.expovariate(lamda) \n",
        "          if N == 1:\n",
        "              ts = t + random.expovariate(mu)\n",
        "      else:                                         # Evento de salida\n",
        "          t = ts\n",
        "          \n",
        "          # Longitud del intervalo de tiempo\n",
        "          delta = t - t_evento_anterior\n",
        "          if N in Data:\n",
        "              Data[N] += delta\n",
        "          else:\n",
        "              Data[N] = delta\n",
        "          t_evento_anterior = t\n",
        "          \n",
        "          ts_Data.append(t)\n",
        "          N = N - 1.0\n",
        "          count = count + 1                         # Paquetes simulados\n",
        "          if N > 0:\n",
        "              ts = t + random.expovariate(mu)\n",
        "          else:\n",
        "              ts = Infinity\n",
        "\n",
        "  ##################################### se procesan los datos de salida ########################################\n",
        "\n",
        "  # Estimación de la probabilidad de P(N=k):\n",
        "  for (key, value) in Data.items():\n",
        "      Data[key] = value/t\n",
        "\n",
        "  # Se verifica que la probabilidad total es 1.0\n",
        "\n",
        "  print('Suma de probabilidades =', sum(Data.values()))\n",
        "\n",
        "  # Se verifican los valores de expectación\n",
        "  media = 0.0\n",
        "\n",
        "  print('\\n')\n",
        "  print('Lista de Probabilidades\\n')\n",
        "  print('No. Llegadas','\\t','Probabilidad')\n",
        "  for (key, value) in Data.items():\n",
        "      media = media + key*value\n",
        "      print(key,'\\t\\t', round(value, 4))\n",
        "\n",
        "  print('\\n')\n",
        "  print('E[N] = ', media)"
      ],
      "metadata": {
        "id": "ABIL6y3qLRuV"
      },
      "execution_count": 54,
      "outputs": []
    },
    {
      "cell_type": "code",
      "source": [
        "pmm1_W(4.0,6.0,100)"
      ],
      "metadata": {
        "colab": {
          "base_uri": "https://localhost:8080/"
        },
        "id": "0unFS8meL6ns",
        "outputId": "7517cd4b-47cd-4e34-8ef3-55cf830fa72b"
      },
      "execution_count": 25,
      "outputs": [
        {
          "output_type": "stream",
          "name": "stdout",
          "text": [
            "Suma de probabilidades = 1.0\n",
            "\n",
            "\n",
            "Lista de Probabilidades\n",
            "\n",
            "No. Llegadas \t Probabilidad\n",
            "0 \t\t 0.1547\n",
            "1.0 \t\t 0.1223\n",
            "2.0 \t\t 0.0643\n",
            "3.0 \t\t 0.0292\n",
            "4.0 \t\t 0.0337\n",
            "5.0 \t\t 0.0361\n",
            "6.0 \t\t 0.0306\n",
            "7.0 \t\t 0.1122\n",
            "8.0 \t\t 0.0795\n",
            "9.0 \t\t 0.0465\n",
            "10.0 \t\t 0.0289\n",
            "11.0 \t\t 0.0459\n",
            "12.0 \t\t 0.0709\n",
            "13.0 \t\t 0.0665\n",
            "14.0 \t\t 0.0511\n",
            "15.0 \t\t 0.0278\n",
            "\n",
            "\n",
            "E[N] =  6.317121236941582\n"
          ]
        }
      ]
    },
    {
      "cell_type": "markdown",
      "source": [
        "## Función generamos las muestras/repeticiones (Estado transitorio y estado estable)"
      ],
      "metadata": {
        "id": "UVj-ifLlOV8Y"
      }
    },
    {
      "cell_type": "code",
      "source": [
        "def mm1_W_cum(lamda, mu, Num_Pkts):\n",
        "    Delay = mm1_W(lamda, mu, Num_Pkts)\n",
        "    Delay_Cum = []\n",
        "    for i in range(Num_Pkts):\n",
        "        Delay_Cum.append( sum(Delay[0:i+1])/(i+1) )\n",
        "\n",
        "    return Delay_Cum"
      ],
      "metadata": {
        "id": "_4817B3OSV4X"
      },
      "execution_count": 55,
      "outputs": []
    },
    {
      "cell_type": "markdown",
      "source": [
        "## Ejercicio 9"
      ],
      "metadata": {
        "id": "rsUbL4EMwjRW"
      }
    },
    {
      "cell_type": "markdown",
      "source": [
        "Método de Welch\n",
        "\n",
        "Elija el punto de corte, agregue las líneas de código necesarias para graficar una línea vertical y rotular el punto de corte."
      ],
      "metadata": {
        "id": "nPVmMi-2wpli"
      }
    },
    {
      "cell_type": "code",
      "source": [
        "lamda = 4.0\n",
        "mu = 6.0\n",
        "\n",
        "n = 10000                         # Número de clientes/paquetes simulados\n",
        "R = 5                             # Número de repeticiones\n",
        "\n",
        "Y =  np.zeros( shape = (R, n) )   # Variable de salida W\n",
        "W=[]\n",
        "\n",
        "# Generamos las muestras/repeticiones\n",
        "for i in range(R):\n",
        "    random.seed()\n",
        "    Y[i] = mm1_W_cum(lamda, mu, n)\n",
        "\n",
        "# Calculamos la media\n",
        "Z = []\n",
        "for i in range(n):\n",
        "    Z.append( sum(Y[:,i]) / R )\n",
        "\n",
        "# Punto de corte\n",
        "# Calcularemos la menor diferencia entre las graficas\n",
        "p=0\n",
        "for j in range(n):                        # Recorre los n puntos de la lista\n",
        "  \n",
        "  for i in range(R):                      # Recorre las R graficas\n",
        "    dif=Z[j]-Y[i,j]                       # Obtiene la diferencia del elemento j de Z entre la del lemento j de Y[i]\n",
        "    \n",
        "    if dif<0.0001:                        # Toma las diferencias menores de 0.0001\n",
        "      w=j                                 \n",
        "      W.append(w)                         # Agrega el número j a la lista W para saber en que puntos tiene menores diferencias\n",
        "    \n",
        "    if W.count(j)==4 and p<(n/5):         # Toma los valores j que se encuentran en W cuatro veces despues de n/5 para tener una mejor aproximación del punto de corte\n",
        "      xv=j\n",
        "      p=p+1\n",
        "\n",
        "#print(W,'\\n', len(W), xv)\n",
        "\n",
        "# Graficamos Y y Z\n",
        "fig = figure(1, figsize=(12, 8))\n",
        "plot(Y[0], \"k--\", label=\"Y[0]\", color='blue')\n",
        "plot(Y[1], \"k--\", label=\"Y[1]\", color='green')\n",
        "plot(Y[2], \"k--\", label=\"Y[2]\", color='red')\n",
        "plot(Y[3], \"k--\", label=\"Y[3]\", color='magenta')\n",
        "plot(Y[4], \"k--\", label=\"Y[4]\", color='cyan')\n",
        "plot(Z, \"k\", linewidth=2, label=\"Z\")\n",
        "axvline(xv, ymin=0, ymax=1, label=\"Linea de corte\", color='gray')           # Linea vertical del punto de corte\n",
        "plot(xv,Z[xv],\"o\",label=\"Punto de corte\",color=\"yellow\")                    # Punto de corte\n",
        "\n",
        "xlabel(\"$n$\", size=16)\n",
        "ylabel(\"$W_{cum}$\", size=16)\n",
        "legend(loc='upper right', shadow=True)\n",
        "show()"
      ],
      "metadata": {
        "colab": {
          "base_uri": "https://localhost:8080/",
          "height": 502
        },
        "id": "37ugt8kmyRcV",
        "outputId": "9405f905-a122-4f2a-aee7-6a00c9f7cf72"
      },
      "execution_count": 111,
      "outputs": [
        {
          "output_type": "display_data",
          "data": {
            "text/plain": [
              "<Figure size 864x576 with 1 Axes>"
            ],
            "image/png": "[encoded data removed]"
          },
          "metadata": {
            "needs_background": "light"
          }
        }
      ]
    },
    {
      "cell_type": "markdown",
      "source": [
        "## Funcion de prueba de corridas"
      ],
      "metadata": {
        "id": "WrJ3arl-RJ6d"
      }
    },
    {
      "cell_type": "code",
      "source": [
        "l= [946,1058,1133,869,927,742,1113,665,955,1288,1074,838,815,910,1193,\n",
        "    1386,955,1187,891,1302,867,837,1138,868,969,737,1143,947,763,1029]"
      ],
      "metadata": {
        "id": "aPLRmlvYRiQE"
      },
      "execution_count": 137,
      "outputs": []
    },
    {
      "cell_type": "code",
      "source": [
        "def prueba_corridas(l):   # Prueba de corridas donde regresa los estadisticos \n",
        "    \n",
        "    l_median = mean(l)    # Hacemos la prueba respecto a la media/mediana\n",
        "    \n",
        "    R, n1, n2 = 1, 0, 0   # iniciamos los contadores\n",
        "        \n",
        "    for i in range(len(l)):    \n",
        "        \n",
        "        # Aumentamos R cuando 2 entradas están una arriba y otra abajo de la media/mediana:\n",
        "        if (l[i] >= l_median and l[i-1] < l_median) or (l[i] < l_median and l[i-1] >= l_median):\n",
        "            R += 1\n",
        "        # Contamos las que están arriba y las que están abajo\n",
        "        if(l[i]) >= l_median:\n",
        "            n1 += 1\n",
        "        else:\n",
        "            n2 += 1   \n",
        "    # calculamos los parámetros y el estadistico\n",
        "    R_exp = ((2*n1*n2)/(n1+n2))+1\n",
        "    stan_dev = math.sqrt((2*n1*n2*(2*n1*n2-n1-n2))/(((n1+n2)**2)*(n1+n2-1))) \n",
        "  \n",
        "    z = (R - R_exp)/stan_dev\n",
        "  \n",
        "    return R, n1, n2, R_exp, z, stan_dev "
      ],
      "metadata": {
        "id": "gPZEm2JURQuP"
      },
      "execution_count": 130,
      "outputs": []
    },
    {
      "cell_type": "code",
      "source": [
        "R = prueba_corridas(l)[0]\n",
        "n1 = prueba_corridas(l)[1]\n",
        "n2 = prueba_corridas(l)[2]\n",
        "R_exp = abs(prueba_corridas(l)[3])\n",
        "Z = abs(prueba_corridas(l)[4]) \n",
        "stan_dev = abs(prueba_corridas(l)[5])\n",
        "\n",
        "print('Estadistico = ', Z)\n",
        "print('  R = ', R, '  R_exp = ', R_exp, '\\n n1 = ', n1, '\\n n2 = ', n2, '\\nVarianza = ', stan_dev**2)"
      ],
      "metadata": {
        "colab": {
          "base_uri": "https://localhost:8080/"
        },
        "id": "sr6mWWeDSy6p",
        "outputId": "631520bd-e8fc-4e5b-8d41-8fadc4a7bf10"
      },
      "execution_count": 131,
      "outputs": [
        {
          "output_type": "stream",
          "name": "stdout",
          "text": [
            "Estadistico =  1.3956221530306299\n",
            "  R =  19   R_exp =  15.4 \n",
            " n1 =  12 \n",
            " n2 =  18 \n",
            "Varianza =  6.653793103448275\n"
          ]
        }
      ]
    },
    {
      "cell_type": "markdown",
      "source": [
        "## Ejercicio 10"
      ],
      "metadata": {
        "id": "r6fFFAy0Rm_e"
      }
    },
    {
      "cell_type": "markdown",
      "source": [
        "*   Completar la función para que imprima todas las salidas de interés."
      ],
      "metadata": {
        "id": "K90UDHv9RqkJ"
      }
    },
    {
      "cell_type": "code",
      "source": [
        "def prueba_corridas_impr(l):   # Prueba de corridas donde imprime los estadisticos\n",
        "    \n",
        "    l_median = mean(l)         # Hacemos la prueba respecto a la media/mediana\n",
        "    \n",
        "    R, n1, n2 = 1, 0, 0        # iniciamos los contadores\n",
        "        \n",
        "    for i in range(len(l)):    \n",
        "        \n",
        "        # Aumentamos R cuando 2 entradas están una arriba y otra abajo de la media/mediana:\n",
        "        if (l[i] >= l_median and l[i-1] < l_median) or (l[i] < l_median and l[i-1] >= l_median):\n",
        "            R += 1\n",
        "        # Contamos las que están arriba y las que están abajo\n",
        "        if(l[i]) >= l_median:\n",
        "            n1 += 1\n",
        "        else:\n",
        "            n2 += 1   \n",
        "    # calculamos los parámetros y el estadistico\n",
        "    R_exp = ((2*n1*n2)/(n1+n2))+1\n",
        "    stan_dev = math.sqrt((2*n1*n2*(2*n1*n2-n1-n2))/(((n1+n2)**2)*(n1+n2-1))) \n",
        "  \n",
        "    z = (R - R_exp)/stan_dev\n",
        "\n",
        "    print('Estadistico = ', z)\n",
        "    print('  R = ', R, '  R_exp = ', R_exp, '\\n n1 = ', n1, '\\n n2 = ', n2, '\\nVarianza = ', stan_dev**2)"
      ],
      "metadata": {
        "id": "Y2cSz-w_SAgX"
      },
      "execution_count": 128,
      "outputs": []
    },
    {
      "cell_type": "code",
      "source": [
        "prueba_corridas_impr(l)"
      ],
      "metadata": {
        "colab": {
          "base_uri": "https://localhost:8080/"
        },
        "id": "0OR9U-ubVRTp",
        "outputId": "f8adb550-dad4-47c0-effd-e7d48231ff22"
      },
      "execution_count": 129,
      "outputs": [
        {
          "output_type": "stream",
          "name": "stdout",
          "text": [
            "Estadistico =  1.3956221530306299\n",
            "  R =  19   R_exp =  15.4 \n",
            " n1 =  12 \n",
            " n2 =  18 \n",
            "Varianza =  6.653793103448275\n"
          ]
        }
      ]
    },
    {
      "cell_type": "markdown",
      "source": [
        "*   Desordenar la lista y volver a aplicar la prueba de corridas. Comparar el resultado."
      ],
      "metadata": {
        "id": "dXkqCl9OUmXj"
      }
    },
    {
      "cell_type": "code",
      "source": [
        "dl=[]\n",
        "dl=l\n",
        "random.shuffle(dl)            # Desordenar la lista l\n",
        "\n",
        "print(\"dl =\",dl)              # Imprimir la lista l desordenada\n",
        "\n",
        "print('\\n')\n",
        "prueba_corridas_impr(dl)      # Prueba de corridas de la lista l desordenada"
      ],
      "metadata": {
        "colab": {
          "base_uri": "https://localhost:8080/"
        },
        "id": "hcajS3M1UwL5",
        "outputId": "cec7b143-7273-4193-a143-dbe0dab08763"
      },
      "execution_count": 142,
      "outputs": [
        {
          "output_type": "stream",
          "name": "stdout",
          "text": [
            "dl= [737, 1113, 947, 1386, 1074, 763, 1193, 867, 665, 1138, 868, 969, 946, 742, 1058, 1133, 891, 1143, 1288, 955, 910, 1029, 838, 1187, 927, 815, 837, 955, 869, 1302]\n",
            "\n",
            "\n",
            "Estadistico =  1.3956221530306299\n",
            "  R =  19   R_exp =  15.4 \n",
            " n1 =  12 \n",
            " n2 =  18 \n",
            "Varianza =  6.653793103448275\n"
          ]
        }
      ]
    },
    {
      "cell_type": "markdown",
      "source": [
        "Los estadisticos de la lista $l$ original y la desordenada son los mismos, por lo que **el orden de los elementos que componen una lista no afectan los estadisticos:** \n",
        "\n",
        "*Estadistico de prueba (Z)*, *Número de corridas (R)*, *Número de corridas esperadas (R_exp)*, *Varianza del número de corridas ($S^2$)*, *$n_1$ Número de valores positivos de la serie* y *$n_2$ número de valores negativos de la serie*.\n"
      ],
      "metadata": {
        "id": "dcOIB8dcYBDf"
      }
    },
    {
      "cell_type": "markdown",
      "source": [
        "*   Repetir el ejercicio con la lista l_1"
      ],
      "metadata": {
        "id": "bct6MoKlUwmN"
      }
    },
    {
      "cell_type": "code",
      "source": [
        "l_1 = [0.809, 0.042,  0.432,  0.538,  0.225,  0.88,  0.688,  0.772,  0.036,  0.854, 0.397,  0.268,  0.821,  0.897,  \n",
        "     0.07,  0.721,  0.087,  0.35,  0.779,  0.482, 0.136,  0.855,  0.453,  0.197,  0.444,  0.799,  0.809,  0.691,  \n",
        "     0.545,  0.857, 0.692,  0.055,  0.348, 0.373,  0.436,  0.29,  0.015,  0.834,  0.599,  0.724,  0.564,  0.709,  \n",
        "     0.946,  0.754,  0.677,  0.128,  0.012,  0.498,  0.6,  0.913]"
      ],
      "metadata": {
        "id": "qdHzxZd0U1Gi"
      },
      "execution_count": 143,
      "outputs": []
    },
    {
      "cell_type": "code",
      "source": [
        "prueba_corridas_impr(l_1)\n",
        "\n",
        "print('\\n')\n",
        "print('Desordenar la lista l_1 \\n')\n",
        "dl_1=[]\n",
        "dl_1=l_1\n",
        "random.shuffle(dl_1)              # Desordenar la lista l_1\n",
        "\n",
        "print(\"dl_1 =\",dl_1)              # Imprimir la lista l_1 desordenada\n",
        "\n",
        "print('\\n')\n",
        "prueba_corridas_impr(dl_1)        # Prueba de corridas de la lista l_1 desordenada"
      ],
      "metadata": {
        "colab": {
          "base_uri": "https://localhost:8080/"
        },
        "id": "lKZQUCAabDOP",
        "outputId": "f87b785b-88c7-45da-fdc8-0e2d1964c388"
      },
      "execution_count": 148,
      "outputs": [
        {
          "output_type": "stream",
          "name": "stdout",
          "text": [
            "Estadistico =  -0.24162863738560544\n",
            "  R =  25   R_exp =  25.84 \n",
            " n1 =  27 \n",
            " n2 =  23 \n",
            "Varianza =  12.085420408163268\n",
            "\n",
            "\n",
            "Desordenar la lista l_1 \n",
            "\n",
            "dl_1 = [0.599, 0.88, 0.779, 0.897, 0.397, 0.07, 0.691, 0.834, 0.724, 0.809, 0.913, 0.015, 0.29, 0.042, 0.809, 0.677, 0.498, 0.453, 0.373, 0.857, 0.564, 0.055, 0.538, 0.6, 0.688, 0.268, 0.444, 0.855, 0.854, 0.799, 0.482, 0.087, 0.225, 0.692, 0.136, 0.721, 0.772, 0.436, 0.432, 0.012, 0.709, 0.128, 0.821, 0.545, 0.348, 0.036, 0.946, 0.197, 0.754, 0.35]\n",
            "\n",
            "\n",
            "Estadistico =  -0.24162863738560544\n",
            "  R =  25   R_exp =  25.84 \n",
            " n1 =  27 \n",
            " n2 =  23 \n",
            "Varianza =  12.085420408163268\n"
          ]
        }
      ]
    },
    {
      "cell_type": "markdown",
      "source": [
        "Como lo vimos en el inciso anterior no cambian los estadisticos."
      ],
      "metadata": {
        "id": "B9810PUQbtdf"
      }
    },
    {
      "cell_type": "markdown",
      "source": [
        "## Sección nueva"
      ],
      "metadata": {
        "id": "LAOoHk0BcdJg"
      }
    }
  ]
}