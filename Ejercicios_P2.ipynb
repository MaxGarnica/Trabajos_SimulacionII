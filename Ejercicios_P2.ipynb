{
  "nbformat": 4,
  "nbformat_minor": 0,
  "metadata": {
    "colab": {
      "name": "Ejercicios P2.ipynb",
      "provenance": [],
      "authorship_tag": "ABX9TyNyZoVcSGGGQitfrmEiVihk",
      "include_colab_link": true
    },
    "kernelspec": {
      "name": "python3",
      "display_name": "Python 3"
    },
    "language_info": {
      "name": "python"
    }
  },
  "cells": [
    {
      "cell_type": "markdown",
      "metadata": {
        "id": "view-in-github",
        "colab_type": "text"
      },
      "source": [
        "<a href=\"https://colab.research.google.com/github/MaxGarnica/Trabajos_SimulacionII/blob/Ejercicios/Ejercicios_P2.ipynb\" target=\"_parent\"><img src=\"https://colab.research.google.com/assets/colab-badge.svg\" alt=\"Open In Colab\"/></a>"
      ]
    },
    {
      "cell_type": "markdown",
      "source": [
        "*Maximiliano Garnica López*\n",
        "\n",
        "*Ejercicios*\n",
        "\n",
        "*Simulación II*"
      ],
      "metadata": {
        "id": "fjXDowqRtsxN"
      }
    },
    {
      "cell_type": "markdown",
      "source": [
        "# **SEGUNDO PARCIAL**"
      ],
      "metadata": {
        "id": "lm8iQqtctvLq"
      }
    },
    {
      "cell_type": "code",
      "execution_count": 8,
      "metadata": {
        "id": "CiJJZ_64tpRf"
      },
      "outputs": [],
      "source": [
        "import random\n",
        "import matplotlib.pyplot as plt\n",
        "import numpy as np\n",
        "import pandas as pd\n",
        "from statistics import mean, median, variance, stdev "
      ]
    },
    {
      "cell_type": "markdown",
      "source": [
        "## Ejercicio 1\n",
        "Simulación manual."
      ],
      "metadata": {
        "id": "4UCWFNvmuDFc"
      }
    },
    {
      "cell_type": "markdown",
      "source": [
        "1. Completar la tabla.\n",
        "\n",
        "| Pkt No. |Tpll  |tps  |Tiempo de arribo|Inicio de servicio|Hora de salida|Tiempo en fila |Tiempo en el sistema  |\n",
        "|---------|-----|----|--------------|-------------------|----------------|---------------|-----------------| \n",
        "|    1    |  2  | 12 |       2      |         2         |      14        |      0        |       12        |\n",
        "|    2    |  5  | 10 |       7      |         14        |      24        |      7        |       17        | \n",
        "|    3    |  1  | 16 |       8       |     24              |   40             |  16             |      32           |\n",
        "|    4    |  4  | 9  |     12         |    40               |    49            |      28         |      37           |\n",
        "|    5    |  1  | 10 |      13        |        49           |    59            |      36         |       46          | \n",
        "|    6    |  3  | 13 |      16        |       59            |     72           |      43         |       56          |\n",
        "|    7    |  3  | 17 |      19        |      72             |      89          |        53       |       70          | \n",
        "|    8    |  2  | 10 |      21        |        89           |      99          |       68        |        78         |\n",
        "|    9    |  4  | 8  |      25        |        99           |      107          |        74       |      82           |\n",
        "|   10    |  5  | 12 |     30         |        107           |     119           |       77        |         89        |"
      ],
      "metadata": {
        "id": "Z_YawliNuHV-"
      }
    },
    {
      "cell_type": "markdown",
      "source": [
        "## Ejercicio 2\n",
        "\n",
        "Continuacion..."
      ],
      "metadata": {
        "id": "7EqcmxKhuPqb"
      }
    },
    {
      "cell_type": "markdown",
      "source": [
        "1. Con la información de la tabla completa, determinar: $\\lambda$, $\\mu$, $L$ y $L_q$.\n",
        "\n",
        "El número de llegadas por unidad de tiempo $\\lambda$ se obtiene con el total de llegadas que fueron $10$ entre el tiempo total en el que ocurrieron esas llegadas $30$ minutos"
      ],
      "metadata": {
        "id": "fMAW3AIruTP_"
      }
    },
    {
      "cell_type": "code",
      "source": [
        "lambd=10/30\n",
        "\n",
        "print('Número de llegadas por unidad de tiempo es λ=%.2f' %lambd)"
      ],
      "metadata": {
        "colab": {
          "base_uri": "https://localhost:8080/"
        },
        "id": "XQDWFQNSuWau",
        "outputId": "dd1fbc63-6e57-458b-8584-64cfba299c9c"
      },
      "execution_count": 9,
      "outputs": [
        {
          "output_type": "stream",
          "name": "stdout",
          "text": [
            "Número de llegadas por unidad de tiempo es λ=0.33\n"
          ]
        }
      ]
    },
    {
      "cell_type": "markdown",
      "source": [
        "El número de servicios por unidad de tiempo $\\mu$ se obtiene con el total de servicios que fueron $10$ entre el tiempo total donde se dieron los servicios que es desde el minuto $2$ hasta el $119$, obteniendo $117$ minutos."
      ],
      "metadata": {
        "id": "0I4EM5oDuk_J"
      }
    },
    {
      "cell_type": "code",
      "source": [
        "mu=10/117\n",
        "\n",
        "print('Número de servicios por unidad de tiempo es μ=%.2f' %mu)"
      ],
      "metadata": {
        "colab": {
          "base_uri": "https://localhost:8080/"
        },
        "id": "O6YvBpRdul4w",
        "outputId": "e61c0b46-2bfe-4945-b491-689099581eaf"
      },
      "execution_count": 10,
      "outputs": [
        {
          "output_type": "stream",
          "name": "stdout",
          "text": [
            "Número de servicios por unidad de tiempo es μ=0.09\n"
          ]
        }
      ]
    },
    {
      "cell_type": "markdown",
      "source": [
        "El número medio de clientes en el sistema $L$ se obtiene con la formula:\n",
        "\n",
        "$L= \\lambda W$\n",
        "\n",
        "El valor de $\\lambda$ ya lo tenemos. El de $W$ es el tiempo medio de estancia de los clientes en el sistema que se obtiene sacandole el promedio a la columna **Tiempo en el sistema**"
      ],
      "metadata": {
        "id": "QvTgXCxxupBU"
      }
    },
    {
      "cell_type": "code",
      "source": [
        "tiempsist=[12,17,32,37,46,56,70,78,82,89]\n",
        "\n",
        "W=mean(tiempsist)\n",
        "\n",
        "print('El tiempo medio de estancia de los clientes en el sistema es W=%.2f' %W)"
      ],
      "metadata": {
        "colab": {
          "base_uri": "https://localhost:8080/"
        },
        "id": "io_loZCjuuIc",
        "outputId": "50bb0764-201c-45a9-df9b-7222dccb9421"
      },
      "execution_count": 11,
      "outputs": [
        {
          "output_type": "stream",
          "name": "stdout",
          "text": [
            "El tiempo medio de estancia de los clientes en el sistema es W=51.90\n"
          ]
        }
      ]
    },
    {
      "cell_type": "markdown",
      "source": [
        "EL valor de $L$ es"
      ],
      "metadata": {
        "id": "r7sakQjKuwUo"
      }
    },
    {
      "cell_type": "code",
      "source": [
        "L=lambd*W\n",
        "\n",
        "print('El número medio de clientes en el sistema es L=%.2f' %L)"
      ],
      "metadata": {
        "colab": {
          "base_uri": "https://localhost:8080/"
        },
        "id": "aIHKI1rXu9sk",
        "outputId": "56c6b1ef-abfd-4771-dd6b-5acbf91234cd"
      },
      "execution_count": 12,
      "outputs": [
        {
          "output_type": "stream",
          "name": "stdout",
          "text": [
            "El número medio de clientes en el sistema es L=17.30\n"
          ]
        }
      ]
    },
    {
      "cell_type": "markdown",
      "source": [
        "El número medio de clientes en la cola $L_q$ se obtiene con la formula:\n",
        "\n",
        "$L_q = \\lambda W_q$\n",
        "\n",
        "El valor de $\\lambda$ ya lo tenemos. El de $W_q$ es el tiempo medio de espera de los clientes en la cola que se obtiene sacandole el promedio a la columna **Tiempo en fila**"
      ],
      "metadata": {
        "id": "aAfg035ju9IV"
      }
    },
    {
      "cell_type": "code",
      "source": [
        "tiempfila=[0,7,16,28,36,43,53,68,74,77]\n",
        "\n",
        "Wq=mean(tiempfila)\n",
        "\n",
        "print('El tiempo medio de espera de los clientes en la cola es W_q=%.2f' %Wq)"
      ],
      "metadata": {
        "colab": {
          "base_uri": "https://localhost:8080/"
        },
        "id": "HmBKVDIkvE1S",
        "outputId": "3444bbab-d5ad-4826-d331-bbac9ca08c83"
      },
      "execution_count": 13,
      "outputs": [
        {
          "output_type": "stream",
          "name": "stdout",
          "text": [
            "El tiempo medio de espera de los clientes en la cola es W_q=40.20\n"
          ]
        }
      ]
    },
    {
      "cell_type": "markdown",
      "source": [
        "EL valor de $L_q$ es"
      ],
      "metadata": {
        "id": "9CSr_cDBvJrC"
      }
    },
    {
      "cell_type": "code",
      "source": [
        "Lq=lambd*Wq\n",
        "\n",
        "print('El número medio de clientes en la cola es L_q=%.2f' %Lq)"
      ],
      "metadata": {
        "colab": {
          "base_uri": "https://localhost:8080/"
        },
        "id": "1mSaa37PvOmy",
        "outputId": "46c1be33-b7cd-4a8e-a897-817157d061a5"
      },
      "execution_count": 14,
      "outputs": [
        {
          "output_type": "stream",
          "name": "stdout",
          "text": [
            "El número medio de clientes en la cola es L_q=13.40\n"
          ]
        }
      ]
    },
    {
      "cell_type": "markdown",
      "source": [
        "## Ejercicio 3"
      ],
      "metadata": {
        "id": "ylgO5MHEvVOP"
      }
    },
    {
      "cell_type": "markdown",
      "source": [
        "1. Escribir el código para la subrutina que genera $T_s$."
      ],
      "metadata": {
        "id": "0fpyxy4ivWRq"
      }
    }
  ]
}