{
  "nbformat": 4,
  "nbformat_minor": 0,
  "metadata": {
    "colab": {
      "name": "Ejercicios P2.ipynb",
      "provenance": [],
      "collapsed_sections": [],
      "authorship_tag": "ABX9TyMM5d9OhFIZfSdPuJcAe1Gx",
      "include_colab_link": true
    },
    "kernelspec": {
      "name": "python3",
      "display_name": "Python 3"
    },
    "language_info": {
      "name": "python"
    }
  },
  "cells": [
    {
      "cell_type": "markdown",
      "metadata": {
        "id": "view-in-github",
        "colab_type": "text"
      },
      "source": [
        "<a href=\"https://colab.research.google.com/github/MaxGarnica/Trabajos_SimulacionII/blob/Tareas/Ejercicios_P2.ipynb\" target=\"_parent\"><img src=\"https://colab.research.google.com/assets/colab-badge.svg\" alt=\"Open In Colab\"/></a>"
      ]
    },
    {
      "cell_type": "markdown",
      "source": [
        "*Maximiliano Garnica López*\n",
        "\n",
        "*Ejercicios*\n",
        "\n",
        "*Simulación II*"
      ],
      "metadata": {
        "id": "fjXDowqRtsxN"
      }
    },
    {
      "cell_type": "markdown",
      "source": [
        "# **SEGUNDO PARCIAL**"
      ],
      "metadata": {
        "id": "lm8iQqtctvLq"
      }
    },
    {
      "cell_type": "code",
      "execution_count": 2,
      "metadata": {
        "id": "CiJJZ_64tpRf"
      },
      "outputs": [],
      "source": [
        "import random\n",
        "import matplotlib.pyplot as plt\n",
        "import numpy as np\n",
        "import pandas as pd\n",
        "from statistics import mean, median, variance, stdev \n",
        "from math import inf as Infinity"
      ]
    },
    {
      "cell_type": "markdown",
      "source": [
        "## Ejercicio 1\n",
        "Simulación manual."
      ],
      "metadata": {
        "id": "4UCWFNvmuDFc"
      }
    },
    {
      "cell_type": "markdown",
      "source": [
        "1. Completar la tabla.\n",
        "\n",
        "| Pkt No. |Tpll  |tps  |Tiempo de arribo|Inicio de servicio|Hora de salida|Tiempo en fila |Tiempo en el sistema  |\n",
        "|---------|-----|----|--------------|-------------------|----------------|---------------|-----------------| \n",
        "|    1    |  2  | 12 |       2      |         2         |      14        |      0        |       12        |\n",
        "|    2    |  5  | 10 |       7      |         14        |      24        |      7        |       17        | \n",
        "|    3    |  1  | 16 |       8       |     24              |   40             |  16             |      32           |\n",
        "|    4    |  4  | 9  |     12         |    40               |    49            |      28         |      37           |\n",
        "|    5    |  1  | 10 |      13        |        49           |    59            |      36         |       46          | \n",
        "|    6    |  3  | 13 |      16        |       59            |     72           |      43         |       56          |\n",
        "|    7    |  3  | 17 |      19        |      72             |      89          |        53       |       70          | \n",
        "|    8    |  2  | 10 |      21        |        89           |      99          |       68        |        78         |\n",
        "|    9    |  4  | 8  |      25        |        99           |      107          |        74       |      82           |\n",
        "|   10    |  5  | 12 |     30         |        107           |     119           |       77        |         89        |"
      ],
      "metadata": {
        "id": "Z_YawliNuHV-"
      }
    },
    {
      "cell_type": "markdown",
      "source": [
        "## Ejercicio 2\n",
        "\n",
        "Continuacion..."
      ],
      "metadata": {
        "id": "7EqcmxKhuPqb"
      }
    },
    {
      "cell_type": "markdown",
      "source": [
        "1. Con la información de la tabla completa, determinar: $\\lambda$, $\\mu$, $L$ y $L_q$.\n",
        "\n",
        "El número de llegadas por unidad de tiempo $\\lambda$ se obtiene con el total de llegadas que fueron $10$ entre el tiempo total en el que ocurrieron esas llegadas $30$ minutos"
      ],
      "metadata": {
        "id": "fMAW3AIruTP_"
      }
    },
    {
      "cell_type": "code",
      "source": [
        "lambd=10/30\n",
        "\n",
        "print('Número de llegadas por unidad de tiempo es λ=%.2f' %lambd)"
      ],
      "metadata": {
        "colab": {
          "base_uri": "https://localhost:8080/"
        },
        "id": "XQDWFQNSuWau",
        "outputId": "e8c5a203-6d5d-4ae5-c33d-348fe6dc7311"
      },
      "execution_count": 4,
      "outputs": [
        {
          "output_type": "stream",
          "name": "stdout",
          "text": [
            "Número de llegadas por unidad de tiempo es λ=0.33\n"
          ]
        }
      ]
    },
    {
      "cell_type": "markdown",
      "source": [
        "El número de servicios por unidad de tiempo $\\mu$ se obtiene con el total de servicios que fueron $10$ entre el tiempo total donde se dieron los servicios que es desde el minuto $2$ hasta el $119$, obteniendo $117$ minutos."
      ],
      "metadata": {
        "id": "0I4EM5oDuk_J"
      }
    },
    {
      "cell_type": "code",
      "source": [
        "mu=10/117\n",
        "\n",
        "print('Número de servicios por unidad de tiempo es μ=%.2f' %mu)"
      ],
      "metadata": {
        "colab": {
          "base_uri": "https://localhost:8080/"
        },
        "id": "O6YvBpRdul4w",
        "outputId": "3f1be614-18fd-415f-e996-8177acd823c5"
      },
      "execution_count": 5,
      "outputs": [
        {
          "output_type": "stream",
          "name": "stdout",
          "text": [
            "Número de servicios por unidad de tiempo es μ=0.09\n"
          ]
        }
      ]
    },
    {
      "cell_type": "markdown",
      "source": [
        "El número medio de clientes en el sistema $L$ se obtiene con la formula:\n",
        "\n",
        "$L= \\lambda W$\n",
        "\n",
        "El valor de $\\lambda$ ya lo tenemos. El de $W$ es el tiempo medio de estancia de los clientes en el sistema que se obtiene sacandole el promedio a la columna **Tiempo en el sistema**"
      ],
      "metadata": {
        "id": "QvTgXCxxupBU"
      }
    },
    {
      "cell_type": "code",
      "source": [
        "tiempsist=[12,17,32,37,46,56,70,78,82,89]\n",
        "\n",
        "W=mean(tiempsist)\n",
        "\n",
        "print('El tiempo medio de estancia de los clientes en el sistema es W=%.2f' %W)"
      ],
      "metadata": {
        "colab": {
          "base_uri": "https://localhost:8080/"
        },
        "id": "io_loZCjuuIc",
        "outputId": "18c195b6-b234-482b-ee6d-c9176cbad3f7"
      },
      "execution_count": 6,
      "outputs": [
        {
          "output_type": "stream",
          "name": "stdout",
          "text": [
            "El tiempo medio de estancia de los clientes en el sistema es W=51.90\n"
          ]
        }
      ]
    },
    {
      "cell_type": "markdown",
      "source": [
        "EL valor de $L$ es"
      ],
      "metadata": {
        "id": "r7sakQjKuwUo"
      }
    },
    {
      "cell_type": "code",
      "source": [
        "L=lambd*W\n",
        "\n",
        "print('El número medio de clientes en el sistema es L=%.2f' %L)"
      ],
      "metadata": {
        "colab": {
          "base_uri": "https://localhost:8080/"
        },
        "id": "aIHKI1rXu9sk",
        "outputId": "b95b454b-c212-4af2-e78c-b1eae8f1436e"
      },
      "execution_count": 7,
      "outputs": [
        {
          "output_type": "stream",
          "name": "stdout",
          "text": [
            "El número medio de clientes en el sistema es L=17.30\n"
          ]
        }
      ]
    },
    {
      "cell_type": "markdown",
      "source": [
        "El número medio de clientes en la cola $L_q$ se obtiene con la formula:\n",
        "\n",
        "$L_q = \\lambda W_q$\n",
        "\n",
        "El valor de $\\lambda$ ya lo tenemos. El de $W_q$ es el tiempo medio de espera de los clientes en la cola que se obtiene sacandole el promedio a la columna **Tiempo en fila**"
      ],
      "metadata": {
        "id": "aAfg035ju9IV"
      }
    },
    {
      "cell_type": "code",
      "source": [
        "tiempfila=[0,7,16,28,36,43,53,68,74,77]\n",
        "\n",
        "Wq=mean(tiempfila)\n",
        "\n",
        "print('El tiempo medio de espera de los clientes en la cola es W_q=%.2f' %Wq)"
      ],
      "metadata": {
        "colab": {
          "base_uri": "https://localhost:8080/"
        },
        "id": "HmBKVDIkvE1S",
        "outputId": "ba55e789-f790-4c38-bfe4-84f3f0fd0acf"
      },
      "execution_count": 8,
      "outputs": [
        {
          "output_type": "stream",
          "name": "stdout",
          "text": [
            "El tiempo medio de espera de los clientes en la cola es W_q=40.20\n"
          ]
        }
      ]
    },
    {
      "cell_type": "markdown",
      "source": [
        "EL valor de $L_q$ es"
      ],
      "metadata": {
        "id": "9CSr_cDBvJrC"
      }
    },
    {
      "cell_type": "code",
      "source": [
        "Lq=lambd*Wq\n",
        "\n",
        "print('El número medio de clientes en la cola es L_q=%.2f' %Lq)"
      ],
      "metadata": {
        "colab": {
          "base_uri": "https://localhost:8080/"
        },
        "id": "1mSaa37PvOmy",
        "outputId": "7ff736d0-df9a-42e7-c6b4-930093841c09"
      },
      "execution_count": 9,
      "outputs": [
        {
          "output_type": "stream",
          "name": "stdout",
          "text": [
            "El número medio de clientes en la cola es L_q=13.40\n"
          ]
        }
      ]
    },
    {
      "cell_type": "markdown",
      "source": [
        "## Ejercicio 3"
      ],
      "metadata": {
        "id": "ylgO5MHEvVOP"
      }
    },
    {
      "cell_type": "markdown",
      "source": [
        "**Variables:**\n",
        "\n",
        "1. Variable de tiempo $t$: tiempo (simulado) transcurrido.\n",
        "\n",
        "2. Variables de conteo: número de veces que ciertos eventos han ocurrido, hasta el instante $t$.\n",
        "    \n",
        "3. Variables de estado del sistema (ES): Describen el estado del sistema en el instante $t$."
      ],
      "metadata": {
        "id": "mLmiRX-ZRzxe"
      }
    },
    {
      "cell_type": "markdown",
      "source": [
        "Subrutina para generar $T_s$, el tiempo de la primera llegada después del instante s."
      ],
      "metadata": {
        "id": "M8gk2WplR5Vx"
      }
    },
    {
      "cell_type": "markdown",
      "source": [
        "Paso 1: Sea $t = s$.\n",
        "\n",
        "Paso 2: Generar $U$.\n",
        "\n",
        "Paso 3: Sea $t = t - \\frac{1}{\\lambda} logU$.\n",
        "\n",
        "Paso 4: Generar $U$.\n",
        "\n",
        "Paso 5: Si $U \\leq \\frac{\\lambda(t)}{\\lambda}$, hacer $T_s = t$ y terminar.\n",
        "\n",
        "Paso 6: Ir al paso 2."
      ],
      "metadata": {
        "id": "ur3s5aRtR9eq"
      }
    },
    {
      "cell_type": "markdown",
      "source": [
        "1. Escribir el código para la subrutina que genera $T_s$."
      ],
      "metadata": {
        "id": "0fpyxy4ivWRq"
      }
    },
    {
      "cell_type": "code",
      "source": [
        "s=2                                               #Tiempo promedio entre llegadas\n",
        "i=0                                               #Variable de estado para terminar el ciclo\n",
        "t=s                                               #Hora de simulación actual\n",
        "while i==0 :\n",
        "  r1=random.random()                              #Generar U~(0,1)\n",
        "  t=t-(1/lambd)*np.log(r1)\n",
        "  r2=random.random()                              #Generar U~(0,1)\n",
        "\n",
        "  if (r2<=(random.expovariate(t)/lambd)):         #Si U<=λ(t)/λ\n",
        "    Ts=t\n",
        "    i=1                                           #Termina el ciclo\n",
        "  \n",
        "print('Ts = %f' %Ts)"
      ],
      "metadata": {
        "colab": {
          "base_uri": "https://localhost:8080/"
        },
        "id": "HU2AK4eyTVsv",
        "outputId": "0ee6610a-3461-41c2-9f8b-cd2f93a9327d"
      },
      "execution_count": 19,
      "outputs": [
        {
          "output_type": "stream",
          "name": "stdout",
          "text": [
            "Ts = 2.763267\n"
          ]
        }
      ]
    },
    {
      "cell_type": "markdown",
      "source": [
        "## Ejercicio:"
      ],
      "metadata": {
        "id": "0we05yx2SohN"
      }
    },
    {
      "cell_type": "markdown",
      "source": [
        "Lavado Automata para automóviles funciona sólo con un lugar. Los autos llegan siguiendo\n",
        "una distribución de Poisson, con 4 autos por hora, que pueden esperar en el estacionamiento de\n",
        "la instalación, si el lugar de lavado está ocupado. El tiempo para lavar y limpiar un automóvil\n",
        "es exponencial, con 10 minutos de promedio. Los automóviles que no se pueden estacionar en\n",
        "la instalación pueden esperar en el arrollo junto al lavado. Eso quiere decir que para todo fin\n",
        "práctico no hay límite del tamaño del sistema. El gerente de la instalación desea determinar el\n",
        "tamaño del estacionamiento.\n",
        "\n",
        "Para resolver este problema, hay que determinar $L_q$, pero de momento estimemos $L$ y $W$ usando la simulación."
      ],
      "metadata": {
        "id": "L0LXiRSLSvmG"
      }
    },
    {
      "cell_type": "markdown",
      "source": [
        "El número de autos que llegaron en una hora es $λ=4$\n",
        "\n",
        "El número de servicios de autos por hora es de $μ= \\frac{1}{10} \\text{minutos} =\\frac{60}{10} \\text{horas}= 6$"
      ],
      "metadata": {
        "id": "MuraqcaqUH2f"
      }
    },
    {
      "cell_type": "code",
      "source": [
        "# Parametros\n",
        "\n",
        "lamda = 4.0                         # Razón de arrivos (1/Lambda)\n",
        "mu = 6.0                            # Razón de salida (1/Mu)\n",
        "\n",
        "\n",
        "Num_Pkts = 100                      # Numero de paquetes a simular\n",
        "count = 0                           # Contador de paquetes simulados\n",
        "t = 0\n",
        "N = 0                               # Variable de estado: numero de paquetes en el sistema\n",
        "\n",
        "tll = random.expovariate(lamda)     # Tiempo de llegada\n",
        "ts = Infinity                       # Tiempo de salida\n",
        "\n",
        "t_evento_anterior = 0.0             # tiempo del último evento\n",
        "\n",
        "\n",
        "# Variables de salida\n",
        "tll_Data = []                       # Lista de tiempos de llegada\n",
        "ts_Data = []                        # Lista de tiempos de salida\n",
        "r_Data = []                         # Lista de retrasos individuales\n",
        "Area = []                           # Area de escalón\n",
        "\n",
        "\n",
        "while count < Num_Pkts:\n",
        "    if tll < ts:                           # Evento de llegada\n",
        "        t = tll\n",
        "        tll_Data.append(t)\n",
        "        \n",
        "        # Area del escalón\n",
        "        Area.append((t - t_evento_anterior)*N)\n",
        "        t_evento_anterior = t\n",
        "        \n",
        "        \n",
        "        N = N + 1.0\n",
        "        tll = t + random.expovariate(lamda) \n",
        "        if N == 1:\n",
        "            ts = t + random.expovariate(mu)\n",
        "    else:                                         # Evento de salida\n",
        "        t = ts\n",
        "        ts_Data.append(t)\n",
        "        \n",
        "        # Area del escalón\n",
        "        Area.append((t - t_evento_anterior)*N)\n",
        "        t_evento_anterior = t\n",
        "        \n",
        "        \n",
        "        N = N - 1.0\n",
        "        count = count + 1                         # Paquetes simulados\n",
        "        if N > 0:\n",
        "            ts = t + random.expovariate(mu)\n",
        "        else:\n",
        "            ts = Infinity\n",
        "            \n",
        "# Estimación del retraso promedio:\n",
        "\n",
        "for i in range(Num_Pkts):\n",
        "    d = ts_Data[i] - tll_Data[i]\n",
        "    r_Data.append(d)\n",
        "\n",
        "print( \"Retraso promedio es W = \", round( mean(r_Data), 4) )\n",
        "print( \"E[ N(t)] = L = \", round(sum(Area)/t, 4))"
      ],
      "metadata": {
        "colab": {
          "base_uri": "https://localhost:8080/"
        },
        "id": "Eu5OoEa5UlMB",
        "outputId": "c2510400-8705-4871-dd27-3f63725a1216"
      },
      "execution_count": 18,
      "outputs": [
        {
          "output_type": "stream",
          "name": "stdout",
          "text": [
            "Retraso promedio es W =  0.2803\n",
            "E[ N(t)] = L =  1.0527\n"
          ]
        }
      ]
    },
    {
      "cell_type": "markdown",
      "source": [
        "## Ejercicio 4"
      ],
      "metadata": {
        "id": "hVfWCzVLS-rI"
      }
    },
    {
      "cell_type": "markdown",
      "source": [
        "Calcular $L_q$ para el ejemplo anterior, usando las fórmulas de arriba."
      ],
      "metadata": {
        "id": "9PNrrJ9JTNZK"
      }
    },
    {
      "cell_type": "markdown",
      "source": [
        "El número medio de clientes en la cola $L_q$ se obtiene con la formula:\n",
        "\n",
        "$L_q = \\lambda W_q$\n",
        "\n",
        "El valor de $\\lambda$ ya lo tenemos. El de $W_q$ es el tiempo medio de espera de los clientes en la cola que se obtiene sacandole el promedio a todos **Tiempos en fila** que obtendremos con $\\text{tll_Data}$ y $\\text{ts_Data}$"
      ],
      "metadata": {
        "id": "VP_GUPdEbW_8"
      }
    },
    {
      "cell_type": "code",
      "source": [
        "# Tiempo de arribo ***********************************************************************************\n",
        "ta_Data=[]\n",
        "tar=tll_Data[0]                                   #Tiempo de arribo inicial = Tiempo de llegada inicial\n",
        "ta_Data.append(tar)\n",
        "\n",
        "for i in range(Num_Pkts):\n",
        "    tar = tar + tll_Data[i+1]                     #Tiempo de arribo = Tiempo de arribo anterior + Tiempo de llegada\n",
        "    ta_Data.append(tar)\n",
        "\n",
        "# Inicio de servicio ***********************************************************************************\n",
        "Is_Data=[]\n",
        "Iser=tll_Data[0]                                  #Tiempo de inicio de servicio inicial = Tiempo de llegada inicial\n",
        "Is_Data.append(Iser)\n",
        "\n",
        "for i in range(Num_Pkts):\n",
        "    Iser = Iser + ts_Data[i]                     #Tiempo de inicio de servicio = Tiempo de inicio de servicio anterior + Tiempo de salida\n",
        "    Is_Data.append(Iser)\n",
        "\n",
        "# Tiempo en la fila ***********************************************************************************\n",
        "Tf_Data=[]\n",
        "\n",
        "for i in range(Num_Pkts):\n",
        "    tfila = Is_Data[i]-ta_Data[i]               #Tiempo en la fila = Tiempo de inicio de servicio - Tiempo de arribo\n",
        "    Tf_Data.append(tfila)\n",
        "\n",
        "#print(tll_Data)\n",
        "#print(ts_Data)\n",
        "#print(ta_Data)\n",
        "#print(Is_Data)\n",
        "#print(Tf_Data)\n",
        "\n",
        "# Tiempo medio de espera de los clientes en la cola ***********************************************************************************\n",
        "\n",
        "Wq1=mean(Tf_Data)\n",
        "\n",
        "print('El tiempo medio de espera de los clientes en la cola es W_q=%.2f' %Wq1)"
      ],
      "metadata": {
        "colab": {
          "base_uri": "https://localhost:8080/"
        },
        "id": "7bOA-GhPbQGa",
        "outputId": "0092463b-01e9-4c6f-e30b-34fdc66a7cc9"
      },
      "execution_count": 17,
      "outputs": [
        {
          "output_type": "stream",
          "name": "stdout",
          "text": [
            "El tiempo medio de espera de los clientes en la cola es W_q=2.10\n"
          ]
        }
      ]
    },
    {
      "cell_type": "code",
      "source": [
        "Lq1=lamda*Wq1\n",
        "\n",
        "print('El número medio de clientes en la cola es L_q=%.2f' %Lq1)"
      ],
      "metadata": {
        "colab": {
          "base_uri": "https://localhost:8080/"
        },
        "id": "D_-uBh-aXlW6",
        "outputId": "31ddb4fb-f23e-440a-938e-adebc3611665"
      },
      "execution_count": null,
      "outputs": [
        {
          "output_type": "stream",
          "name": "stdout",
          "text": [
            "El número medio de clientes en la cola es L_q=38.72\n"
          ]
        }
      ]
    },
    {
      "cell_type": "markdown",
      "source": [
        "## Ejercicio 5"
      ],
      "metadata": {
        "id": "mbl48KK16mI-"
      }
    },
    {
      "cell_type": "markdown",
      "source": [
        "En una estación con un solo servidor llegan en promedio 45 clientes por hora. Se tiene capacidad para atender \n",
        "en promedio a 60 clientes por hora. Se sabe que los clientes esperan en promedio 3 minutos en la cola.\n",
        "Se solicita determinar: \n",
        "* Tiempo promedio que un cliente pasa en el sistema. \n",
        "* Número promedio de clientes en la cola. \n",
        "* Número promedio de clientes en el Sistema en un momento dado.\n",
        "\n",
        "Use la simulación para responder y luego verifique los resultados usando las fórmulas de arriba."
      ],
      "metadata": {
        "id": "UAs4gSUcB86f"
      }
    },
    {
      "cell_type": "code",
      "source": [
        "# Parametros\n",
        "\n",
        "lamda = 45/60                       # Razón de arrivos (1/Lambda)\n",
        "mu = 60/60                          # Razón de salida (1/Mu)\n",
        "\n",
        "\n",
        "Num_Pkts = 100                      # Numero de paquetes a simular\n",
        "count = 0                           # Contador de paquetes simulados\n",
        "t = 0\n",
        "N = 0                               # Variable de estado: numero de paquetes en el sistema\n",
        "\n",
        "tll = random.expovariate(lamda)     # Tiempo de llegada\n",
        "ts = Infinity                       # Tiempo de salida\n",
        "\n",
        "t_evento_anterior = 0.0             # tiempo del último evento\n",
        "\n",
        "\n",
        "# Variables de salida\n",
        "tll_Data = []                       # Lista de tiempos de llegada\n",
        "ts_Data = []                        # Lista de tiempos de salida\n",
        "r_Data = []                         # Lista de retrasos individuales\n",
        "Area = []                           # Area de escalón\n",
        "\n",
        "\n",
        "while count < Num_Pkts:\n",
        "    if tll < ts:                           # Evento de llegada\n",
        "        t = tll\n",
        "        tll_Data.append(t)\n",
        "        \n",
        "        # Area del escalón\n",
        "        Area.append((t - t_evento_anterior)*N)\n",
        "        t_evento_anterior = t\n",
        "        \n",
        "        \n",
        "        N = N + 1.0\n",
        "        tll = t + random.expovariate(lamda) \n",
        "        if N == 1:\n",
        "            ts = t + random.expovariate(mu)\n",
        "    else:                                         # Evento de salida\n",
        "        t = ts\n",
        "        ts_Data.append(t)\n",
        "        \n",
        "        # Area del escalón\n",
        "        Area.append((t - t_evento_anterior)*N)\n",
        "        t_evento_anterior = t\n",
        "        \n",
        "        \n",
        "        N = N - 1.0\n",
        "        count = count + 1                         # Paquetes simulados\n",
        "        if N > 0:\n",
        "            ts = t + random.expovariate(mu)\n",
        "        else:\n",
        "            ts = Infinity\n",
        "            \n",
        "# Estimación del retraso promedio:\n",
        "\n",
        "for i in range(Num_Pkts):\n",
        "    d = ts_Data[i] - tll_Data[i]\n",
        "    r_Data.append(d)\n",
        "\n",
        "print( \"Tiempo promedio que un cliente pasa en el sistema es W = \", round( mean(r_Data), 4) )\n",
        "\n",
        "# Tiempo medio de espera de los clientes en la cola\n",
        "wq=3\n",
        "lq=lamda*wq\n",
        "print('El número medio de clientes en la cola es L_q=%.2f' %lq)\n",
        "\n",
        "print( \"Número promedio de clientes en el sistema E[ N(t)] = L = \", round(sum(Area)/t, 4))"
      ],
      "metadata": {
        "colab": {
          "base_uri": "https://localhost:8080/"
        },
        "id": "PSubINdf6rq3",
        "outputId": "838ef7da-9880-43e2-9bfc-42da355f375c"
      },
      "execution_count": 43,
      "outputs": [
        {
          "output_type": "stream",
          "name": "stdout",
          "text": [
            "Tiempo promedio que un cliente pasa en el sistema es W =  5.3528\n",
            "El número medio de clientes en la cola es L_q=2.25\n",
            "Número promedio de clientes en el sistema E[ N(t)] = L =  4.0398\n"
          ]
        }
      ]
    },
    {
      "cell_type": "markdown",
      "source": [
        "## Ejercicio 6"
      ],
      "metadata": {
        "id": "KiVCwB0jM_BX"
      }
    },
    {
      "cell_type": "markdown",
      "source": [
        "¿Cómo accedemos al elemento 'c' de la lista [3, 'c'] dentro de lista?"
      ],
      "metadata": {
        "id": "v8VNGKDzNG0b"
      }
    },
    {
      "cell_type": "code",
      "source": [
        "lista = [1,2,3,4,5, 'a', 'b', 'c', [1,2], [3, 'c']]\n",
        "\n",
        "elemento=lista[9]\n",
        "print(elemento)\n",
        "\n",
        "c=elemento[1]\n",
        "print(c)"
      ],
      "metadata": {
        "colab": {
          "base_uri": "https://localhost:8080/"
        },
        "id": "RtMS0ezwOzaj",
        "outputId": "32d08aeb-d625-4778-d02d-bc4e0e198d17"
      },
      "execution_count": 51,
      "outputs": [
        {
          "output_type": "stream",
          "name": "stdout",
          "text": [
            "[3, 'c']\n",
            "c\n"
          ]
        }
      ]
    },
    {
      "cell_type": "markdown",
      "source": [
        "## Ejercicio 7"
      ],
      "metadata": {
        "id": "FCFOHCA5Pd6j"
      }
    },
    {
      "cell_type": "code",
      "source": [
        "a = [1, 2, 3, 4, 5]\n",
        "b = [6,7,8,9,10]"
      ],
      "metadata": {
        "id": "8O_UWQoGPxqb"
      },
      "execution_count": 53,
      "outputs": []
    },
    {
      "cell_type": "markdown",
      "source": [
        "Calcular el promedio de:\n",
        "\n",
        "* a"
      ],
      "metadata": {
        "id": "IxIr_BjEPhzX"
      }
    },
    {
      "cell_type": "code",
      "source": [
        "proma=sum(a)/len(a)                    #Promedio a = suma de las entradas de a entre la longitud de a\n",
        "print('Promedio de a es %d' %proma)"
      ],
      "metadata": {
        "colab": {
          "base_uri": "https://localhost:8080/"
        },
        "id": "ex_CTgrnP4Sf",
        "outputId": "fe8e279e-7033-46c1-c830-9da7d981a261"
      },
      "execution_count": 57,
      "outputs": [
        {
          "output_type": "stream",
          "name": "stdout",
          "text": [
            "Promedio de a es 3\n"
          ]
        }
      ]
    },
    {
      "cell_type": "markdown",
      "source": [
        "* b"
      ],
      "metadata": {
        "id": "nHjolsgKQbUJ"
      }
    },
    {
      "cell_type": "code",
      "source": [
        "promb=sum(b)/len(b)                    #Promedio b = suma de las entradas de b entre la longitud de b\n",
        "print('Promedio de b es %d' %promb)"
      ],
      "metadata": {
        "colab": {
          "base_uri": "https://localhost:8080/"
        },
        "id": "QDWVbyPaQiPR",
        "outputId": "41621e1c-e09e-4b99-aa7b-12212daffd32"
      },
      "execution_count": 58,
      "outputs": [
        {
          "output_type": "stream",
          "name": "stdout",
          "text": [
            "Promedio de b es 8\n"
          ]
        }
      ]
    },
    {
      "cell_type": "markdown",
      "source": [
        "* 5a ¿Es igual a 5*(promedio de a)?"
      ],
      "metadata": {
        "id": "HjlNhDsoQoLv"
      }
    },
    {
      "cell_type": "code",
      "source": [
        "mult1=5*a                               #Calculamos 5*a\n",
        "print('5*a=%a\\n' %mult1)\n",
        "\n",
        "prom1=sum(mult1)/len(mult1)             #Promedio 5*a = suma de las entradas de 5*a entre la longitud de 5*a\n",
        "print('\\t Promedio 5*a es %d \\n' %prom1)\n",
        "\n",
        "mult2=5*proma                           #5*(Promedio a)\n",
        "print('5*(promedio de a)=%d' %mult2)"
      ],
      "metadata": {
        "colab": {
          "base_uri": "https://localhost:8080/"
        },
        "id": "USwlNbpyQprB",
        "outputId": "002d6395-d545-45ce-afd1-bbe2d8e149e8"
      },
      "execution_count": 67,
      "outputs": [
        {
          "output_type": "stream",
          "name": "stdout",
          "text": [
            "5*a=[1, 2, 3, 4, 5, 1, 2, 3, 4, 5, 1, 2, 3, 4, 5, 1, 2, 3, 4, 5, 1, 2, 3, 4, 5]\n",
            "\n",
            "\t Promedio 5*a es 3 \n",
            "\n",
            "5*(promedio de a)=15\n"
          ]
        }
      ]
    },
    {
      "cell_type": "markdown",
      "source": [
        "No son iguales, ya que al multiplicar $5*a$ repites el arreglo $\\text{a}$ $5$ veces en un nuevo arreglo lo que provoca que su promedio sea $3$ al igual que el promedio de $\\text{a}$ y el segundo obtiene el promedio de a $3$ por $5$ que da $15$"
      ],
      "metadata": {
        "id": "-VXsVSlYRPbe"
      }
    },
    {
      "cell_type": "markdown",
      "source": [
        "* a + b ¿Es igual a la suma de los promedios?"
      ],
      "metadata": {
        "id": "CMaCljqzR4w_"
      }
    },
    {
      "cell_type": "code",
      "source": [
        "sum1=a+b                                              #Calculamos a+b\n",
        "print('a+b=%a \\n' %sum1)\n",
        "\n",
        "prom2=sum(sum1)/len(sum1)                             #Promedio a+b = suma de las entradas de a+b entre la longitud de a+b\n",
        "print('\\t Promedio a+b es %d \\n' %prom2)\n",
        "\n",
        "sum2=proma+promb                                      #(promedio de a)+(promedio de b)\n",
        "print('(promedio de a)+(promedio de b)=%d' %sum2)"
      ],
      "metadata": {
        "colab": {
          "base_uri": "https://localhost:8080/"
        },
        "id": "9AJfjMEVR93y",
        "outputId": "d7b8057c-fa54-4318-aed5-5e33e53acb30"
      },
      "execution_count": 69,
      "outputs": [
        {
          "output_type": "stream",
          "name": "stdout",
          "text": [
            "a+b=[1, 2, 3, 4, 5, 6, 7, 8, 9, 10] \n",
            "\n",
            "\t Promedio a+b es 5 \n",
            "\n",
            "(promedio de a)+(promedio de b)=11\n"
          ]
        }
      ]
    },
    {
      "cell_type": "markdown",
      "source": [
        "No son iguales, ya que al sumar $a+b$ pone los dos arreglos en uno solo lo que provoca que su promedio sea $5$ y el segundo obtiene la suma de los promedios de $\\text{a}$ y $\\text{b}$ lo que da $11$"
      ],
      "metadata": {
        "id": "GdDkBjONVlel"
      }
    },
    {
      "cell_type": "markdown",
      "source": [
        "## Ejercicio 8"
      ],
      "metadata": {
        "id": "3gCdyHdSWZjx"
      }
    },
    {
      "cell_type": "markdown",
      "source": [
        "1.  Generar una lista de 20 números aleatorios. "
      ],
      "metadata": {
        "id": "p41DyukMWaKa"
      }
    },
    {
      "cell_type": "code",
      "source": [
        "numa=[]\n",
        "\n",
        "for i in range(20):                 #Genera una lista de 20 números aleatorios\n",
        "  numa.append(random.random())\n",
        "\n",
        "print(numa)                         #Imprime lista de los 20 números aleatorios"
      ],
      "metadata": {
        "colab": {
          "base_uri": "https://localhost:8080/"
        },
        "id": "AhUp43ATWiya",
        "outputId": "04d93fea-496b-414a-e7c8-8a1992c6c563"
      },
      "execution_count": 75,
      "outputs": [
        {
          "output_type": "stream",
          "name": "stdout",
          "text": [
            "[0.30511415313073154, 0.24732994924740015, 0.8506376455868718, 0.6021668587948119, 0.6968718051658932, 0.05497187790642499, 0.03550683732607296, 0.6091607856412605, 0.7864553857174894, 0.8220734965906901, 0.596542644885076, 0.6998001730173199, 0.8562845053742039, 0.6162629851071548, 0.4018868771754298, 0.604647732623977, 0.637303209318017, 0.42660573882547104, 0.6038082032079548, 0.5222293387722077]\n"
          ]
        }
      ]
    },
    {
      "cell_type": "markdown",
      "source": [
        "2.   Obtener el promedio de los 10 últimos números generados."
      ],
      "metadata": {
        "id": "2gHmVGezXcnS"
      }
    },
    {
      "cell_type": "code",
      "source": [
        "ult10=numa[10:]\n",
        "print(ult10)\n",
        "\n",
        "promu=sum(ult10)/len(ult10)\n",
        "print('\\nPromedio de los ultimos 10 numeros generados es %f' %promu)"
      ],
      "metadata": {
        "colab": {
          "base_uri": "https://localhost:8080/"
        },
        "id": "5QXvzUNVXws2",
        "outputId": "a81d2a28-da7c-4fcc-c484-b1ad1e30fae6"
      },
      "execution_count": 82,
      "outputs": [
        {
          "output_type": "stream",
          "name": "stdout",
          "text": [
            "[0.596542644885076, 0.6998001730173199, 0.8562845053742039, 0.6162629851071548, 0.4018868771754298, 0.604647732623977, 0.637303209318017, 0.42660573882547104, 0.6038082032079548, 0.5222293387722077]\n",
            "\n",
            "Promedio de los ultimos 10 numeros generados es 0.596537\n"
          ]
        }
      ]
    },
    {
      "cell_type": "markdown",
      "source": [
        "## Codigo Probabilidad"
      ],
      "metadata": {
        "id": "t_7iBWteLJw4"
      }
    },
    {
      "cell_type": "code",
      "source": [
        "# Parametros\n",
        "\n",
        "lamda = 4.0                         # Razón de arrivos (1/Lambda)\n",
        "mu = 6.0                            # Razón de salida (1/Mu)\n",
        "\n",
        "\n",
        "Num_Pkts = 100000                   # Numero de paquetes a simular\n",
        "#T = 100000\n",
        "count = 0                           # Contador de paquetes simulados\n",
        "t = 0\n",
        "N = 0                               # Variable de estado: numero de paquetes en el sistema\n",
        "\n",
        "tll = random.expovariate(lamda)     # Tiempo de llegada\n",
        "ts = Infinity                       # Tiempo de salida\n",
        "t_evento_anterior = 0.0             # tiempo del último evento\n",
        "\n",
        "# Variables de salida\n",
        "tll_Data = []                       # Lista de tiempos de llegada\n",
        "ts_Data = []                        # Lista de tiempos de salida\n",
        "r_Data = []                         # Lista de retrasos individuales\n",
        "\n",
        "Data = {}                           # Diccionario\n",
        "\n",
        "while count < Num_Pkts:\n",
        "#while t < T:\n",
        "    if tll < ts:                                 # Evento de llegada\n",
        "        t = tll\n",
        "        \n",
        "        # Longitud del intervalo entre llegadas\n",
        "        delta = t - t_evento_anterior\n",
        "        if N in Data: \n",
        "            Data[N] += delta\n",
        "        else:\n",
        "            Data[N] = delta\n",
        "        t_evento_anterior = t\n",
        "        \n",
        "        tll_Data.append(t)\n",
        "        N = N + 1.0\n",
        "        tll = t + random.expovariate(lamda) \n",
        "        if N == 1:\n",
        "            ts = t + random.expovariate(mu)\n",
        "    else:                                         # Evento de salida\n",
        "        t = ts\n",
        "        \n",
        "        # Longitud del intervalo de tiempo\n",
        "        delta = t - t_evento_anterior\n",
        "        if N in Data:\n",
        "            Data[N] += delta\n",
        "        else:\n",
        "            Data[N] = delta\n",
        "        t_evento_anterior = t\n",
        "        \n",
        "        ts_Data.append(t)\n",
        "        N = N - 1.0\n",
        "        count = count + 1                         # Paquetes simulados\n",
        "        if N > 0:\n",
        "            ts = t + random.expovariate(mu)\n",
        "        else:\n",
        "            ts = Infinity\n",
        "\n",
        "##################################### se procesan los datos de salida ########################################\n",
        "            \n",
        "# Estimación del retraso promedio:\n",
        "\n",
        "for i in range(Num_Pkts):\n",
        "#for i in range(T):\n",
        "    d = ts_Data[i] - tll_Data[i]\n",
        "    r_Data.append(d)\n",
        "\n",
        "print( \"Retraso promedio = \", round( mean(r_Data), 4) )\n",
        "\n",
        "# Estimación de la probabilidad de P(N=k):\n",
        "for (key, value) in Data.items():\n",
        "    Data[key] = value/t\n",
        "\n",
        "# Se verifica que la probabilidad total es 1.0\n",
        "\n",
        "print('Suma de probabilidades =', sum(Data.values()))\n",
        "\n",
        "# Se verifican los valores de expectación\n",
        "media = 0.0\n",
        "\n",
        "for (key, value) in Data.items():\n",
        "    media = media + key*value\n",
        "    print(key, round(value, 4))\n",
        "print('E[N] = ', media)"
      ],
      "metadata": {
        "colab": {
          "base_uri": "https://localhost:8080/"
        },
        "id": "ABIL6y3qLRuV",
        "outputId": "046e3a9b-591e-4c8e-c18a-7b6014aa5834"
      },
      "execution_count": 48,
      "outputs": [
        {
          "output_type": "stream",
          "name": "stdout",
          "text": [
            "Retraso promedio =  0.5042\n",
            "Suma de probabilidades = 1.0\n",
            "0 0.3302\n",
            "1.0 0.2217\n",
            "2.0 0.1476\n",
            "3.0 0.0979\n",
            "4.0 0.0676\n",
            "5.0 0.0446\n",
            "6.0 0.0304\n",
            "7.0 0.0204\n",
            "8.0 0.0134\n",
            "9.0 0.0087\n",
            "10.0 0.0056\n",
            "11.0 0.0036\n",
            "12.0 0.0026\n",
            "13.0 0.0018\n",
            "14.0 0.0013\n",
            "15.0 0.0009\n",
            "16.0 0.0008\n",
            "17.0 0.0004\n",
            "18.0 0.0002\n",
            "19.0 0.0001\n",
            "20.0 0.0\n",
            "21.0 0.0\n",
            "22.0 0.0\n",
            "23.0 0.0\n",
            "24.0 0.0\n",
            "25.0 0.0\n",
            "26.0 0.0\n",
            "E[N] =  2.0256653983098207\n"
          ]
        }
      ]
    }
  ]
}